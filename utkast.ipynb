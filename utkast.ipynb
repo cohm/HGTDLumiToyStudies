{
 "cells": [
  {
   "cell_type": "code",
   "execution_count": 1,
   "metadata": {},
   "outputs": [
    {
     "name": "stdout",
     "output_type": "stream",
     "text": [
      "Welcome to JupyROOT 6.22/02\n"
     ]
    }
   ],
   "source": [
    "# Import all necessary packages\n",
    "import ROOT\n",
    "import numpy as np"
   ]
  },
  {
   "attachments": {},
   "cell_type": "markdown",
   "metadata": {},
   "source": [
    "<h4>Totalt bakgrundsbrus</h4>\n",
    "Totala bakgrundsbruset kan beräknas genom formeln\n",
    "$$\\textrm{total noise} = (s_{large}-s_{small})\\cdot \\frac{t_{large}}{t_{large}-t_{small}}$$\n",
    "Där s<sub>large</sub> är uppmätta signalen från stora fönstret och s<sub>small</sub> är uppmätta signalen från lilla fönstret.\n",
    "\n",
    "Totala signalen från \"ickebrus\" bör alltså vara:\n",
    "$$s = s_{large}-\\textrm{total noise} = s_{large}-(s_{large}-s_{small})\\cdot \\frac{t_{large}}{t_{large}-t_{small}}=\\frac{t_{large}s_{small}-t_{small}s_{large}}{t_{large}-t_{small}}$$"
   ]
  },
  {
   "attachments": {},
   "cell_type": "markdown",
   "metadata": {},
   "source": [
    "<h4>Antal partiklar</h4>\n",
    "Frågan är nu hur vi beräknar den mängd partiklar som hamnar under tröskelvärdet och därför inte mäts."
   ]
  },
  {
   "cell_type": "markdown",
   "metadata": {},
   "source": [
    "<h5>Frågor till mig själv...</h5>\n",
    "<ul>\n",
    "    <li>Hur får man fram osäkerheten i bruset? Är det ens intressant eller har det för liten påverkan?</li>\n",
    "</ul>"
   ]
  },
  {
   "cell_type": "code",
   "execution_count": null,
   "metadata": {},
   "outputs": [],
   "source": []
  }
 ],
 "metadata": {
  "kernelspec": {
   "display_name": "Python 3",
   "language": "python",
   "name": "python3"
  },
  "language_info": {
   "codemirror_mode": {
    "name": "ipython",
    "version": 3
   },
   "file_extension": ".py",
   "mimetype": "text/x-python",
   "name": "python",
   "nbconvert_exporter": "python",
   "pygments_lexer": "ipython3",
   "version": "3.8.2"
  }
 },
 "nbformat": 4,
 "nbformat_minor": 4
}
