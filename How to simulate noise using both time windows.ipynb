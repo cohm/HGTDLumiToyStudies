{
 "cells": [
  {
   "cell_type": "markdown",
   "metadata": {},
   "source": [
    "Large time window 25ns\n",
    "\n",
    "small time window 3.125ns"
   ]
  },
  {
   "cell_type": "code",
   "execution_count": 1,
   "metadata": {},
   "outputs": [
    {
     "name": "stdout",
     "output_type": "stream",
     "text": [
      "Welcome to JupyROOT 6.22/02\n"
     ]
    }
   ],
   "source": [
    "import ROOT\n",
    "import time"
   ]
  },
  {
   "cell_type": "code",
   "execution_count": 35,
   "metadata": {},
   "outputs": [],
   "source": [
    "class noise_generator:\n",
    "    def __init__(self, treshold, channel_count):\n",
    "        noise = ROOT.TF1(\"noise_gauss\", \"TMath::Gaus(x, 0, 5)\", 0, 1000)\n",
    "        # Question: How sould the normalization be made, from -1000 to 1000 or from 0 to 1000?\n",
    "        self._mean = channel_count * noise.Integral(treshold, 1000)/noise.Integral(0, 1000)\n",
    "        self._prng = ROOT.TRandom3(time.time_ns())\n",
    "\n",
    "    def generate(self):\n",
    "        total = self._prng.Poisson(self._mean)\n",
    "        narrow = 0\n",
    "        for i in range(total):\n",
    "            if self._prng.Uniform(25) < 3.125:\n",
    "                narrow += 1\n",
    "        estimate = 3.125 * (total - narrow)/(25 - 3.125)\n",
    "        return narrow, estimate"
   ]
  },
  {
   "cell_type": "markdown",
   "metadata": {},
   "source": [
    "### Example"
   ]
  },
  {
   "cell_type": "code",
   "execution_count": 85,
   "metadata": {},
   "outputs": [
    {
     "name": "stdout",
     "output_type": "stream",
     "text": [
      "32 27.714285714285715\n"
     ]
    }
   ],
   "source": [
    "# Create a noise generator by passing treshold and channel count as paramaters\n",
    "my_noise_generator = noise_generator(20, 3.6 * 1e6)\n",
    "\n",
    "# The first return value is the exact number of noise activated channels in the small window and\n",
    "# the second return value is the estimated number of noise activated channels in the small window.\n",
    "exact, estimate = my_noise_generator.generate()\n",
    "\n",
    "print(exact, estimate)"
   ]
  }
 ],
 "metadata": {
  "kernelspec": {
   "display_name": "Python 3",
   "language": "python",
   "name": "python3"
  },
  "language_info": {
   "codemirror_mode": {
    "name": "ipython",
    "version": 3
   },
   "file_extension": ".py",
   "mimetype": "text/x-python",
   "name": "python",
   "nbconvert_exporter": "python",
   "pygments_lexer": "ipython3",
   "version": "3.8.2"
  }
 },
 "nbformat": 4,
 "nbformat_minor": 4
}
