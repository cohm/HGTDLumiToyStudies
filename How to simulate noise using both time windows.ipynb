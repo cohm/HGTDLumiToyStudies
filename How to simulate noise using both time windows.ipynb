{
 "cells": [
  {
   "cell_type": "markdown",
   "metadata": {},
   "source": [
    "Large time window 25ns\n",
    "\n",
    "small time window 3.125ns"
   ]
  },
  {
   "cell_type": "code",
   "execution_count": 1,
   "metadata": {},
   "outputs": [
    {
     "name": "stdout",
     "output_type": "stream",
     "text": [
      "Welcome to JupyROOT 6.22/02\n"
     ]
    }
   ],
   "source": [
    "import ROOT\n",
    "import time"
   ]
  },
  {
   "cell_type": "code",
   "execution_count": 2,
   "metadata": {},
   "outputs": [],
   "source": [
    "class noise_generator:\n",
    "    def __init__(self, treshold, channel_count):\n",
    "        noise = ROOT.TF1(\"noise_gauss\", \"TMath::Gaus(x, 0, 5)\", 0, 1000)\n",
    "        # Question: How sould the normalization be made, from -1000 to 1000 or from 0 to 1000?\n",
    "        self._mean = channel_count * noise.Integral(treshold, 1000)/noise.Integral(0, 1000)\n",
    "        self._prng = ROOT.TRandom3(time.time_ns())\n",
    "\n",
    "    def generate(self):\n",
    "        total = self._prng.Poisson(self._mean)\n",
    "        narrow = 0\n",
    "        for i in range(total):\n",
    "            if self._prng.Uniform(25) < 3.125:\n",
    "                narrow += 1\n",
    "        estimate = 3.125 * (total - narrow)/(25 - 3.125)\n",
    "        return narrow, estimate\n",
    "    \n",
    "    \n",
    "class signal_generator:\n",
    "    def __init__(self):\n",
    "        self._prng = ROOT.TRandom3(time.time_ns())\n",
    "    \n",
    "    def generate(self, treshold, expected_voltage, expected_count):\n",
    "        signal_count = self._prng.Poisson(expected_count)\n",
    "        above_treshold_count = 0\n",
    "        for i in range(signal_count):\n",
    "            if self._prng.Landau(expected_voltage, expected_voltage/4) > treshold:\n",
    "                above_treshold_count += 1\n",
    "        return signal_count, above_treshold_count"
   ]
  },
  {
   "cell_type": "markdown",
   "metadata": {},
   "source": [
    "### Example"
   ]
  },
  {
   "cell_type": "code",
   "execution_count": 3,
   "metadata": {},
   "outputs": [
    {
     "name": "stdout",
     "output_type": "stream",
     "text": [
      "28 32.57142857142857\n",
      "23 23\n"
     ]
    }
   ],
   "source": [
    "# Create a noise generator by passing treshold and channel count as paramaters\n",
    "my_noise_generator = noise_generator(20, 3.6 * 1e6)\n",
    "\n",
    "# The first return value is the exact number of noise activated channels in the small window and\n",
    "# the second return value is the estimated number of noise activated channels in the small window.\n",
    "exact, estimate = my_noise_generator.generate()\n",
    "\n",
    "print(exact, estimate)\n",
    "\n",
    "# Create a signal generator\n",
    "my_signal_generator = signal_generator()\n",
    "\n",
    "# the first paramater is the treshold, the second paramater is the expected peak voltage and the third\n",
    "# paramater is the expected number of particles to reach the detector.\n",
    "# The first return value is the number of particles that reached the detector and the second return\n",
    "# value is the number of activated channels.\n",
    "all_count, above_treshold = my_signal_generator.generate(20, 100, 30)\n",
    "\n",
    "print(all_count, above_treshold)"
   ]
  }
 ],
 "metadata": {
  "kernelspec": {
   "display_name": "Python 3",
   "language": "python",
   "name": "python3"
  },
  "language_info": {
   "codemirror_mode": {
    "name": "ipython",
    "version": 3
   },
   "file_extension": ".py",
   "mimetype": "text/x-python",
   "name": "python",
   "nbconvert_exporter": "python",
   "pygments_lexer": "ipython3",
   "version": "3.8.2"
  }
 },
 "nbformat": 4,
 "nbformat_minor": 4
}
