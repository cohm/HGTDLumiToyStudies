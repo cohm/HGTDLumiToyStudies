{
 "cells": [
  {
   "cell_type": "code",
   "execution_count": 9,
   "metadata": {},
   "outputs": [
    {
     "name": "stdout",
     "output_type": "stream",
     "text": [
      "TMath::Landau(x, s, 10.000000)\n"
     ]
    }
   ],
   "source": [
    "print (\"TMath::Landau(x, %s, %f)\" % (\"s\" , 10))"
   ]
  },
  {
   "cell_type": "code",
   "execution_count": 104,
   "metadata": {},
   "outputs": [
    {
     "name": "stdout",
     "output_type": "stream",
     "text": [
      "Will now draw bg\n",
      "Will now draw signal\n",
      "Will now draw bg\n",
      "Will now draw signal\n"
     ]
    },
    {
     "name": "stderr",
     "output_type": "stream",
     "text": [
      "Warning in <TCanvas::Constructor>: Deleting canvas with same name: PulseAmplitudes\n",
      "Warning in <TCanvas::Constructor>: Deleting canvas with same name: PulseAmplitudes1\n"
     ]
    },
    {
     "data": {
      "image/png": "[encoded data removed]",
      "text/plain": [
       "<IPython.core.display.Image object>"
      ]
     },
     "metadata": {},
     "output_type": "display_data"
    },
    {
     "data": {
      "image/png": "[encoded data removed]",
      "text/plain": [
       "<IPython.core.display.Image object>"
      ]
     },
     "metadata": {},
     "output_type": "display_data"
    }
   ],
   "source": [
    "import ROOT\n",
    "\n",
    "plotXStart = -100\n",
    "plotXEnd = 400\n",
    "\n",
    "sigmaNoise = 5  # we'll work in mV, so this means the standard deviation for the noise is 5 mV\n",
    "sigmaSignal = 20\n",
    "MPV = 100\n",
    "\n",
    "# let's create a function describing the distribution of amplitudes we expect to get from electronic noise\n",
    "fNoise = ROOT.TF1(\"ElecNoiseBg\", \"TMath::Gaus(x, 0, %f)\" % sigmaNoise, plotXStart, plotXEnd) # define it in [-100, 500] mV\n",
    "fNoise2 = ROOT.TF1(\"ElecNoiseBg2\", \"TMath::Gaus(x, 0, %f)\" % sigmaNoise, plotXStart, plotXEnd) # define it in [-100, 500] mV\n",
    "fNoise.SetNpx(1000) # this makes sure the function is drawn with many points, to remove jaggedness (default is 100)\n",
    "fNoise2.SetNpx(1000) # this makes sure the function is drawn with many points, to remove jaggedness (default is 100)\n",
    "\n",
    "fSignal = ROOT.TF1(\"Signal\", \"TMath::Landau(x, %f, %f)\" % (MPV, sigmaSignal), plotXStart, plotXEnd) \n",
    "fSignal2 = ROOT.TF1(\"Signal2\", \"TMath::Landau(x, %f, %f)\" % (MPV, sigmaSignal), plotXStart, plotXEnd) \n",
    "fSignal.SetNpx(1000)\n",
    "fSignal2.SetNpx(1000)\n",
    "\n",
    "# we need to create a canvas to draw our functions on\n",
    "canvas = ROOT.TCanvas(\"PulseAmplitudes\", \"Pulse amplitudes\", 500, 375)\n",
    "#fNoise.Draw()\n",
    "#fSignal.Draw(\"SAME\") # the option draws this function on top of anything that was already on the canvas\n",
    "\n",
    "\n",
    "fNoise.GetHistogram().GetXaxis().SetTitle(\"Amplitude [mV]\")\n",
    "fNoise.GetHistogram().GetYaxis().SetTitle(\"Number of pulses [a.u.]\")\n",
    "fNoise.SetTitle(\"\") # remove the title\n",
    "fNoise2.SetTitle(\"\") # remove the title\n",
    "#canvas.Draw()\n",
    "\n",
    "# let's make it easier to draw these with different colors etc through a dict\n",
    "# this dict will be used to set the style of the various functions and histograms we'll make\n",
    "plots = {\n",
    "    \"bg\" : {\n",
    "        \"hist\" : fNoise,\n",
    "        \"color\" : ROOT.kRed,\n",
    "        \"drawrangex\" : [-100, 400],\n",
    "        \"drawrangey\" : [-0.1, 1.1]\n",
    "    },\n",
    "    \"signal\" : {\n",
    "        \"hist\" : fSignal,\n",
    "        \"color\" : ROOT.kBlack,\n",
    "        \"drawrangex\" : [-100, 400],\n",
    "        \"drawrangey\" : [-0.1, 1.1]\n",
    "    }\n",
    "}\n",
    "plots2 = {\n",
    "    \"bg\" : {\n",
    "        \"hist\" : fNoise2,\n",
    "        \"color\" : ROOT.kRed,\n",
    "        \"drawrangex\" : [-100, 400],\n",
    "        \"drawrangey\" : [1e-25, 100]\n",
    "    },\n",
    "    \"signal\" : {\n",
    "        \"hist\" : fSignal2,\n",
    "        \"color\" : ROOT.kBlack,\n",
    "        \"drawrangex\" : [-100, 400],\n",
    "        \"drawrangey\" : [1e-25, 100]\n",
    "    }\n",
    "}\n",
    "\n",
    "# function to draw all functions\n",
    "def drawFunctions(plots):\n",
    "    counter = 0\n",
    "    \n",
    "    for p in plots:\n",
    "        print(\"Will now draw %s\" % p)\n",
    "        plots[p][\"hist\"].SetLineColor(plots[p][\"color\"])\n",
    "        plots[p][\"hist\"].GetXaxis().SetRangeUser(plots[p][\"drawrangex\"][0], plots[p][\"drawrangex\"][1])\n",
    "        plots[p][\"hist\"].GetYaxis().SetRangeUser(plots[p][\"drawrangey\"][0], plots[p][\"drawrangey\"][1])\n",
    "        #plots[p][\"hist\"].SetMaximum(plots[p][\"drawrangey\"][1])\n",
    "        #plots[p][\"hist\"].SetMinimum(plots[p][\"drawrangey\"][1])\n",
    "        \n",
    "        plots[p][\"hist\"].SetMinimum(plots[p][\"drawrangey\"][0])\n",
    "        plots[p][\"hist\"].SetMaximum(plots[p][\"drawrangey\"][1])\n",
    "        \n",
    "            \n",
    "        drawOptions = \"\"\n",
    "        if counter > 0:\n",
    "            drawOptions += \"LSAME\"\n",
    "        plots[p][\"hist\"].Draw(drawOptions)\n",
    "        counter += 1\n",
    "        \n",
    "drawFunctions(plots)\n",
    "canvas.Draw()\n",
    "\n",
    "canvas1 = ROOT.TCanvas(\"PulseAmplitudes1\", \"Pulse amplitudes\", 500, 375)\n",
    "canvas1.SetLogy(1)\n",
    "drawFunctions(plots2)\n",
    "canvas1.Draw()"
   ]
  },
  {
   "cell_type": "code",
   "execution_count": 107,
   "metadata": {},
   "outputs": [
    {
     "name": "stdout",
     "output_type": "stream",
     "text": [
      "Fraction of signal pulses below threshold: 2.124902E-03\n",
      "Fraction of background pulses above threshold: 7.754164E-24\n"
     ]
    }
   ],
   "source": [
    "# let's see what fraction of the pulses we'll get if we put a threshold at 50 mV\n",
    "threshold = 50 # corresponding to 5 sigma for the bg\n",
    "selectedSignal = fSignal.Integral(threshold, plotXEnd)\n",
    "allSignal = fSignal.Integral(plotXStart, plotXEnd)\n",
    "print(\"Fraction of signal pulses below threshold: %E\" % ((allSignal-selectedSignal)/allSignal))\n",
    "\n",
    "selectedNoise = fNoise.Integral(threshold, plotXEnd)\n",
    "allNoise = fNoise.Integral(plotXStart, plotXEnd)\n",
    "print(\"Fraction of background pulses above threshold: %E\" % (selectedNoise/allNoise))"
   ]
  },
  {
   "cell_type": "code",
   "execution_count": 110,
   "metadata": {},
   "outputs": [
    {
     "name": "stdout",
     "output_type": "stream",
     "text": [
      "18.465878893385028\n",
      "12.533141373155\n",
      "3.887361160324546e-16\n"
     ]
    }
   ],
   "source": [
    "# given that HGTD has 4M channels, how many noise hits do we expect in an event where the whole\n",
    "# detector is read out, with the current S/B (100/5 = 20) and this threshold?\n",
    "#allNoise*(selectedNoise/allNoise)\n",
    "print(allSignal)\n",
    "print(allNoise)\n",
    "print(selectedNoise*4e6)"
   ]
  },
  {
   "cell_type": "code",
   "execution_count": null,
   "metadata": {},
   "outputs": [],
   "source": [
    "# What happens when  the response to real particles deteriorates and S/B gets worse?"
   ]
  }
 ],
 "metadata": {
  "kernelspec": {
   "display_name": "Python 3",
   "language": "python",
   "name": "python3"
  },
  "language_info": {
   "codemirror_mode": {
    "name": "ipython",
    "version": 3
   },
   "file_extension": ".py",
   "mimetype": "text/x-python",
   "name": "python",
   "nbconvert_exporter": "python",
   "pygments_lexer": "ipython3",
   "version": "3.6.6"
  }
 },
 "nbformat": 4,
 "nbformat_minor": 2
}
