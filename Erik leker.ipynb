{
 "cells": [
  {
   "cell_type": "code",
   "execution_count": 2,
   "metadata": {},
   "outputs": [
    {
     "name": "stdout",
     "output_type": "stream",
     "text": [
      "Welcome to JupyROOT 6.22/02\n"
     ]
    }
   ],
   "source": [
    "import ROOT"
   ]
  },
  {
   "cell_type": "markdown",
   "metadata": {},
   "source": [
    "Vi har eget möte tisdag 3 november kl 09:15.\n",
    "\n",
    "Vad är stråldos för någonting? (enhet)\n",
    "\n",
    "Vi vill göra klart för oss vilken data vi har tillgång till och vad som är känt om fördelningarna.\n",
    "hur ofta får man en puls från vardera fördelning, brus, signal.\n",
    "\n",
    "kan vi använda det större fönstret tillsammans med det lilla för att bestämma \"event_ratio\"?\n",
    "\n",
    "fungerar sensorn en samplingsmetod? AKA samplar den signalen vid diskreta tidpunkter.\n",
    "\n",
    "kan samma sensor räkna flera partiklar under det lilla tidsfönstret\n",
    "\n",
    "förmodligen inte superintressant, två partiklar som kommer efter varandra innom mycket kort tid, vad händer då?\n",
    "\n",
    "<br><br><br><br><br>\n",
    "\n",
    "\n",
    "Sensorn kan inte detektera om flera partiklar åker igenom efter vrandra under det lilla tidsfönstret.\n",
    "\n",
    "Vi vill ta reda på hut väl vi kan bestämma bruset.\n",
    "\n",
    "stråldos, neutron equivalent sensorn ska klara 10^15 neutroner vilket blir efter några år. är per ytenhet.\n",
    "\n",
    "Vi kan anta att vi vet hur fördelningen av signalen ser ut. Bruset ser sut som det gör och ändras inte med strålning.\n",
    "\n",
    "https://atlas.web.cern.ch/Atlas/GROUPS/PHYSICS/UPGRADE/CERN-LHCC-2020-007/fig_014a.png\n",
    "\n",
    "olika delar av samma modul kommer att utsättas för olika stråldos.\n",
    "\n",
    "\n",
    "Jag vill studera hur fel värden man får om man inte vet det normalfördelade brusets standardavvilkelse ordentligt. Man skulle för övrigt kunna anta att vi inte vet mu eller sigma för landaufördelningen för signalen heller.\n",
    "\n",
    "Vet vi mu och sigma exakt för signalen så kan vi helt enkelt sätta ett högt tröskelvärde för att få med försummbart lite brus och sedan använda kunskap om distributionen för att beräkna det faktiska antalet träffar. Likaså om vi vet brusets standardavvikelse exakt kan vi sätta tröskelvärdet lågt för att detektera nästan alla riktiga träffar och använda kunskapen om bruset för att räkna ut antalet faktiska träffar.\n",
    "\n",
    "Kör vi en kort tid kommer denna metod inte fungera särskilt bra eftersom slumpen spelar en större roll som vår kunskap om den teoretiska fördelningen inte kan kompensera för.\n",
    "\n",
    "Givetvis kan vi inte veta varken det ena eller det andra exakt och därför ger rimligtvis ett tröskelvärde som är en mellangrund till dessa extremer bäst noggrannhet.\n",
    "\n",
    "Som jag har förstått det kan vi använda det större tidsfönstret för att bestämma standardavvikelsen hos bruset, stämmer detta? Isåfall, hur går det till och hur noga kan vi göra det?\n",
    "\n",
    "Tillåter sensorn att mäta energinivåerna på signalen eller kan vi bara säga om det är över eller under vårt tröskelvärde? Vi mäter bara träff eller inte, antal i stora och antal i lila fönstret.\n",
    "\n",
    "Poissionförddelning av antalet kollisioner per bunch crosssing. Okej kan vi utnyttja detta på något sätt?\n",
    "\n",
    "I projektintroduktionen/beskrivningen står att S/B förväntas sjunka från 20 då sensorerna är nya till omkring 4 då sensorerna har blivit slitna, och Ohm sa att detta främst sker genom att signalstyrkan minskar och inte att bruset ökar."
   ]
  },
  {
   "cell_type": "markdown",
   "metadata": {},
   "source": [
    "Här räknar vi ut exakta fördelningarna"
   ]
  },
  {
   "cell_type": "code",
   "execution_count": 6,
   "metadata": {},
   "outputs": [
    {
     "name": "stdout",
     "output_type": "stream",
     "text": [
      "0.9999999998229326 3.1671241833119924e-05\n"
     ]
    },
    {
     "name": "stderr",
     "output_type": "stream",
     "text": [
      "Warning in <TCanvas::Constructor>: Deleting canvas with same name: I dont even know where this will show up\n"
     ]
    },
    {
     "data": {
      "image/png": "[encoded data removed]",
      "text/plain": [
       "<IPython.core.display.Image object>"
      ]
     },
     "metadata": {},
     "output_type": "display_data"
    }
   ],
   "source": [
    "noise_sigma = 5 # mV\n",
    "signal_mu = 100 # mV\n",
    "signal_sigma = 20 # mV\n",
    "\n",
    "fNoise = ROOT.TF1(\"ElecNoiseBg\", \"TMath::Gaus(x, 0, %f)\" % noise_sigma, -100, 500)\n",
    "fNoise.SetNpx(10000)\n",
    "fSignal = ROOT.TF1(\"Signal\", \"TMath::Landau(x, %f, %f)\" % (signal_mu, signal_sigma), -100, 500)\n",
    "fSignal.SetNpx(10000)\n",
    "\n",
    "canvas = ROOT.TCanvas(\"I dont even know where this will show up\", \"not this either\", 800, 600)\n",
    "\n",
    "fNoise.Draw()\n",
    "fNoise.GetHistogram().GetXaxis().SetTitle(\"x\")\n",
    "fNoise.GetHistogram().GetYaxis().SetTitle(\"y\")\n",
    "fNoise.SetTitle(\"Otroligt bra titel\")\n",
    "\n",
    "\n",
    "fSignal.Draw(\"SAME\")\n",
    "fSignal.GetHistogram().GetXaxis().SetTitle(\"x\")\n",
    "fSignal.GetHistogram().GetYaxis().SetTitle(\"y\")\n",
    "fSignal.SetTitle(\"En titel\")\n",
    "\n",
    "threshold = 20\n",
    "\n",
    "all_signal = fSignal.Integral(-100, 500)\n",
    "all_noise = fNoise.Integral(-100, 500)\n",
    "\n",
    "threshold_signal = fSignal.Integral(threshold, 500)\n",
    "threshold_noise = fNoise.Integral(threshold, 500)\n",
    "\n",
    "expected_signal_above = threshold_signal/all_signal\n",
    "expected_noise_above = threshold_noise/all_noise\n",
    "\n",
    "print(expected_signal_above, expected_noise_above)\n",
    "\n",
    "canvas.Draw()"
   ]
  },
  {
   "cell_type": "markdown",
   "metadata": {},
   "source": [
    "Tanken är här att simulera det ovan och använda de kända intervallen för att kompensera och se hur bra anpassning vi får."
   ]
  },
  {
   "cell_type": "code",
   "execution_count": 7,
   "metadata": {
    "scrolled": false
   },
   "outputs": [
    {
     "name": "stdout",
     "output_type": "stream",
     "text": [
      "1.0000000001770675 1.2629754213859197\n"
     ]
    },
    {
     "name": "stderr",
     "output_type": "stream",
     "text": [
      "Warning in <TROOT::Append>: Replacing existing TH1: randomnumbers (Potential memory leak).\n"
     ]
    },
    {
     "data": {
      "image/png": "[encoded data removed]",
      "text/plain": [
       "<IPython.core.display.Image object>"
      ]
     },
     "metadata": {},
     "output_type": "display_data"
    }
   ],
   "source": [
    "hist = ROOT.TH1F(\"randomnumbers\", \"test\", 200, -100, 500)\n",
    "prng = ROOT.TRandom3(123)\n",
    "\n",
    "event_count = 100000\n",
    "event_ratio = 0.5 # relevant fråga: vad räknas som en störning?\n",
    "signal_count = int(round(event_count * event_ratio))\n",
    "noise_count = event_count - signal_count\n",
    "\n",
    "noise_above_count = 0\n",
    "signal_above_count = 0\n",
    "\n",
    "for i in range(signal_count):\n",
    "    signal = prng.Landau(signal_mu, signal_sigma)\n",
    "    hist.Fill(signal)\n",
    "    if signal > threshold:\n",
    "        signal_above_count += 1\n",
    "\n",
    "for i in range(noise_count):\n",
    "    noise = prng.Gaus(0, noise_sigma)\n",
    "    hist.Fill(noise)\n",
    "    if noise > threshold:\n",
    "        noise_above_count += 1\n",
    "\n",
    "\n",
    "# Här vill jag räkna antalet\n",
    "print((signal_above_count/expected_signal_above)/signal_count, (noise_above_count/expected_noise_above)/noise_count)\n",
    "\n",
    "hist.Draw()\n",
    "canvas.Draw()"
   ]
  },
  {
   "cell_type": "markdown",
   "metadata": {},
   "source": [
    "Fråga, kan vi bestämma parametern för landaufördelningen på något sätt eller är det en ren gissning. Kan sensorn ge ut spänningen eller ger den bara ut om det är över eller under vår gräns. Får man ut spänningen kan man anpassa kurvan och uppskatta fördelningen.\n",
    "\n",
    "Vi vill verkligen veta precis vilken data vi har tillgång till så att vi ved hur lösningen ska optimeras.\n",
    "\n",
    "\n",
    "känner vi till förhållande i antal mellan signal och brus?\n"
   ]
  },
  {
   "cell_type": "markdown",
   "metadata": {},
   "source": [
    "Varje cell har en viss sannolikhet att gå över tröskeln, ska multipliceras med totala antalet kanaler.\n",
    "\n",
    "Mäter i luminousitet block om en minut"
   ]
  }
 ],
 "metadata": {
  "kernelspec": {
   "display_name": "Python 3",
   "language": "python",
   "name": "python3"
  },
  "language_info": {
   "codemirror_mode": {
    "name": "ipython",
    "version": 3
   },
   "file_extension": ".py",
   "mimetype": "text/x-python",
   "name": "python",
   "nbconvert_exporter": "python",
   "pygments_lexer": "ipython3",
   "version": "3.8.2"
  }
 },
 "nbformat": 4,
 "nbformat_minor": 4
}
