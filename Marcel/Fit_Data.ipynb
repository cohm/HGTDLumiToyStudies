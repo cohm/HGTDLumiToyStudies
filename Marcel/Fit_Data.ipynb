{
 "cells": [
  {
   "cell_type": "markdown",
   "id": "interpreted-animation",
   "metadata": {},
   "source": [
    "# Fitting process"
   ]
  },
  {
   "cell_type": "markdown",
   "id": "matched-beaver",
   "metadata": {},
   "source": [
    "### Import"
   ]
  },
  {
   "cell_type": "code",
   "execution_count": 1,
   "id": "thrown-messaging",
   "metadata": {},
   "outputs": [
    {
     "name": "stdout",
     "output_type": "stream",
     "text": [
      "Welcome to JupyROOT 6.22/08\n"
     ]
    }
   ],
   "source": [
    "import ROOT\n",
    "import numpy as np\n",
    "import time\n",
    "import math\n",
    "from math import exp\n",
    "import matplotlib.pyplot as plt\n",
    "from numpy import loadtxt\n",
    "from random import choices\n",
    "import random\n",
    "from scipy import optimize\n",
    "from scipy.optimize import fmin\n",
    "from scipy.stats import poisson\n",
    "import matplotlib.pyplot as plt\n",
    "from scipy.optimize import curve_fit\n",
    "\n"
   ]
  },
  {
   "cell_type": "markdown",
   "id": "actual-seating",
   "metadata": {},
   "source": [
    "## Import Reference Data"
   ]
  },
  {
   "cell_type": "code",
   "execution_count": 2,
   "id": "indoor-melbourne",
   "metadata": {},
   "outputs": [],
   "source": [
    "'Import data as 2D array'\n",
    "Ref_Data = loadtxt(\"Reference_Data_Numpy_2000_Tracks_1000_Colissions.txt\");"
   ]
  },
  {
   "cell_type": "markdown",
   "id": "organic-advancement",
   "metadata": {},
   "source": [
    "### Set parameter"
   ]
  },
  {
   "cell_type": "code",
   "execution_count": 3,
   "id": "elegant-refund",
   "metadata": {},
   "outputs": [
    {
     "name": "stdout",
     "output_type": "stream",
     "text": [
      "Number of tracks: 2000\n",
      "Number of N: 1000\n"
     ]
    }
   ],
   "source": [
    "'Set parameter to the same values as the reference data'\n",
    "N = len(Ref_Data)\n",
    "Tracks = len(Ref_Data[1])\n",
    "print(\"Number of tracks: %d\" % Tracks)\n",
    "print(\"Number of N: %d\" % N)"
   ]
  },
  {
   "cell_type": "markdown",
   "id": "champion-recruitment",
   "metadata": {},
   "source": [
    "### Check if the import worked"
   ]
  },
  {
   "cell_type": "code",
   "execution_count": 4,
   "id": "distinguished-bottle",
   "metadata": {},
   "outputs": [
    {
     "data": {
      "image/png": "[encoded data removed]",
      "text/plain": [
       "<Figure size 432x288 with 1 Axes>"
      ]
     },
     "metadata": {
      "needs_background": "light"
     },
     "output_type": "display_data"
    },
    {
     "name": "stdout",
     "output_type": "stream",
     "text": [
      "34.59234881401062 s\n"
     ]
    }
   ],
   "source": [
    "tic = time.time()\n",
    "x_list = list(range(Tracks))\n",
    "plt.bar(x_list,Ref_Data[round(0.1*N)-1],label = \"N=\" + str(round(0.1*N)))\n",
    "plt.bar(x_list,Ref_Data[round(0.2*N)-1],label = \"N=\" + str(round(0.2*N)))\n",
    "plt.bar(x_list,Ref_Data[round(0.3*N)-1],label = \"N=\" + str(round(0.3*N)))\n",
    "plt.bar(x_list,Ref_Data[round(0.4*N)-1],label = \"N=\" + str(round(0.4*N)))\n",
    "plt.bar(x_list,Ref_Data[round(0.5*N)-1],label = \"N=\" + str(round(0.5*N)))\n",
    "plt.bar(x_list,Ref_Data[round(0.6*N)-1],label = \"N=\" + str(round(0.6*N)))\n",
    "plt.bar(x_list,Ref_Data[round(0.7*N)-1],label = \"N=\" + str(round(0.7*N)))\n",
    "plt.bar(x_list,Ref_Data[round(0.8*N)-1],label = \"N=\" + str(round(0.8*N)))\n",
    "plt.bar(x_list,Ref_Data[round(0.9*N)-1],label = \"N=\" + str(round(0.9*N)))\n",
    "plt.bar(x_list,Ref_Data[N-1],label = \"N=\" + str(N))\n",
    "plt.xlabel('Tracks X',fontsize=20)\n",
    "plt.ylabel('Prob',fontsize=20)\n",
    "plt.title(\"Prob. dis. for const. N\",fontsize=20) \n",
    "#plt.legend() #\n",
    "plt.rcParams[\"figure.figsize\"] = (9,9)\n",
    "plt.show()\n",
    "#plt.savefig(\"Constant_N_dis.pdf\")\n",
    "toc = time.time()\n",
    "print(str(toc-tic)+\" s\")"
   ]
  },
  {
   "cell_type": "markdown",
   "id": "noticed-acceptance",
   "metadata": {},
   "source": [
    "## Create MC data"
   ]
  },
  {
   "cell_type": "markdown",
   "id": "educated-albert",
   "metadata": {},
   "source": [
    "### Functions used"
   ]
  },
  {
   "cell_type": "code",
   "execution_count": 5,
   "id": "directed-opportunity",
   "metadata": {},
   "outputs": [],
   "source": [
    "'Track pdf'\n",
    "def func(x):\n",
    "    Value = exp(-0.272581-1.933719*x)+exp(-2.107228-0.198227*x)\n",
    "    return(Value)\n",
    "\n",
    "'discrete Probabilities of number of tracks for N = 1'\n",
    "number = []\n",
    "weights = []\n",
    "for i in range(Tracks):\n",
    "    number.append(i)\n",
    "    weights.append(func(i))\n",
    "weights = np.array(weights)\n",
    "weights = weights/np.sum(weights)\n",
    "\n",
    "\n",
    "'Data_Eva(mu,Length) returns the simulated data'\n",
    "def Data_Eva(mu,Length):\n",
    "    tic = time.time()\n",
    "    X = [0] * Tracks\n",
    "    s = np.random.poisson(mu, Length)#random number from poisson distribution - number of pp col.\n",
    "    for i in range(Length):\n",
    "        a = random.choices(number, weights,k=s[i])#for each pp col. a random number of tracks corresponding to the pdf func(x)\n",
    "        A = np.sum(a)\n",
    "        if A < Tracks:# error prevention since len(X) = Tracks\n",
    "            X[int(A)] += 1\n",
    "    Data = np.array(X)\n",
    "    Data = Data/np.sum(Data)\n",
    "    toc = time.time()\n",
    "    print(\"%f s\" % (toc-tic))\n",
    "    return(Data)"
   ]
  },
  {
   "cell_type": "markdown",
   "id": "unlimited-sixth",
   "metadata": {},
   "source": [
    "### Create data"
   ]
  },
  {
   "cell_type": "code",
   "execution_count": 20,
   "id": "virtual-proceeding",
   "metadata": {},
   "outputs": [
    {
     "name": "stdout",
     "output_type": "stream",
     "text": [
      "87.027312 s\n"
     ]
    }
   ],
   "source": [
    "'Parameters for the simulation'\n",
    "Mu_Value = 110\n",
    "Bunch_Crossings = 100000\n",
    "'Creating \"real\" data'\n",
    "X = Data_Eva(Mu_Value,Bunch_Crossings)"
   ]
  },
  {
   "cell_type": "markdown",
   "id": "flexible-utility",
   "metadata": {},
   "source": [
    "### Plot Data"
   ]
  },
  {
   "cell_type": "code",
   "execution_count": 7,
   "id": "casual-memphis",
   "metadata": {},
   "outputs": [
    {
     "data": {
      "image/png": "[encoded data removed]",
      "text/plain": [
       "<Figure size 648x648 with 1 Axes>"
      ]
     },
     "metadata": {
      "needs_background": "light"
     },
     "output_type": "display_data"
    },
    {
     "name": "stdout",
     "output_type": "stream",
     "text": [
      "3.298625 s\n"
     ]
    }
   ],
   "source": [
    "tic = time.time()\n",
    "plt.bar(list(range(Tracks)),X )\n",
    "plt.xlabel('Tracks',fontsize=20)\n",
    "plt.ylabel('Prob',fontsize=20)\n",
    "plt.title(\"Prob. dis. for const. N\",fontsize=20) \n",
    "plt.rcParams[\"figure.figsize\"] = (9,9)\n",
    "plt.show()\n",
    "toc = time.time()\n",
    "print(\"%f s\" % (toc-tic))"
   ]
  },
  {
   "cell_type": "markdown",
   "id": "necessary-exposure",
   "metadata": {},
   "source": [
    "## Reconstruction"
   ]
  },
  {
   "cell_type": "markdown",
   "id": "unknown-token",
   "metadata": {},
   "source": [
    "### \"Own\" fit function"
   ]
  },
  {
   "cell_type": "code",
   "execution_count": 8,
   "id": "challenging-campus",
   "metadata": {},
   "outputs": [],
   "source": [
    "'Take absolute difference between data and ref data of every bin and sum up'\n",
    "def Abs_diff(x,params):\n",
    "    Total = [0]*Tracks\n",
    "    for i in range(N):\n",
    "        Import = np.array(List_reference[i])\n",
    "        ThisStep = poisson.pmf(i+1,Mu_value ) * Import\n",
    "        Total = np.add(Total,ThisStep)\n",
    "    c=0\n",
    "    for i in range(Tracks):\n",
    "        c += abs(Total[i]-data[i])**2\n",
    "    return(c)\n",
    "\n",
    "'Makes sure we dont get negative mu values and uses data given above'\n",
    "def Abs_diff_fit(a):\n",
    "    if a<0:\n",
    "        return(10)\n",
    "    else:\n",
    "        AbsoluteDiff = Abs_diff(a,Ref_Data,X)#use ref data and data\n",
    "        return(AbsoluteDiff)"
   ]
  },
  {
   "cell_type": "code",
   "execution_count": 9,
   "id": "hawaiian-article",
   "metadata": {},
   "outputs": [
    {
     "name": "stdout",
     "output_type": "stream",
     "text": [
      "The start value is 200.193399 \n"
     ]
    },
    {
     "data": {
      "text/plain": [
       "'Used to different fit functions'"
      ]
     },
     "execution_count": 9,
     "metadata": {},
     "output_type": "execute_result"
    }
   ],
   "source": [
    "'calculate start value'\n",
    "b=0\n",
    "c=0\n",
    "for i in range(Tracks):\n",
    "    b += weights[i] * i\n",
    "    c += X[i] *i\n",
    "a = c/b\n",
    "print(\"The start value is %f \" %a)\n",
    "\n",
    "'Used to different fit functions'\n",
    "#Fit = fmin(Abs_diff_fit,np.array([a]))\n",
    "#print(Fit)"
   ]
  },
  {
   "cell_type": "markdown",
   "id": "seventh-gravity",
   "metadata": {},
   "source": [
    "### Fit using python functions"
   ]
  },
  {
   "cell_type": "markdown",
   "id": "french-amateur",
   "metadata": {},
   "source": [
    "#### Used function"
   ]
  },
  {
   "cell_type": "code",
   "execution_count": 10,
   "id": "impressive-plasma",
   "metadata": {},
   "outputs": [],
   "source": [
    "def List_Final_Ref_Data(List_reference,Mu_value):\n",
    "    Total = [0]*Tracks\n",
    "    for i in range(N):\n",
    "        Import = np.array(List_reference[i])\n",
    "        ThisStep = poisson.pmf(i+1,Mu_value ) * Import\n",
    "        Total = np.add(Total,ThisStep)\n",
    "    return(Total)"
   ]
  },
  {
   "cell_type": "markdown",
   "id": "emotional-machine",
   "metadata": {},
   "source": [
    "#### fit"
   ]
  },
  {
   "cell_type": "code",
   "execution_count": 24,
   "id": "going-holocaust",
   "metadata": {},
   "outputs": [
    {
     "name": "stdout",
     "output_type": "stream",
     "text": [
      "The fit starting value is: mu = 109.902228\n",
      "The fitted mu value is: 109.934810 ±  0.028686\n",
      "The relative diviation for mu = 109.934810 is in percent: rel_div = 0.026093\n"
     ]
    },
    {
     "data": {
      "image/png": "[encoded data removed]",
      "text/plain": [
       "<Figure size 648x648 with 1 Axes>"
      ]
     },
     "metadata": {
      "needs_background": "light"
     },
     "output_type": "display_data"
    }
   ],
   "source": [
    "# get data\n",
    "entries = X\n",
    "\n",
    "# calculate bin centres\n",
    "bin_middles = np.arange(Tracks)\n",
    "\n",
    "def fit_function(k, mu):\n",
    "    Array_Prob_List = List_Final_Ref_Data(Ref_Data,mu)\n",
    "    Return_Array = Array_Prob_List[:len(k)]\n",
    "    return Return_Array\n",
    "\n",
    "#caluclate starting value\n",
    "b=0\n",
    "c=0\n",
    "for i in range(Tracks):\n",
    "    b += weights[i] * i\n",
    "    c += X[i] *i\n",
    "Starting_value = c/b \n",
    "print(\"The fit starting value is: mu = %f\" % Starting_value)\n",
    "\n",
    "# fit with curve_fit\n",
    "parameters, cov_matrix = curve_fit(fit_function, bin_middles, entries, bounds = (0.97*Starting_value,1.03*Starting_value))\n",
    "mu = parameters\n",
    "std_div = math.sqrt(cov_matrix[0])\n",
    "print(\"The fitted mu value is: %f \\u00B1 % f\" % (mu, std_div))\n",
    "\n",
    "#relative diviation\n",
    "rel_div = (std_div/mu)*100\n",
    "print(\"The relative diviation for mu = %f is in percent: rel_div = %f\" %(mu,rel_div) )\n",
    "\n",
    "# plot with fitted parameter\n",
    "x_plot = np.arange(0, Tracks)\n",
    "#data\n",
    "plt.bar(range(Tracks),X)\n",
    "#fit\n",
    "plt.plot(x_plot,fit_function(x_plot, *parameters),label='Fit result', color = \"r\")\n",
    "plt.legend()\n",
    "plt.show()"
   ]
  },
  {
   "cell_type": "code",
   "execution_count": null,
   "id": "optimum-coalition",
   "metadata": {},
   "outputs": [],
   "source": []
  }
 ],
 "metadata": {
  "kernelspec": {
   "display_name": "Python 3",
   "language": "python",
   "name": "python3"
  },
  "language_info": {
   "codemirror_mode": {
    "name": "ipython",
    "version": 3
   },
   "file_extension": ".py",
   "mimetype": "text/x-python",
   "name": "python",
   "nbconvert_exporter": "python",
   "pygments_lexer": "ipython3",
   "version": "3.8.5"
  }
 },
 "nbformat": 4,
 "nbformat_minor": 5
}
