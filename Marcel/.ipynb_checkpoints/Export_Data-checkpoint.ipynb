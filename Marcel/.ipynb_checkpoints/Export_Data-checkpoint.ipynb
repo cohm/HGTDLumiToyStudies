{
 "cells": [
  {
   "cell_type": "markdown",
   "id": "latter-server",
   "metadata": {},
   "source": [
    "# Notebook to export reference data"
   ]
  },
  {
   "cell_type": "markdown",
   "id": "norwegian-suite",
   "metadata": {},
   "source": [
    "### Import"
   ]
  },
  {
   "cell_type": "code",
   "execution_count": 4,
   "id": "heavy-division",
   "metadata": {},
   "outputs": [],
   "source": [
    "import ROOT\n",
    "import numpy as np\n",
    "import time\n",
    "import math\n",
    "from math import exp\n",
    "import matplotlib.pyplot as plt\n",
    "from numpy import loadtxt\n",
    "from random import choices\n",
    "import random\n",
    "from scipy import optimize\n",
    "from scipy.optimize import fmin\n",
    "from scipy.stats import poisson"
   ]
  },
  {
   "cell_type": "markdown",
   "id": "therapeutic-hotel",
   "metadata": {},
   "source": [
    "### Set maximum number of tracks and maximum number of colissions "
   ]
  },
  {
   "cell_type": "code",
   "execution_count": 5,
   "id": "vietnamese-wedding",
   "metadata": {},
   "outputs": [],
   "source": [
    "'Note that the computing time is linear in Tracks but non linear in N'\n",
    "Tracks = 1600\n",
    "N = 700"
   ]
  },
  {
   "cell_type": "markdown",
   "id": "confused-actor",
   "metadata": {},
   "source": [
    "### Importan functions"
   ]
  },
  {
   "cell_type": "code",
   "execution_count": 6,
   "id": "independent-associate",
   "metadata": {},
   "outputs": [],
   "source": [
    "'Func(x) is the pdf returning the probability of \"x\" Tracks'\n",
    "def func(x):\n",
    "    Value = exp(-0.272581-1.933719*x)+exp(-2.107228-0.198227*x)\n",
    "    return(Value)\n",
    "\n",
    "'Use func(x) to calculate the discrete probabilities corresponding to a number of tracks.'\n",
    "'number = array of number of tracks (0,1,2,3,4,....); weights = probability corresponding to (0,1,2,3,4,..) tracks'\n",
    "number = []\n",
    "weights = []\n",
    "for i in range(Tracks):\n",
    "    number.append(i)\n",
    "    weights.append(func(i))\n",
    "weights = np.array(weights)\n",
    "weights = weights/np.sum(weights)"
   ]
  },
  {
   "cell_type": "markdown",
   "id": "coupled-rainbow",
   "metadata": {},
   "source": [
    "### Creating the reference data"
   ]
  },
  {
   "cell_type": "code",
   "execution_count": 7,
   "id": "legislative-nashville",
   "metadata": {},
   "outputs": [
    {
     "name": "stdout",
     "output_type": "stream",
     "text": [
      "627.152637720108\n"
     ]
    }
   ],
   "source": [
    "#just time\n",
    "Tic = time.time()\n",
    "'Track list is a 2D array. Each inner array corresponds to the probability of (for element tracklist[N])'\n",
    "'N+1 colission points'\n",
    "Track_list = [weights]#set first element for 1 colission\n",
    "b = weights # for N colissions this is the probability for N-1 (here N ist 2 -> 2-1=1 -> prob given by weights)\n",
    "\n",
    "for l in range(1,N+1):#loop over the colissions starting by 1 +1 up to 1 + N\n",
    "    c = [0] * Tracks #create empty array fpr prob for 1+l colission points\n",
    "    for i in range(Tracks):\n",
    "        for k in range(i+1):\n",
    "            c[i] += weights[k] * b[i-k] #loop over all possibilities for i+1 tracks out of l+1 colissions\n",
    "    b = c # overwrite b for next loop\n",
    "    Track_list.append(b) # add the new probability\n",
    "#just time\n",
    "Toc = time.time()\n",
    "print(Toc-Tic)"
   ]
  },
  {
   "cell_type": "markdown",
   "id": "editorial-dimension",
   "metadata": {},
   "source": [
    "### Check if Data makes sense"
   ]
  },
  {
   "cell_type": "code",
   "execution_count": 22,
   "id": "legendary-mistress",
   "metadata": {},
   "outputs": [
    {
     "data": {
      "image/png": "[encoded data removed]",
      "text/plain": [
       "<Figure size 648x648 with 1 Axes>"
      ]
     },
     "metadata": {
      "needs_background": "light"
     },
     "output_type": "display_data"
    },
    {
     "name": "stdout",
     "output_type": "stream",
     "text": [
      "36.91801190376282 s\n"
     ]
    }
   ],
   "source": [
    "tic = time.time()\n",
    "x_list = list(range(Tracks))\n",
    "plt.bar(x_list,Track_list[round(0.1*N)-1],label = \"N=\" + str(round(0.1*N)))\n",
    "plt.bar(x_list,Track_list[round(0.2*N)-1],label = \"N=\" + str(round(0.2*N)))\n",
    "plt.bar(x_list,Track_list[round(0.3*N)-1],label = \"N=\" + str(round(0.3*N)))\n",
    "plt.bar(x_list,Track_list[round(0.4*N)-1],label = \"N=\" + str(round(0.4*N)))\n",
    "plt.bar(x_list,Track_list[round(0.5*N)-1],label = \"N=\" + str(round(0.5*N)))\n",
    "plt.bar(x_list,Track_list[round(0.6*N)-1],label = \"N=\" + str(round(0.6*N)))\n",
    "plt.bar(x_list,Track_list[round(0.7*N)-1],label = \"N=\" + str(round(0.7*N)))\n",
    "plt.bar(x_list,Track_list[round(0.8*N)-1],label = \"N=\" + str(round(0.8*N)))\n",
    "plt.bar(x_list,Track_list[round(0.9*N)-1],label = \"N=\" + str(round(0.9*N)))\n",
    "plt.bar(x_list,Track_list[N-1],label = \"N=\" + str(N))\n",
    "plt.xlabel('Tracks X',fontsize=20)\n",
    "plt.ylabel('Prob',fontsize=20)\n",
    "plt.title(\"Prob. dis. for const. N\",fontsize=20) \n",
    "plt.legend()\n",
    "plt.rcParams[\"figure.figsize\"] = (9,9)\n",
    "plt.show()\n",
    "#plt.savefig(\"Constant_N_dis.pdf\")\n",
    "toc = time.time()\n",
    "print(str(toc-tic)+\" s\")"
   ]
  },
  {
   "cell_type": "markdown",
   "id": "lucky-bulgaria",
   "metadata": {},
   "source": [
    "### Export Data"
   ]
  },
  {
   "cell_type": "code",
   "execution_count": 15,
   "id": "choice-bidding",
   "metadata": {},
   "outputs": [
    {
     "name": "stdout",
     "output_type": "stream",
     "text": [
      "The Data was exported, name: Reference_Data_Numpy_1600_Tracks_700_Colissions.txt\n"
     ]
    }
   ],
   "source": [
    "Export_Name = \"Reference_Data_Numpy_\"+ str(Tracks) +\"_Tracks_\"+ str(N) +\"_Colissions.txt\"\n",
    "np.savetxt (Export_Name, Track_list)\n",
    "print(\"The Data was exported, name: \" + Export_Name)"
   ]
  },
  {
   "cell_type": "code",
   "execution_count": null,
   "id": "lesser-measure",
   "metadata": {},
   "outputs": [],
   "source": []
  }
 ],
 "metadata": {
  "kernelspec": {
   "display_name": "Python 3",
   "language": "python",
   "name": "python3"
  },
  "language_info": {
   "codemirror_mode": {
    "name": "ipython",
    "version": 3
   },
   "file_extension": ".py",
   "mimetype": "text/x-python",
   "name": "python",
   "nbconvert_exporter": "python",
   "pygments_lexer": "ipython3",
   "version": "3.8.5"
  }
 },
 "nbformat": 4,
 "nbformat_minor": 5
}
