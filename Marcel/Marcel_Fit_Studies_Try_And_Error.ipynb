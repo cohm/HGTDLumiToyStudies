{
 "cells": [
  {
   "cell_type": "markdown",
   "metadata": {},
   "source": [
    "## Import Stuff"
   ]
  },
  {
   "cell_type": "code",
   "execution_count": 1,
   "metadata": {},
   "outputs": [
    {
     "name": "stdout",
     "output_type": "stream",
     "text": [
      "Welcome to JupyROOT 6.22/08\n"
     ]
    },
    {
     "ename": "ModuleNotFoundError",
     "evalue": "No module named 'sklearn'",
     "output_type": "error",
     "traceback": [
      "\u001b[0;31m---------------------------------------------------------------------------\u001b[0m",
      "\u001b[0;31mModuleNotFoundError\u001b[0m                       Traceback (most recent call last)",
      "\u001b[0;32m<ipython-input-1-1eb1bdb730d5>\u001b[0m in \u001b[0;36m<module>\u001b[0;34m\u001b[0m\n\u001b[1;32m      5\u001b[0m \u001b[0;32mfrom\u001b[0m \u001b[0mmath\u001b[0m \u001b[0;32mimport\u001b[0m \u001b[0mexp\u001b[0m\u001b[0;34m\u001b[0m\u001b[0;34m\u001b[0m\u001b[0m\n\u001b[1;32m      6\u001b[0m \u001b[0;32mimport\u001b[0m \u001b[0mmatplotlib\u001b[0m\u001b[0;34m.\u001b[0m\u001b[0mpyplot\u001b[0m \u001b[0;32mas\u001b[0m \u001b[0mplt\u001b[0m\u001b[0;34m\u001b[0m\u001b[0;34m\u001b[0m\u001b[0m\n\u001b[0;32m----> 7\u001b[0;31m \u001b[0;32mfrom\u001b[0m \u001b[0msklearn\u001b[0m\u001b[0;34m.\u001b[0m\u001b[0mlinear_model\u001b[0m \u001b[0;32mimport\u001b[0m \u001b[0mLinearRegression\u001b[0m\u001b[0;34m\u001b[0m\u001b[0;34m\u001b[0m\u001b[0m\n\u001b[0m\u001b[1;32m      8\u001b[0m \u001b[0;32mfrom\u001b[0m \u001b[0mnumpy\u001b[0m \u001b[0;32mimport\u001b[0m \u001b[0mloadtxt\u001b[0m\u001b[0;34m\u001b[0m\u001b[0;34m\u001b[0m\u001b[0m\n\u001b[1;32m      9\u001b[0m \u001b[0;32mfrom\u001b[0m \u001b[0mrandom\u001b[0m \u001b[0;32mimport\u001b[0m \u001b[0mchoices\u001b[0m\u001b[0;34m\u001b[0m\u001b[0;34m\u001b[0m\u001b[0m\n",
      "\u001b[0;32m/opt/root/lib/ROOT/_facade.py\u001b[0m in \u001b[0;36m_importhook\u001b[0;34m(name, *args, **kwds)\u001b[0m\n\u001b[1;32m    119\u001b[0m                 \u001b[0;32mexcept\u001b[0m \u001b[0mException\u001b[0m\u001b[0;34m:\u001b[0m\u001b[0;34m\u001b[0m\u001b[0;34m\u001b[0m\u001b[0m\n\u001b[1;32m    120\u001b[0m                     \u001b[0;32mpass\u001b[0m\u001b[0;34m\u001b[0m\u001b[0;34m\u001b[0m\u001b[0m\n\u001b[0;32m--> 121\u001b[0;31m             \u001b[0;32mreturn\u001b[0m \u001b[0m_orig_ihook\u001b[0m\u001b[0;34m(\u001b[0m\u001b[0mname\u001b[0m\u001b[0;34m,\u001b[0m \u001b[0;34m*\u001b[0m\u001b[0margs\u001b[0m\u001b[0;34m,\u001b[0m \u001b[0;34m**\u001b[0m\u001b[0mkwds\u001b[0m\u001b[0;34m)\u001b[0m\u001b[0;34m\u001b[0m\u001b[0;34m\u001b[0m\u001b[0m\n\u001b[0m\u001b[1;32m    122\u001b[0m         \u001b[0m__builtin__\u001b[0m\u001b[0;34m.\u001b[0m\u001b[0m__import__\u001b[0m \u001b[0;34m=\u001b[0m \u001b[0m_importhook\u001b[0m\u001b[0;34m\u001b[0m\u001b[0;34m\u001b[0m\u001b[0m\n\u001b[1;32m    123\u001b[0m \u001b[0;34m\u001b[0m\u001b[0m\n",
      "\u001b[0;31mModuleNotFoundError\u001b[0m: No module named 'sklearn'"
     ]
    }
   ],
   "source": [
    "import ROOT\n",
    "import numpy as np\n",
    "import time\n",
    "import math\n",
    "from math import exp\n",
    "import matplotlib.pyplot as plt\n",
    "from sklearn.linear_model import LinearRegression\n",
    "from numpy import loadtxt\n",
    "from random import choices\n",
    "import random\n",
    "from scipy import optimize\n",
    "from scipy.optimize import fmin\n",
    "from scipy.stats import poisson"
   ]
  },
  {
   "cell_type": "markdown",
   "metadata": {},
   "source": [
    "## Parameters"
   ]
  },
  {
   "cell_type": "code",
   "execution_count": 3,
   "metadata": {},
   "outputs": [],
   "source": [
    "#mean value of collisions in one bunch crossing (mu from pois dis)\n",
    "mu = 12\n",
    "#Upper boundary on number of tracks per colission\n",
    "BoundaryUp = 12\n",
    "#number of bunch crossings\n",
    "BunchCrossings = 100000"
   ]
  },
  {
   "cell_type": "markdown",
   "metadata": {},
   "source": [
    "### Short an Array function"
   ]
  },
  {
   "cell_type": "code",
   "execution_count": 115,
   "metadata": {},
   "outputs": [],
   "source": [
    "def Shorten(B,Length): \n",
    "    A=[]\n",
    "    for i in range(0,Length):\n",
    "        A.append(B[i])\n",
    "    return(A)"
   ]
  },
  {
   "cell_type": "markdown",
   "metadata": {},
   "source": [
    "## Prop Calculation using ROOT"
   ]
  },
  {
   "cell_type": "code",
   "execution_count": 5,
   "metadata": {},
   "outputs": [],
   "source": [
    "\n",
    "#Probability distribution on tracks per colission\n",
    "f = ROOT.TF1(\"myFunc1\", \"e**(-0.272581-1.933719*x)+e**(-2.107228-0.198227*x)\", -0.5, 999.5)\n",
    "#Histogramm of Simulation\n",
    "TackHisto =  {}\n",
    "TrackHisto = ROOT.TH1F(\"Number of tracks per BC\", \"; Number of tracks; Probability\", 1000, -0.5, 999.5)\n",
    "\n"
   ]
  },
  {
   "cell_type": "markdown",
   "metadata": {},
   "source": [
    "### Function itself"
   ]
  },
  {
   "cell_type": "code",
   "execution_count": 6,
   "metadata": {},
   "outputs": [],
   "source": [
    "def Tracks(muu,BCB):\n",
    "    Tic = time.time()\n",
    "    TrackHisto_Positions = [0]*1000\n",
    "    TrackHisto_Data = []\n",
    "    #Loop over bunch crossings\n",
    "    for BC in range(BCB):\n",
    "        Ti = time.time()\n",
    "        total_tracks_per_BC = 0\n",
    "        #Number of particles in this colission\n",
    "        rand1 = ROOT.TRandom3(int(Ti))\n",
    "        N = rand1.Poisson(muu)\n",
    "        for i in range(N):\n",
    "            #Number of tracks for each colission\n",
    "            X = int(f.GetRandom())\n",
    "            total_tracks_per_BC += X\n",
    "        if total_tracks_per_BC < 1000:\n",
    "            TrackHisto_Positions[total_tracks_per_BC] += 1\n",
    "            TrackHisto_Data.append(total_tracks_per_BC)\n",
    "    Norm_Fac = np.array(TrackHisto_Positions).sum()\n",
    "    TrackHisto_Positions_Norm = (TrackHisto_Positions/Norm_Fac)\n",
    "    Toc = time.time()\n",
    "    Time_min = int((Toc-Tic)/60)\n",
    "    Time_sec = round(Toc-Tic-60*Time_min)\n",
    "    return(print(\"CPU time for %d bunch crossings: %d min %d s\" %(BunchCrossings,Time_min,Time_sec) ),TrackHisto_Data,TrackHisto_Positions_Norm)"
   ]
  },
  {
   "cell_type": "markdown",
   "metadata": {},
   "source": [
    "### Evaluation"
   ]
  },
  {
   "cell_type": "code",
   "execution_count": 7,
   "metadata": {},
   "outputs": [
    {
     "name": "stdout",
     "output_type": "stream",
     "text": [
      "CPU time for 100000 bunch crossings: 0 min 3 s\n",
      "CPU time for 100000 bunch crossings: 0 min 3 s\n",
      "CPU time for 100000 bunch crossings: 0 min 2 s\n",
      "CPU time for 100000 bunch crossings: 0 min 2 s\n"
     ]
    }
   ],
   "source": [
    "(time_print,Data,Position) = Tracks(mu,BunchCrossings)\n",
    "(time_printx,Datax,Positionx) = Tracks(mu,BunchCrossings)\n",
    "(time_printy,Datay,Positiony) = Tracks(mu,BunchCrossings)\n",
    "(time_printz,Dataz,Positionz) = Tracks(mu,BunchCrossings)"
   ]
  },
  {
   "cell_type": "markdown",
   "metadata": {},
   "source": [
    "### Plot"
   ]
  },
  {
   "cell_type": "code",
   "execution_count": 34,
   "metadata": {},
   "outputs": [
    {
     "data": {
      "image/png": "[encoded data removed]",
      "text/plain": [
       "<Figure size 648x648 with 1 Axes>"
      ]
     },
     "metadata": {
      "needs_background": "light"
     },
     "output_type": "display_data"
    }
   ],
   "source": [
    "tic = time.time()\n",
    "plt.bar(list(range(100)),Shorten(np.array(Position),100))\n",
    "plt.bar(list(range(100)),Shorten(np.array(Positionx),100))\n",
    "plt.bar(list(range(100)),Shorten(np.array(Positiony),100))\n",
    "#plt.bar(list(range(100)),Shorten(np.array(Positionz),100))\n",
    "plt.rcParams[\"figure.figsize\"] = (9,9)\n",
    "plt.title(\"histogram\") \n",
    "plt.show()\n",
    "\n"
   ]
  },
  {
   "cell_type": "markdown",
   "metadata": {},
   "source": [
    "## try with numpy"
   ]
  },
  {
   "cell_type": "markdown",
   "metadata": {},
   "source": [
    "### Function definitions"
   ]
  },
  {
   "cell_type": "code",
   "execution_count": 76,
   "metadata": {},
   "outputs": [],
   "source": [
    "def func(x):\n",
    "    Value = exp(-0.272581-1.933719*x)+exp(-2.107228-0.198227*x)\n",
    "    return(Value)\n",
    "\n",
    "number = []\n",
    "weights = []\n",
    "for i in range(200):\n",
    "    number.append(i)\n",
    "    weights.append(func(i))\n",
    "weights = np.array(weights)\n",
    "weights = weights/np.sum(weights)\n",
    "\n",
    "def Data_Eva(mu,Length):\n",
    "    tic = time.time()\n",
    "    X = [0] * 1000\n",
    "    s = np.random.poisson(mu, Length)\n",
    "    for i in range(Length):\n",
    "        a = random.choices(number, weights,k=s[i])\n",
    "        A = np.sum(a)\n",
    "        if A < 1000:\n",
    "            X[int(A)] += 1\n",
    "    Data = np.array(X)\n",
    "    Data = Data/np.sum(Data)\n",
    "    toc = time.time()\n",
    "    print(\"%f s\" % (toc-tic))\n",
    "    return(Data)"
   ]
  },
  {
   "cell_type": "markdown",
   "metadata": {},
   "source": [
    "### Data evaluation"
   ]
  },
  {
   "cell_type": "code",
   "execution_count": 10,
   "metadata": {},
   "outputs": [
    {
     "name": "stdout",
     "output_type": "stream",
     "text": [
      "5.755994 s\n",
      "5.677620 s\n",
      "5.738265 s\n",
      "5.681573 s\n"
     ]
    }
   ],
   "source": [
    "X = Data_Eva(12,100000)\n",
    "Y = Data_Eva(12,100000)\n",
    "Z = Data_Eva(12,100000)\n",
    "TZ = Data_Eva(12,100000)"
   ]
  },
  {
   "cell_type": "markdown",
   "metadata": {},
   "source": [
    "### Plots"
   ]
  },
  {
   "cell_type": "code",
   "execution_count": 45,
   "metadata": {},
   "outputs": [
    {
     "data": {
      "image/png": "[encoded data removed]",
      "text/plain": [
       "<Figure size 648x648 with 1 Axes>"
      ]
     },
     "metadata": {
      "needs_background": "light"
     },
     "output_type": "display_data"
    }
   ],
   "source": [
    "tic = time.time()\n",
    "plt.bar(list(range(100)),Shorten(np.array(X),100))\n",
    "#plt.bar(list(range(100)),Shorten(np.array(Y),100))\n",
    "#plt.bar(list(range(100)),Shorten(np.array(Z),100))\n",
    "#plt.bar(list(range(100)),Shorten(np.array(TZ),100))\n",
    "plt.xlabel(\"Tracks\", fontsize=20)\n",
    "plt.ylabel(\"Probability\", fontsize=20)\n",
    "plt.rcParams[\"figure.figsize\"] = (9,9)\n",
    "plt.title(\"MC simulated tracks per BC\", fontsize=20) \n",
    "plt.savefig(\"MC_Tracks_Per_BC.pdf\")"
   ]
  },
  {
   "cell_type": "markdown",
   "metadata": {},
   "source": [
    "## Finding mu"
   ]
  },
  {
   "cell_type": "markdown",
   "metadata": {},
   "source": [
    "### Method Marcel"
   ]
  },
  {
   "cell_type": "code",
   "execution_count": 12,
   "metadata": {},
   "outputs": [
    {
     "name": "stdout",
     "output_type": "stream",
     "text": [
      "4.758744 s\n",
      "absolute difference for 1: 1.592860\n",
      "-------------------------------\n",
      "4.736913 s\n",
      "absolute difference for 2: 1.388380\n",
      "-------------------------------\n",
      "4.850313 s\n",
      "absolute difference for 3: 1.209500\n",
      "-------------------------------\n",
      "4.927247 s\n",
      "absolute difference for 4: 1.048140\n",
      "-------------------------------\n",
      "4.968032 s\n",
      "absolute difference for 5: 0.892740\n",
      "-------------------------------\n",
      "5.073865 s\n",
      "absolute difference for 6: 0.750800\n",
      "-------------------------------\n",
      "5.168262 s\n",
      "absolute difference for 7: 0.611280\n",
      "-------------------------------\n",
      "5.259476 s\n",
      "absolute difference for 8: 0.476420\n",
      "-------------------------------\n",
      "5.357702 s\n",
      "absolute difference for 9: 0.357540\n",
      "-------------------------------\n",
      "5.418580 s\n",
      "absolute difference for 10: 0.225480\n",
      "-------------------------------\n",
      "5.535207 s\n",
      "absolute difference for 11: 0.109000\n",
      "-------------------------------\n",
      "5.602859 s\n",
      "absolute difference for 12: 0.025260\n",
      "-------------------------------\n",
      "5.658193 s\n",
      "absolute difference for 13: 0.110960\n",
      "-------------------------------\n",
      "5.785180 s\n",
      "absolute difference for 14: 0.213180\n",
      "-------------------------------\n",
      "6.121223 s\n",
      "absolute difference for 15: 0.311580\n",
      "-------------------------------\n",
      "5.922215 s\n",
      "absolute difference for 16: 0.406580\n",
      "-------------------------------\n",
      "6.024025 s\n",
      "absolute difference for 17: 0.491940\n",
      "-------------------------------\n",
      "6.117244 s\n",
      "absolute difference for 18: 0.574580\n",
      "-------------------------------\n",
      "6.192792 s\n",
      "absolute difference for 19: 0.659320\n",
      "-------------------------------\n",
      "6.319804 s\n",
      "absolute difference for 20: 0.739100\n",
      "-------------------------------\n",
      "6.318010 s\n",
      "absolute difference for 21: 0.809400\n",
      "-------------------------------\n",
      "6.459504 s\n",
      "absolute difference for 22: 0.871460\n",
      "-------------------------------\n",
      "6.555647 s\n",
      "absolute difference for 23: 0.939360\n",
      "-------------------------------\n",
      "6.630518 s\n",
      "absolute difference for 24: 1.004740\n",
      "-------------------------------\n",
      "6.707625 s\n",
      "absolute difference for 25: 1.057780\n",
      "-------------------------------\n",
      "6.859603 s\n",
      "absolute difference for 26: 1.114940\n",
      "-------------------------------\n",
      "6.921215 s\n",
      "absolute difference for 27: 1.170220\n",
      "-------------------------------\n",
      "7.052126 s\n",
      "absolute difference for 28: 1.222240\n",
      "-------------------------------\n",
      "7.305459 s\n",
      "absolute difference for 29: 1.269260\n",
      "-------------------------------\n",
      "7.197963 s\n",
      "absolute difference for 30: 1.315180\n",
      "-------------------------------\n",
      "7.273304 s\n",
      "absolute difference for 31: 1.357000\n",
      "-------------------------------\n",
      "7.374777 s\n",
      "absolute difference for 32: 1.395940\n",
      "-------------------------------\n",
      "7.721388 s\n",
      "absolute difference for 33: 1.427760\n",
      "-------------------------------\n",
      "8.043783 s\n",
      "absolute difference for 34: 1.463780\n",
      "-------------------------------\n",
      "7.711683 s\n",
      "absolute difference for 35: 1.497900\n",
      "-------------------------------\n",
      "7.761029 s\n",
      "absolute difference for 36: 1.530260\n",
      "-------------------------------\n",
      "8.144254 s\n",
      "absolute difference for 37: 1.556220\n",
      "-------------------------------\n",
      "8.352059 s\n",
      "absolute difference for 38: 1.582140\n",
      "-------------------------------\n",
      "8.544411 s\n",
      "absolute difference for 39: 1.614840\n",
      "-------------------------------\n",
      "8.423530 s\n",
      "absolute difference for 40: 1.642120\n",
      "-------------------------------\n",
      "8.341021 s\n",
      "absolute difference for 41: 1.661300\n",
      "-------------------------------\n",
      "8.226482 s\n",
      "absolute difference for 42: 1.680020\n",
      "-------------------------------\n",
      "8.293303 s\n",
      "absolute difference for 43: 1.703620\n",
      "-------------------------------\n",
      "8.570053 s\n",
      "absolute difference for 44: 1.723660\n",
      "-------------------------------\n",
      "8.820787 s\n",
      "absolute difference for 45: 1.739660\n",
      "-------------------------------\n",
      "9.161978 s\n",
      "absolute difference for 46: 1.757380\n",
      "-------------------------------\n",
      "8.894593 s\n",
      "absolute difference for 47: 1.773580\n",
      "-------------------------------\n",
      "8.713631 s\n",
      "absolute difference for 48: 1.785900\n",
      "-------------------------------\n",
      "8.823881 s\n",
      "absolute difference for 49: 1.799720\n",
      "-------------------------------\n",
      "8.900046 s\n",
      "absolute difference for 50: 1.814620\n",
      "-------------------------------\n",
      "9.137228 s\n",
      "absolute difference for 51: 1.827140\n",
      "-------------------------------\n",
      "9.693172 s\n",
      "absolute difference for 52: 1.837240\n",
      "-------------------------------\n",
      "9.544391 s\n",
      "absolute difference for 53: 1.849780\n",
      "-------------------------------\n",
      "9.431332 s\n",
      "absolute difference for 54: 1.861060\n",
      "-------------------------------\n",
      "9.529215 s\n",
      "absolute difference for 55: 1.869200\n",
      "-------------------------------\n",
      "9.729892 s\n",
      "absolute difference for 56: 1.877900\n",
      "-------------------------------\n",
      "10.029721 s\n",
      "absolute difference for 57: 1.886540\n",
      "-------------------------------\n",
      "10.200526 s\n",
      "absolute difference for 58: 1.895460\n",
      "-------------------------------\n",
      "10.437213 s\n",
      "absolute difference for 59: 1.901500\n",
      "-------------------------------\n",
      "10.495817 s\n",
      "absolute difference for 60: 1.907100\n",
      "-------------------------------\n",
      "10.300816 s\n",
      "absolute difference for 61: 1.914280\n",
      "-------------------------------\n",
      "10.616700 s\n",
      "absolute difference for 62: 1.921120\n",
      "-------------------------------\n",
      "10.506982 s\n",
      "absolute difference for 63: 1.926580\n",
      "-------------------------------\n",
      "10.803828 s\n",
      "absolute difference for 64: 1.929820\n",
      "-------------------------------\n",
      "10.913093 s\n",
      "absolute difference for 65: 1.934000\n",
      "-------------------------------\n",
      "10.988760 s\n",
      "absolute difference for 66: 1.939580\n",
      "-------------------------------\n",
      "11.435572 s\n",
      "absolute difference for 67: 1.944800\n",
      "-------------------------------\n",
      "11.386267 s\n",
      "absolute difference for 68: 1.947360\n",
      "-------------------------------\n",
      "11.390876 s\n",
      "absolute difference for 69: 1.951400\n",
      "-------------------------------\n",
      "11.083486 s\n",
      "absolute difference for 70: 1.954060\n",
      "-------------------------------\n",
      "11.152750 s\n",
      "absolute difference for 71: 1.958400\n",
      "-------------------------------\n",
      "10.920264 s\n",
      "absolute difference for 72: 1.959980\n",
      "-------------------------------\n",
      "11.142330 s\n",
      "absolute difference for 73: 1.964300\n",
      "-------------------------------\n",
      "11.126910 s\n",
      "absolute difference for 74: 1.965080\n",
      "-------------------------------\n",
      "11.812405 s\n",
      "absolute difference for 75: 1.969140\n",
      "-------------------------------\n",
      "11.969040 s\n",
      "absolute difference for 76: 1.971400\n",
      "-------------------------------\n",
      "11.888518 s\n",
      "absolute difference for 77: 1.973180\n",
      "-------------------------------\n",
      "12.443387 s\n",
      "absolute difference for 78: 1.974620\n",
      "-------------------------------\n",
      "12.174934 s\n",
      "absolute difference for 79: 1.976580\n",
      "-------------------------------\n",
      "12.328252 s\n",
      "absolute difference for 80: 1.977680\n",
      "-------------------------------\n",
      "12.111564 s\n",
      "absolute difference for 81: 1.980420\n",
      "-------------------------------\n",
      "12.874002 s\n",
      "absolute difference for 82: 1.981300\n",
      "-------------------------------\n",
      "12.650361 s\n",
      "absolute difference for 83: 1.981600\n",
      "-------------------------------\n",
      "12.163732 s\n",
      "absolute difference for 84: 1.983280\n",
      "-------------------------------\n",
      "12.517102 s\n",
      "absolute difference for 85: 1.984860\n",
      "-------------------------------\n",
      "12.586770 s\n",
      "absolute difference for 86: 1.985500\n",
      "-------------------------------\n",
      "13.122344 s\n",
      "absolute difference for 87: 1.986400\n",
      "-------------------------------\n",
      "13.100757 s\n",
      "absolute difference for 88: 1.987320\n",
      "-------------------------------\n",
      "13.509583 s\n",
      "absolute difference for 89: 1.988140\n",
      "-------------------------------\n",
      "12.989643 s\n",
      "absolute difference for 90: 1.990100\n",
      "-------------------------------\n",
      "13.338856 s\n",
      "absolute difference for 91: 1.990700\n",
      "-------------------------------\n",
      "13.909253 s\n",
      "absolute difference for 92: 1.991060\n",
      "-------------------------------\n",
      "15.481840 s\n",
      "absolute difference for 93: 1.992180\n",
      "-------------------------------\n",
      "13.651912 s\n",
      "absolute difference for 94: 1.992840\n",
      "-------------------------------\n",
      "13.243047 s\n",
      "absolute difference for 95: 1.993620\n",
      "-------------------------------\n",
      "14.736215 s\n",
      "absolute difference for 96: 1.993240\n",
      "-------------------------------\n",
      "14.813257 s\n",
      "absolute difference for 97: 1.994060\n",
      "-------------------------------\n",
      "13.653127 s\n",
      "absolute difference for 98: 1.994480\n",
      "-------------------------------\n",
      "13.392239 s\n",
      "absolute difference for 99: 1.994800\n",
      "-------------------------------\n",
      "Finished. Time: 15 min and 22.000000 s\n"
     ]
    }
   ],
   "source": [
    "Tic = time.time()\n",
    "Diff_Array = []\n",
    "Diff_Dis_Array = []\n",
    "for i in range(1,100):\n",
    "    C = Data_Eva(i,BunchCrossings)\n",
    "    Diff_Dis_Array.append(C)\n",
    "    Diff = np.sum(np.array(abs(C-X)))\n",
    "    Diff_Array.append(Diff)+\n",
    "    \n",
    "    print(\"absolute difference for mu = %d: %f\" %(i,Diff))\n",
    "    print(\"-------------------------------\")\n",
    "Toc = time.time()\n",
    "Time_min = int((Toc-Tic)/60)\n",
    "Time_sec = round(Toc-Tic-60*Time_min)\n",
    "print(\"Finished. Time: %d min and %f s\" % (Time_min,Time_sec))\n"
   ]
  },
  {
   "cell_type": "markdown",
   "metadata": {},
   "source": [
    "### export data"
   ]
  },
  {
   "cell_type": "code",
   "execution_count": 16,
   "metadata": {},
   "outputs": [],
   "source": [
    "np.savetxt(\"Data_Marcel_Mu_Tracks.txt\", Diff_Dis_Array)"
   ]
  },
  {
   "cell_type": "markdown",
   "metadata": {},
   "source": [
    "### import data"
   ]
  },
  {
   "cell_type": "code",
   "execution_count": 17,
   "metadata": {},
   "outputs": [],
   "source": [
    "Data_Marcel = loadtxt(\"Data_Marcel_Mu_Tracks.txt\");"
   ]
  },
  {
   "cell_type": "code",
   "execution_count": 28,
   "metadata": {},
   "outputs": [
    {
     "data": {
      "image/png": "[encoded data removed]",
      "text/plain": [
       "<Figure size 720x144 with 1 Axes>"
      ]
     },
     "metadata": {
      "needs_background": "light"
     },
     "output_type": "display_data"
    }
   ],
   "source": [
    "plt.plot(range(1,100), Diff_Array, 'rx')\n",
    "#plt.plot(range(1,100), Diff_Array, 'b-.')\n",
    "plt.xlabel(\"Time (s)\")\n",
    "plt.ylabel(\"Scale (Bananas)\")\n",
    "plt.title(\"histogram\") \n",
    "plt.axvline(mu, 0, 1, label='mu value')\n",
    "plt.rcParams[\"figure.figsize\"] = (2,2)\n",
    "plt.show()"
   ]
  },
  {
   "cell_type": "markdown",
   "metadata": {},
   "source": [
    "### Method Christian"
   ]
  },
  {
   "cell_type": "markdown",
   "metadata": {},
   "source": [
    "### Functions"
   ]
  },
  {
   "cell_type": "code",
   "execution_count": 97,
   "metadata": {},
   "outputs": [],
   "source": [
    "def Tracks_N(N):\n",
    "    TrackHisto_Positions=[0] * 1000\n",
    "    TrackHisto_Data = []\n",
    "    Tic = time.time()\n",
    "    #Loop over bunch crossings\n",
    "    for BC in range(BunchCrossings):\n",
    "        total_tracks_per_BC = 0\n",
    "        X = random.choices(number, weights,k=N)\n",
    "        total_tracks_per_BC = np.sum(X)\n",
    "        if total_tracks_per_BC <= 1000:\n",
    "            TrackHisto_Positions[total_tracks_per_BC] += 1\n",
    "            TrackHisto_Data.append(total_tracks_per_BC)\n",
    "    Norm_Fac = np.array(TrackHisto_Positions).sum()\n",
    "    TrackHisto_Positions_Norm = (TrackHisto_Positions/Norm_Fac)\n",
    "    Toc = time.time()\n",
    "    Time_min = int((Toc-Tic)/60)\n",
    "    Time_sec = round(Toc-Tic-60*Time_min)\n",
    "    return(print(\"CPU time for %d bunch crossings and N=%d: %d min %d s\" %(BunchCrossings,N,Time_min,Time_sec) ),TrackHisto_Data,TrackHisto_Positions_Norm)\n",
    "\n",
    "def Pois(mu,N):\n",
    "    Prob = (exp(-mu+N*np.log(mu)))/(fakult(N))\n",
    "    return(Prob)\n",
    "\n",
    "def fakult(n):\n",
    "    if n < 0:\n",
    "        raise ValueError\n",
    "    # 0! = 1\n",
    "    if n == 0:\n",
    "        return 1\n",
    "    else:\n",
    "        save = 1\n",
    "        for i in range(2,n+1):\n",
    "            save *= i\n",
    "        return save"
   ]
  },
  {
   "cell_type": "markdown",
   "metadata": {},
   "source": [
    "### Creating reference Data"
   ]
  },
  {
   "cell_type": "code",
   "execution_count": 89,
   "metadata": {},
   "outputs": [
    {
     "name": "stdout",
     "output_type": "stream",
     "text": [
      "CPU time for 100000 bunch crossings and N=1: 0 min 4 s\n",
      "------------\n",
      "CPU time for 100000 bunch crossings and N=2: 0 min 5 s\n",
      "------------\n",
      "CPU time for 100000 bunch crossings and N=3: 0 min 5 s\n",
      "------------\n",
      "CPU time for 100000 bunch crossings and N=4: 0 min 5 s\n",
      "------------\n",
      "CPU time for 100000 bunch crossings and N=5: 0 min 5 s\n",
      "------------\n",
      "CPU time for 100000 bunch crossings and N=6: 0 min 5 s\n",
      "------------\n",
      "CPU time for 100000 bunch crossings and N=7: 0 min 5 s\n",
      "------------\n",
      "CPU time for 100000 bunch crossings and N=8: 0 min 5 s\n",
      "------------\n",
      "CPU time for 100000 bunch crossings and N=9: 0 min 5 s\n",
      "------------\n",
      "CPU time for 100000 bunch crossings and N=10: 0 min 5 s\n",
      "------------\n",
      "CPU time for 100000 bunch crossings and N=11: 0 min 5 s\n",
      "------------\n",
      "CPU time for 100000 bunch crossings and N=12: 0 min 5 s\n",
      "------------\n",
      "CPU time for 100000 bunch crossings and N=13: 0 min 6 s\n",
      "------------\n",
      "CPU time for 100000 bunch crossings and N=14: 0 min 6 s\n",
      "------------\n",
      "CPU time for 100000 bunch crossings and N=15: 0 min 6 s\n",
      "------------\n",
      "CPU time for 100000 bunch crossings and N=16: 0 min 6 s\n",
      "------------\n",
      "CPU time for 100000 bunch crossings and N=17: 0 min 6 s\n",
      "------------\n",
      "CPU time for 100000 bunch crossings and N=18: 0 min 6 s\n",
      "------------\n",
      "CPU time for 100000 bunch crossings and N=19: 0 min 6 s\n",
      "------------\n",
      "CPU time for 100000 bunch crossings and N=20: 0 min 6 s\n",
      "------------\n",
      "CPU time for 100000 bunch crossings and N=21: 0 min 6 s\n",
      "------------\n",
      "CPU time for 100000 bunch crossings and N=22: 0 min 6 s\n",
      "------------\n",
      "CPU time for 100000 bunch crossings and N=23: 0 min 6 s\n",
      "------------\n",
      "CPU time for 100000 bunch crossings and N=24: 0 min 6 s\n",
      "------------\n",
      "CPU time for 100000 bunch crossings and N=25: 0 min 7 s\n",
      "------------\n",
      "CPU time for 100000 bunch crossings and N=26: 0 min 7 s\n",
      "------------\n",
      "CPU time for 100000 bunch crossings and N=27: 0 min 7 s\n",
      "------------\n",
      "CPU time for 100000 bunch crossings and N=28: 0 min 7 s\n",
      "------------\n",
      "CPU time for 100000 bunch crossings and N=29: 0 min 7 s\n",
      "------------\n",
      "CPU time for 100000 bunch crossings and N=30: 0 min 7 s\n",
      "------------\n",
      "CPU time for 100000 bunch crossings and N=31: 0 min 7 s\n",
      "------------\n",
      "CPU time for 100000 bunch crossings and N=32: 0 min 7 s\n",
      "------------\n",
      "CPU time for 100000 bunch crossings and N=33: 0 min 7 s\n",
      "------------\n",
      "CPU time for 100000 bunch crossings and N=34: 0 min 7 s\n",
      "------------\n",
      "CPU time for 100000 bunch crossings and N=35: 0 min 7 s\n",
      "------------\n",
      "CPU time for 100000 bunch crossings and N=36: 0 min 8 s\n",
      "------------\n",
      "CPU time for 100000 bunch crossings and N=37: 0 min 8 s\n",
      "------------\n",
      "CPU time for 100000 bunch crossings and N=38: 0 min 8 s\n",
      "------------\n",
      "CPU time for 100000 bunch crossings and N=39: 0 min 8 s\n",
      "------------\n",
      "CPU time for 100000 bunch crossings and N=40: 0 min 8 s\n",
      "------------\n",
      "CPU time for 100000 bunch crossings and N=41: 0 min 8 s\n",
      "------------\n",
      "CPU time for 100000 bunch crossings and N=42: 0 min 8 s\n",
      "------------\n",
      "CPU time for 100000 bunch crossings and N=43: 0 min 8 s\n",
      "------------\n",
      "CPU time for 100000 bunch crossings and N=44: 0 min 8 s\n",
      "------------\n",
      "CPU time for 100000 bunch crossings and N=45: 0 min 8 s\n",
      "------------\n",
      "CPU time for 100000 bunch crossings and N=46: 0 min 8 s\n",
      "------------\n",
      "CPU time for 100000 bunch crossings and N=47: 0 min 9 s\n",
      "------------\n",
      "CPU time for 100000 bunch crossings and N=48: 0 min 9 s\n",
      "------------\n",
      "CPU time for 100000 bunch crossings and N=49: 0 min 9 s\n",
      "------------\n",
      "CPU time for 100000 bunch crossings and N=50: 0 min 9 s\n",
      "------------\n",
      "CPU time for 100000 bunch crossings and N=51: 0 min 9 s\n",
      "------------\n",
      "CPU time for 100000 bunch crossings and N=52: 0 min 9 s\n",
      "------------\n",
      "CPU time for 100000 bunch crossings and N=53: 0 min 9 s\n",
      "------------\n",
      "CPU time for 100000 bunch crossings and N=54: 0 min 9 s\n",
      "------------\n",
      "CPU time for 100000 bunch crossings and N=55: 0 min 9 s\n",
      "------------\n",
      "CPU time for 100000 bunch crossings and N=56: 0 min 9 s\n",
      "------------\n",
      "CPU time for 100000 bunch crossings and N=57: 0 min 9 s\n",
      "------------\n",
      "CPU time for 100000 bunch crossings and N=58: 0 min 9 s\n",
      "------------\n",
      "CPU time for 100000 bunch crossings and N=59: 0 min 10 s\n",
      "------------\n",
      "CPU time for 100000 bunch crossings and N=60: 0 min 10 s\n",
      "------------\n",
      "CPU time for 100000 bunch crossings and N=61: 0 min 10 s\n",
      "------------\n",
      "CPU time for 100000 bunch crossings and N=62: 0 min 10 s\n",
      "------------\n",
      "CPU time for 100000 bunch crossings and N=63: 0 min 10 s\n",
      "------------\n",
      "CPU time for 100000 bunch crossings and N=64: 0 min 10 s\n",
      "------------\n",
      "CPU time for 100000 bunch crossings and N=65: 0 min 10 s\n",
      "------------\n",
      "CPU time for 100000 bunch crossings and N=66: 0 min 10 s\n",
      "------------\n",
      "CPU time for 100000 bunch crossings and N=67: 0 min 11 s\n",
      "------------\n",
      "CPU time for 100000 bunch crossings and N=68: 0 min 10 s\n",
      "------------\n",
      "CPU time for 100000 bunch crossings and N=69: 0 min 11 s\n",
      "------------\n",
      "CPU time for 100000 bunch crossings and N=70: 0 min 11 s\n",
      "------------\n",
      "CPU time for 100000 bunch crossings and N=71: 0 min 11 s\n",
      "------------\n",
      "CPU time for 100000 bunch crossings and N=72: 0 min 12 s\n",
      "------------\n",
      "CPU time for 100000 bunch crossings and N=73: 0 min 12 s\n",
      "------------\n",
      "CPU time for 100000 bunch crossings and N=74: 0 min 11 s\n",
      "------------\n",
      "CPU time for 100000 bunch crossings and N=75: 0 min 11 s\n",
      "------------\n",
      "CPU time for 100000 bunch crossings and N=76: 0 min 11 s\n",
      "------------\n",
      "CPU time for 100000 bunch crossings and N=77: 0 min 12 s\n",
      "------------\n",
      "CPU time for 100000 bunch crossings and N=78: 0 min 12 s\n",
      "------------\n",
      "CPU time for 100000 bunch crossings and N=79: 0 min 12 s\n",
      "------------\n",
      "CPU time for 100000 bunch crossings and N=80: 0 min 12 s\n",
      "------------\n",
      "CPU time for 100000 bunch crossings and N=81: 0 min 12 s\n",
      "------------\n",
      "CPU time for 100000 bunch crossings and N=82: 0 min 12 s\n",
      "------------\n",
      "CPU time for 100000 bunch crossings and N=83: 0 min 12 s\n",
      "------------\n",
      "CPU time for 100000 bunch crossings and N=84: 0 min 12 s\n",
      "------------\n",
      "CPU time for 100000 bunch crossings and N=85: 0 min 12 s\n",
      "------------\n",
      "CPU time for 100000 bunch crossings and N=86: 0 min 12 s\n",
      "------------\n",
      "CPU time for 100000 bunch crossings and N=87: 0 min 12 s\n",
      "------------\n",
      "CPU time for 100000 bunch crossings and N=88: 0 min 12 s\n",
      "------------\n",
      "CPU time for 100000 bunch crossings and N=89: 0 min 12 s\n",
      "------------\n",
      "CPU time for 100000 bunch crossings and N=90: 0 min 12 s\n",
      "------------\n",
      "CPU time for 100000 bunch crossings and N=91: 0 min 12 s\n",
      "------------\n",
      "CPU time for 100000 bunch crossings and N=92: 0 min 13 s\n",
      "------------\n",
      "CPU time for 100000 bunch crossings and N=93: 0 min 13 s\n",
      "------------\n",
      "CPU time for 100000 bunch crossings and N=94: 0 min 13 s\n",
      "------------\n",
      "CPU time for 100000 bunch crossings and N=95: 0 min 13 s\n",
      "------------\n",
      "CPU time for 100000 bunch crossings and N=96: 0 min 13 s\n",
      "------------\n",
      "CPU time for 100000 bunch crossings and N=97: 0 min 13 s\n",
      "------------\n",
      "CPU time for 100000 bunch crossings and N=98: 0 min 13 s\n",
      "------------\n",
      "CPU time for 100000 bunch crossings and N=99: 0 min 13 s\n",
      "------------\n",
      "CPU time for 100000 bunch crossings and N=100: 0 min 13 s\n",
      "------------\n",
      "finished in 14 min and 54.526278 s\n",
      "100\n"
     ]
    }
   ],
   "source": [
    "Tic = time.time()\n",
    "List_of_Reference = []\n",
    "for i in range(1,101):\n",
    "    (A,B,C) = Tracks_N(i)\n",
    "    List_of_Reference.append(C)\n",
    "    print(\"------------\")\n",
    "Toc = time.time()\n",
    "Time_min = int((Toc-Tic)/60)\n",
    "Time_sec = Toc-Tic-60*Time_min\n",
    "print(\"finished in %d min and %f s\" % (Time_min,Time_sec))\n",
    "print(len(List_of_Reference))"
   ]
  },
  {
   "cell_type": "markdown",
   "metadata": {},
   "source": [
    "### export data"
   ]
  },
  {
   "cell_type": "code",
   "execution_count": 14,
   "metadata": {},
   "outputs": [],
   "source": [
    "np.savetxt(\"Data_Christian_N_Tracks.txt\", Diff_Dis_Array)"
   ]
  },
  {
   "cell_type": "markdown",
   "metadata": {},
   "source": [
    "### import data"
   ]
  },
  {
   "cell_type": "code",
   "execution_count": 15,
   "metadata": {},
   "outputs": [],
   "source": [
    "Data_Christian = loadtxt(\"Data_Christian_N_Tracks.txt\");"
   ]
  },
  {
   "cell_type": "markdown",
   "metadata": {},
   "source": [
    "### Creating Distribution"
   ]
  },
  {
   "cell_type": "code",
   "execution_count": 106,
   "metadata": {},
   "outputs": [],
   "source": [
    "List_of_Reference\n",
    "mu=12\n",
    "Total = [0]*1000\n",
    "for i in range(0,100):\n",
    "    Import = np.array(List_of_Reference[i])\n",
    "    ThisStep = Pois(mu,i) * Import\n",
    "    Total = np.add(Total,ThisStep)"
   ]
  },
  {
   "cell_type": "markdown",
   "metadata": {},
   "source": [
    "### Plot distribution"
   ]
  },
  {
   "cell_type": "code",
   "execution_count": 107,
   "metadata": {},
   "outputs": [
    {
     "data": {
      "image/png": "[encoded data removed]",
      "text/plain": [
       "<Figure size 432x288 with 1 Axes>"
      ]
     },
     "metadata": {
      "needs_background": "light"
     },
     "output_type": "display_data"
    }
   ],
   "source": [
    "tic = time.time()\n",
    "plt.bar(list(range(1000)),np.array(Total))\n",
    "plt.title(\"histogram\") \n",
    "plt.show()"
   ]
  },
  {
   "cell_type": "markdown",
   "metadata": {},
   "source": [
    "### Difference"
   ]
  },
  {
   "cell_type": "code",
   "execution_count": 108,
   "metadata": {},
   "outputs": [
    {
     "data": {
      "image/png": "[encoded data removed]",
      "text/plain": [
       "<Figure size 432x288 with 1 Axes>"
      ]
     },
     "metadata": {
      "needs_background": "light"
     },
     "output_type": "display_data"
    },
    {
     "name": "stdout",
     "output_type": "stream",
     "text": [
      "absolute error: 0.109435\n"
     ]
    }
   ],
   "source": [
    "tic = time.time()\n",
    "plt.bar(list(range(1000)),np.array(Total-X))\n",
    "plt.title(\"histogram\") \n",
    "plt.show()\n",
    "absolute_error = np.sum(abs(Total-X))\n",
    "print(\"absolute error: %f\" % absolute_error)"
   ]
  },
  {
   "cell_type": "code",
   "execution_count": 2,
   "metadata": {},
   "outputs": [],
   "source": [
    "def sum_to_n(n, size,limit=None):\n",
    "    \"\"\"Produce all lists of `size` all combinations of positive \n",
    "    integers that add up to `n`.\"\"\"\n",
    "    if size == 1:#gives values of last position\n",
    "        yield [n]\n",
    "        return\n",
    "    if limit is None:#sets limit\n",
    "        limit = n\n",
    "    start = 0 # start value of all numbers\n",
    "    stop = size+1 # max value of all numbers\n",
    "    # fix on value and go on to the next position\n",
    "    for i in range(start, stop): \n",
    "        # decrease n (the availbe number) by the amount of the fixed\n",
    "        # number (here i) and size by 1 (next position)\n",
    "        for tail in sum_to_n(n - i, size - 1, i):\n",
    "            #append final array\n",
    "            yield [i] + tail"
   ]
  },
  {
   "cell_type": "code",
   "execution_count": 3,
   "metadata": {},
   "outputs": [],
   "source": [
    "#create a list of all combinations\n",
    "def Combinations(Tracks,N):\n",
    "    List_of_Lists = []\n",
    "    for partition in sum_to_n(Tracks, N):\n",
    "        List_of_Lists.append(partition)\n",
    "    return(List_of_Lists)"
   ]
  },
  {
   "cell_type": "code",
   "execution_count": 4,
   "metadata": {},
   "outputs": [
    {
     "ename": "KeyboardInterrupt",
     "evalue": "",
     "output_type": "error",
     "traceback": [
      "\u001b[0;31m---------------------------------------------------------------------------\u001b[0m",
      "\u001b[0;31mKeyboardInterrupt\u001b[0m                         Traceback (most recent call last)",
      "\u001b[0;32m<ipython-input-4-1f12340ac93c>\u001b[0m in \u001b[0;36m<module>\u001b[0;34m\u001b[0m\n\u001b[1;32m      4\u001b[0m \u001b[0mX_max\u001b[0m \u001b[0;34m=\u001b[0m \u001b[0;36m2\u001b[0m\u001b[0;34m\u001b[0m\u001b[0;34m\u001b[0m\u001b[0m\n\u001b[1;32m      5\u001b[0m \u001b[0;32mfor\u001b[0m \u001b[0mi\u001b[0m \u001b[0;32min\u001b[0m \u001b[0mrange\u001b[0m\u001b[0;34m(\u001b[0m\u001b[0mX_max\u001b[0m\u001b[0;34m)\u001b[0m\u001b[0;34m:\u001b[0m\u001b[0;34m\u001b[0m\u001b[0;34m\u001b[0m\u001b[0m\n\u001b[0;32m----> 6\u001b[0;31m     \u001b[0mArray_Posibility\u001b[0m \u001b[0;34m=\u001b[0m \u001b[0mCombinations\u001b[0m\u001b[0;34m(\u001b[0m\u001b[0mi\u001b[0m\u001b[0;34m,\u001b[0m\u001b[0mN\u001b[0m\u001b[0;34m)\u001b[0m\u001b[0;34m\u001b[0m\u001b[0;34m\u001b[0m\u001b[0m\n\u001b[0m\u001b[1;32m      7\u001b[0m     \u001b[0mToc_Between\u001b[0m \u001b[0;34m=\u001b[0m \u001b[0mtime\u001b[0m\u001b[0;34m.\u001b[0m\u001b[0mtime\u001b[0m\u001b[0;34m(\u001b[0m\u001b[0;34m)\u001b[0m\u001b[0;34m\u001b[0m\u001b[0;34m\u001b[0m\u001b[0m\n\u001b[1;32m      8\u001b[0m     \u001b[0mTime_List\u001b[0m\u001b[0;34m.\u001b[0m\u001b[0mappend\u001b[0m\u001b[0;34m(\u001b[0m\u001b[0mToc_Between\u001b[0m\u001b[0;34m-\u001b[0m\u001b[0mTic\u001b[0m\u001b[0;34m)\u001b[0m\u001b[0;34m\u001b[0m\u001b[0;34m\u001b[0m\u001b[0m\n",
      "\u001b[0;32m<ipython-input-3-1f30d1c750b3>\u001b[0m in \u001b[0;36mCombinations\u001b[0;34m(Tracks, N)\u001b[0m\n\u001b[1;32m      2\u001b[0m \u001b[0;32mdef\u001b[0m \u001b[0mCombinations\u001b[0m\u001b[0;34m(\u001b[0m\u001b[0mTracks\u001b[0m\u001b[0;34m,\u001b[0m\u001b[0mN\u001b[0m\u001b[0;34m)\u001b[0m\u001b[0;34m:\u001b[0m\u001b[0;34m\u001b[0m\u001b[0;34m\u001b[0m\u001b[0m\n\u001b[1;32m      3\u001b[0m     \u001b[0mList_of_Lists\u001b[0m \u001b[0;34m=\u001b[0m \u001b[0;34m[\u001b[0m\u001b[0;34m]\u001b[0m\u001b[0;34m\u001b[0m\u001b[0;34m\u001b[0m\u001b[0m\n\u001b[0;32m----> 4\u001b[0;31m     \u001b[0;32mfor\u001b[0m \u001b[0mpartition\u001b[0m \u001b[0;32min\u001b[0m \u001b[0msum_to_n\u001b[0m\u001b[0;34m(\u001b[0m\u001b[0mTracks\u001b[0m\u001b[0;34m,\u001b[0m \u001b[0mN\u001b[0m\u001b[0;34m)\u001b[0m\u001b[0;34m:\u001b[0m\u001b[0;34m\u001b[0m\u001b[0;34m\u001b[0m\u001b[0m\n\u001b[0m\u001b[1;32m      5\u001b[0m         \u001b[0mList_of_Lists\u001b[0m\u001b[0;34m.\u001b[0m\u001b[0mappend\u001b[0m\u001b[0;34m(\u001b[0m\u001b[0mpartition\u001b[0m\u001b[0;34m)\u001b[0m\u001b[0;34m\u001b[0m\u001b[0;34m\u001b[0m\u001b[0m\n\u001b[1;32m      6\u001b[0m     \u001b[0;32mreturn\u001b[0m\u001b[0;34m(\u001b[0m\u001b[0mList_of_Lists\u001b[0m\u001b[0;34m)\u001b[0m\u001b[0;34m\u001b[0m\u001b[0;34m\u001b[0m\u001b[0m\n",
      "\u001b[0;32m<ipython-input-2-61fd08aeaaca>\u001b[0m in \u001b[0;36msum_to_n\u001b[0;34m(n, size, limit)\u001b[0m\n\u001b[1;32m     13\u001b[0m         \u001b[0;31m# decrease n (the availbe number) by the amount of the fixed\u001b[0m\u001b[0;34m\u001b[0m\u001b[0;34m\u001b[0m\u001b[0;34m\u001b[0m\u001b[0m\n\u001b[1;32m     14\u001b[0m         \u001b[0;31m# number (here i) and size by 1 (next position)\u001b[0m\u001b[0;34m\u001b[0m\u001b[0;34m\u001b[0m\u001b[0;34m\u001b[0m\u001b[0m\n\u001b[0;32m---> 15\u001b[0;31m         \u001b[0;32mfor\u001b[0m \u001b[0mtail\u001b[0m \u001b[0;32min\u001b[0m \u001b[0msum_to_n\u001b[0m\u001b[0;34m(\u001b[0m\u001b[0mn\u001b[0m \u001b[0;34m-\u001b[0m \u001b[0mi\u001b[0m\u001b[0;34m,\u001b[0m \u001b[0msize\u001b[0m \u001b[0;34m-\u001b[0m \u001b[0;36m1\u001b[0m\u001b[0;34m,\u001b[0m \u001b[0mi\u001b[0m\u001b[0;34m)\u001b[0m\u001b[0;34m:\u001b[0m\u001b[0;34m\u001b[0m\u001b[0;34m\u001b[0m\u001b[0m\n\u001b[0m\u001b[1;32m     16\u001b[0m             \u001b[0;31m#append final array\u001b[0m\u001b[0;34m\u001b[0m\u001b[0;34m\u001b[0m\u001b[0;34m\u001b[0m\u001b[0m\n\u001b[1;32m     17\u001b[0m             \u001b[0;32myield\u001b[0m \u001b[0;34m[\u001b[0m\u001b[0mi\u001b[0m\u001b[0;34m]\u001b[0m \u001b[0;34m+\u001b[0m \u001b[0mtail\u001b[0m\u001b[0;34m\u001b[0m\u001b[0;34m\u001b[0m\u001b[0m\n",
      "\u001b[0;32m<ipython-input-2-61fd08aeaaca>\u001b[0m in \u001b[0;36msum_to_n\u001b[0;34m(n, size, limit)\u001b[0m\n\u001b[1;32m     15\u001b[0m         \u001b[0;32mfor\u001b[0m \u001b[0mtail\u001b[0m \u001b[0;32min\u001b[0m \u001b[0msum_to_n\u001b[0m\u001b[0;34m(\u001b[0m\u001b[0mn\u001b[0m \u001b[0;34m-\u001b[0m \u001b[0mi\u001b[0m\u001b[0;34m,\u001b[0m \u001b[0msize\u001b[0m \u001b[0;34m-\u001b[0m \u001b[0;36m1\u001b[0m\u001b[0;34m,\u001b[0m \u001b[0mi\u001b[0m\u001b[0;34m)\u001b[0m\u001b[0;34m:\u001b[0m\u001b[0;34m\u001b[0m\u001b[0;34m\u001b[0m\u001b[0m\n\u001b[1;32m     16\u001b[0m             \u001b[0;31m#append final array\u001b[0m\u001b[0;34m\u001b[0m\u001b[0;34m\u001b[0m\u001b[0;34m\u001b[0m\u001b[0m\n\u001b[0;32m---> 17\u001b[0;31m             \u001b[0;32myield\u001b[0m \u001b[0;34m[\u001b[0m\u001b[0mi\u001b[0m\u001b[0;34m]\u001b[0m \u001b[0;34m+\u001b[0m \u001b[0mtail\u001b[0m\u001b[0;34m\u001b[0m\u001b[0;34m\u001b[0m\u001b[0m\n\u001b[0m",
      "\u001b[0;31mKeyboardInterrupt\u001b[0m: "
     ]
    }
   ],
   "source": [
    "Tic = time.time()\n",
    "Time_List = []\n",
    "N = 10\n",
    "X_max = 2\n",
    "for i in range(X_max):\n",
    "    Array_Posibility = Combinations(i,N)\n",
    "    Toc_Between = time.time()\n",
    "    Time_List.append(Toc_Between-Tic)\n",
    "    print(\"Time for X = %d: %f s\" % (i,Toc_Between-Tic))    \n",
    "Toc = time.time()\n",
    "print(\"Time for N = %d and X_max = %d: %f s\" % (N,X_max,Toc-Tic))"
   ]
  },
  {
   "cell_type": "code",
   "execution_count": 28,
   "metadata": {},
   "outputs": [
    {
     "ename": "ValueError",
     "evalue": "x and y must have same first dimension, but have shapes (17,) and (7,)",
     "output_type": "error",
     "traceback": [
      "\u001b[0;31m---------------------------------------------------------------------------\u001b[0m",
      "\u001b[0;31mValueError\u001b[0m                                Traceback (most recent call last)",
      "\u001b[0;32m<ipython-input-28-352d049d4405>\u001b[0m in \u001b[0;36m<module>\u001b[0;34m\u001b[0m\n\u001b[0;32m----> 1\u001b[0;31m \u001b[0mplt\u001b[0m\u001b[0;34m.\u001b[0m\u001b[0mplot\u001b[0m\u001b[0;34m(\u001b[0m\u001b[0mrange\u001b[0m\u001b[0;34m(\u001b[0m\u001b[0mX_max\u001b[0m\u001b[0;34m)\u001b[0m\u001b[0;34m,\u001b[0m \u001b[0mTime_List\u001b[0m\u001b[0;34m,\u001b[0m \u001b[0;34m'b-'\u001b[0m\u001b[0;34m)\u001b[0m\u001b[0;34m\u001b[0m\u001b[0;34m\u001b[0m\u001b[0m\n\u001b[0m\u001b[1;32m      2\u001b[0m \u001b[0mplt\u001b[0m\u001b[0;34m.\u001b[0m\u001b[0mxlabel\u001b[0m\u001b[0;34m(\u001b[0m\u001b[0;34m\"Up to Tracks)\"\u001b[0m\u001b[0;34m,\u001b[0m \u001b[0mfontsize\u001b[0m\u001b[0;34m=\u001b[0m\u001b[0;36m20\u001b[0m\u001b[0;34m)\u001b[0m\u001b[0;34m\u001b[0m\u001b[0;34m\u001b[0m\u001b[0m\n\u001b[1;32m      3\u001b[0m \u001b[0mplt\u001b[0m\u001b[0;34m.\u001b[0m\u001b[0mylabel\u001b[0m\u001b[0;34m(\u001b[0m\u001b[0;34m\"Time [s]\"\u001b[0m\u001b[0;34m,\u001b[0m \u001b[0mfontsize\u001b[0m\u001b[0;34m=\u001b[0m\u001b[0;36m20\u001b[0m\u001b[0;34m)\u001b[0m\u001b[0;34m\u001b[0m\u001b[0;34m\u001b[0m\u001b[0m\n\u001b[1;32m      4\u001b[0m \u001b[0mplt\u001b[0m\u001b[0;34m.\u001b[0m\u001b[0mtitle\u001b[0m\u001b[0;34m(\u001b[0m\u001b[0;34m\"Time over Tracks\"\u001b[0m\u001b[0;34m,\u001b[0m \u001b[0mfontsize\u001b[0m\u001b[0;34m=\u001b[0m\u001b[0;36m20\u001b[0m\u001b[0;34m)\u001b[0m\u001b[0;34m\u001b[0m\u001b[0;34m\u001b[0m\u001b[0m\n\u001b[1;32m      5\u001b[0m \u001b[0mplt\u001b[0m\u001b[0;34m.\u001b[0m\u001b[0mrcParams\u001b[0m\u001b[0;34m[\u001b[0m\u001b[0;34m\"figure.figsize\"\u001b[0m\u001b[0;34m]\u001b[0m \u001b[0;34m=\u001b[0m \u001b[0;34m(\u001b[0m\u001b[0;36m4\u001b[0m\u001b[0;34m,\u001b[0m\u001b[0;36m4\u001b[0m\u001b[0;34m)\u001b[0m\u001b[0;34m\u001b[0m\u001b[0;34m\u001b[0m\u001b[0m\n",
      "\u001b[0;32m/usr/local/lib/python3.8/dist-packages/matplotlib/pyplot.py\u001b[0m in \u001b[0;36mplot\u001b[0;34m(scalex, scaley, data, *args, **kwargs)\u001b[0m\n\u001b[1;32m   2838\u001b[0m \u001b[0;34m@\u001b[0m\u001b[0m_copy_docstring_and_deprecators\u001b[0m\u001b[0;34m(\u001b[0m\u001b[0mAxes\u001b[0m\u001b[0;34m.\u001b[0m\u001b[0mplot\u001b[0m\u001b[0;34m)\u001b[0m\u001b[0;34m\u001b[0m\u001b[0;34m\u001b[0m\u001b[0m\n\u001b[1;32m   2839\u001b[0m \u001b[0;32mdef\u001b[0m \u001b[0mplot\u001b[0m\u001b[0;34m(\u001b[0m\u001b[0;34m*\u001b[0m\u001b[0margs\u001b[0m\u001b[0;34m,\u001b[0m \u001b[0mscalex\u001b[0m\u001b[0;34m=\u001b[0m\u001b[0;32mTrue\u001b[0m\u001b[0;34m,\u001b[0m \u001b[0mscaley\u001b[0m\u001b[0;34m=\u001b[0m\u001b[0;32mTrue\u001b[0m\u001b[0;34m,\u001b[0m \u001b[0mdata\u001b[0m\u001b[0;34m=\u001b[0m\u001b[0;32mNone\u001b[0m\u001b[0;34m,\u001b[0m \u001b[0;34m**\u001b[0m\u001b[0mkwargs\u001b[0m\u001b[0;34m)\u001b[0m\u001b[0;34m:\u001b[0m\u001b[0;34m\u001b[0m\u001b[0;34m\u001b[0m\u001b[0m\n\u001b[0;32m-> 2840\u001b[0;31m     return gca().plot(\n\u001b[0m\u001b[1;32m   2841\u001b[0m         \u001b[0;34m*\u001b[0m\u001b[0margs\u001b[0m\u001b[0;34m,\u001b[0m \u001b[0mscalex\u001b[0m\u001b[0;34m=\u001b[0m\u001b[0mscalex\u001b[0m\u001b[0;34m,\u001b[0m \u001b[0mscaley\u001b[0m\u001b[0;34m=\u001b[0m\u001b[0mscaley\u001b[0m\u001b[0;34m,\u001b[0m\u001b[0;34m\u001b[0m\u001b[0;34m\u001b[0m\u001b[0m\n\u001b[1;32m   2842\u001b[0m         **({\"data\": data} if data is not None else {}), **kwargs)\n",
      "\u001b[0;32m/usr/local/lib/python3.8/dist-packages/matplotlib/axes/_axes.py\u001b[0m in \u001b[0;36mplot\u001b[0;34m(self, scalex, scaley, data, *args, **kwargs)\u001b[0m\n\u001b[1;32m   1741\u001b[0m         \"\"\"\n\u001b[1;32m   1742\u001b[0m         \u001b[0mkwargs\u001b[0m \u001b[0;34m=\u001b[0m \u001b[0mcbook\u001b[0m\u001b[0;34m.\u001b[0m\u001b[0mnormalize_kwargs\u001b[0m\u001b[0;34m(\u001b[0m\u001b[0mkwargs\u001b[0m\u001b[0;34m,\u001b[0m \u001b[0mmlines\u001b[0m\u001b[0;34m.\u001b[0m\u001b[0mLine2D\u001b[0m\u001b[0;34m)\u001b[0m\u001b[0;34m\u001b[0m\u001b[0;34m\u001b[0m\u001b[0m\n\u001b[0;32m-> 1743\u001b[0;31m         \u001b[0mlines\u001b[0m \u001b[0;34m=\u001b[0m \u001b[0;34m[\u001b[0m\u001b[0;34m*\u001b[0m\u001b[0mself\u001b[0m\u001b[0;34m.\u001b[0m\u001b[0m_get_lines\u001b[0m\u001b[0;34m(\u001b[0m\u001b[0;34m*\u001b[0m\u001b[0margs\u001b[0m\u001b[0;34m,\u001b[0m \u001b[0mdata\u001b[0m\u001b[0;34m=\u001b[0m\u001b[0mdata\u001b[0m\u001b[0;34m,\u001b[0m \u001b[0;34m**\u001b[0m\u001b[0mkwargs\u001b[0m\u001b[0;34m)\u001b[0m\u001b[0;34m]\u001b[0m\u001b[0;34m\u001b[0m\u001b[0;34m\u001b[0m\u001b[0m\n\u001b[0m\u001b[1;32m   1744\u001b[0m         \u001b[0;32mfor\u001b[0m \u001b[0mline\u001b[0m \u001b[0;32min\u001b[0m \u001b[0mlines\u001b[0m\u001b[0;34m:\u001b[0m\u001b[0;34m\u001b[0m\u001b[0;34m\u001b[0m\u001b[0m\n\u001b[1;32m   1745\u001b[0m             \u001b[0mself\u001b[0m\u001b[0;34m.\u001b[0m\u001b[0madd_line\u001b[0m\u001b[0;34m(\u001b[0m\u001b[0mline\u001b[0m\u001b[0;34m)\u001b[0m\u001b[0;34m\u001b[0m\u001b[0;34m\u001b[0m\u001b[0m\n",
      "\u001b[0;32m/usr/local/lib/python3.8/dist-packages/matplotlib/axes/_base.py\u001b[0m in \u001b[0;36m__call__\u001b[0;34m(self, data, *args, **kwargs)\u001b[0m\n\u001b[1;32m    271\u001b[0m                 \u001b[0mthis\u001b[0m \u001b[0;34m+=\u001b[0m \u001b[0margs\u001b[0m\u001b[0;34m[\u001b[0m\u001b[0;36m0\u001b[0m\u001b[0;34m]\u001b[0m\u001b[0;34m,\u001b[0m\u001b[0;34m\u001b[0m\u001b[0;34m\u001b[0m\u001b[0m\n\u001b[1;32m    272\u001b[0m                 \u001b[0margs\u001b[0m \u001b[0;34m=\u001b[0m \u001b[0margs\u001b[0m\u001b[0;34m[\u001b[0m\u001b[0;36m1\u001b[0m\u001b[0;34m:\u001b[0m\u001b[0;34m]\u001b[0m\u001b[0;34m\u001b[0m\u001b[0;34m\u001b[0m\u001b[0m\n\u001b[0;32m--> 273\u001b[0;31m             \u001b[0;32myield\u001b[0m \u001b[0;32mfrom\u001b[0m \u001b[0mself\u001b[0m\u001b[0;34m.\u001b[0m\u001b[0m_plot_args\u001b[0m\u001b[0;34m(\u001b[0m\u001b[0mthis\u001b[0m\u001b[0;34m,\u001b[0m \u001b[0mkwargs\u001b[0m\u001b[0;34m)\u001b[0m\u001b[0;34m\u001b[0m\u001b[0;34m\u001b[0m\u001b[0m\n\u001b[0m\u001b[1;32m    274\u001b[0m \u001b[0;34m\u001b[0m\u001b[0m\n\u001b[1;32m    275\u001b[0m     \u001b[0;32mdef\u001b[0m \u001b[0mget_next_color\u001b[0m\u001b[0;34m(\u001b[0m\u001b[0mself\u001b[0m\u001b[0;34m)\u001b[0m\u001b[0;34m:\u001b[0m\u001b[0;34m\u001b[0m\u001b[0;34m\u001b[0m\u001b[0m\n",
      "\u001b[0;32m/usr/local/lib/python3.8/dist-packages/matplotlib/axes/_base.py\u001b[0m in \u001b[0;36m_plot_args\u001b[0;34m(self, tup, kwargs)\u001b[0m\n\u001b[1;32m    397\u001b[0m \u001b[0;34m\u001b[0m\u001b[0m\n\u001b[1;32m    398\u001b[0m         \u001b[0;32mif\u001b[0m \u001b[0mx\u001b[0m\u001b[0;34m.\u001b[0m\u001b[0mshape\u001b[0m\u001b[0;34m[\u001b[0m\u001b[0;36m0\u001b[0m\u001b[0;34m]\u001b[0m \u001b[0;34m!=\u001b[0m \u001b[0my\u001b[0m\u001b[0;34m.\u001b[0m\u001b[0mshape\u001b[0m\u001b[0;34m[\u001b[0m\u001b[0;36m0\u001b[0m\u001b[0;34m]\u001b[0m\u001b[0;34m:\u001b[0m\u001b[0;34m\u001b[0m\u001b[0;34m\u001b[0m\u001b[0m\n\u001b[0;32m--> 399\u001b[0;31m             raise ValueError(f\"x and y must have same first dimension, but \"\n\u001b[0m\u001b[1;32m    400\u001b[0m                              f\"have shapes {x.shape} and {y.shape}\")\n\u001b[1;32m    401\u001b[0m         \u001b[0;32mif\u001b[0m \u001b[0mx\u001b[0m\u001b[0;34m.\u001b[0m\u001b[0mndim\u001b[0m \u001b[0;34m>\u001b[0m \u001b[0;36m2\u001b[0m \u001b[0;32mor\u001b[0m \u001b[0my\u001b[0m\u001b[0;34m.\u001b[0m\u001b[0mndim\u001b[0m \u001b[0;34m>\u001b[0m \u001b[0;36m2\u001b[0m\u001b[0;34m:\u001b[0m\u001b[0;34m\u001b[0m\u001b[0;34m\u001b[0m\u001b[0m\n",
      "\u001b[0;31mValueError\u001b[0m: x and y must have same first dimension, but have shapes (17,) and (7,)"
     ]
    },
    {
     "data": {
      "image/png": "[encoded data removed]",
      "text/plain": [
       "<Figure size 288x288 with 1 Axes>"
      ]
     },
     "metadata": {
      "needs_background": "light"
     },
     "output_type": "display_data"
    }
   ],
   "source": [
    "plt.plot(range(X_max), Time_List, 'b-')\n",
    "plt.xlabel(\"Up to Tracks)\", fontsize=20)\n",
    "plt.ylabel(\"Time [s]\", fontsize=20)\n",
    "plt.title(\"Time over Tracks\", fontsize=20) \n",
    "plt.rcParams[\"figure.figsize\"] = (4,4)\n",
    "plt.safefig(\"Time_over_Tracks.pdf\")"
   ]
  },
  {
   "cell_type": "code",
   "execution_count": 88,
   "metadata": {},
   "outputs": [
    {
     "name": "stdout",
     "output_type": "stream",
     "text": [
      "[2]\n"
     ]
    }
   ],
   "source": [
    "List_of_Lists = []\n",
    "for partition in sum_to_n(2, 1):\n",
    "    print(partition)\n",
    "    List_of_Lists.append(partition)"
   ]
  },
  {
   "cell_type": "markdown",
   "metadata": {},
   "source": [
    "# Complete New try"
   ]
  },
  {
   "cell_type": "code",
   "execution_count": 37,
   "metadata": {},
   "outputs": [],
   "source": [
    "Tracks = 1600\n",
    "N = 700"
   ]
  },
  {
   "cell_type": "markdown",
   "metadata": {},
   "source": [
    "## Functions"
   ]
  },
  {
   "cell_type": "code",
   "execution_count": 38,
   "metadata": {},
   "outputs": [],
   "source": [
    "def func(x):\n",
    "    Value = exp(-0.272581-1.933719*x)+exp(-2.107228-0.198227*x)\n",
    "    return(Value)\n",
    "\n",
    "number = []\n",
    "weights = []\n",
    "for i in range(Tracks):\n",
    "    number.append(i)\n",
    "    weights.append(func(i))\n",
    "weights = np.array(weights)\n",
    "weights = weights/np.sum(weights)\n",
    "\n",
    "\n",
    "'Data_Eva(mu,Length) returns the simulated data'\n",
    "def Data_Eva(mu,Length):\n",
    "    tic = time.time()\n",
    "    X = [0] * Tracks\n",
    "    s = np.random.poisson(mu, Length)#random number from poisson distribution - number of pp col.\n",
    "    for i in range(Length):\n",
    "        a = random.choices(number, weights,k=s[i])#for each pp col. a random number of tracks corresponding to the pdf func(x)\n",
    "        A = np.sum(a)\n",
    "        if A < Tracks:# error prevention since len(X) = Tracks\n",
    "            X[int(A)] += 1\n",
    "    Data = np.array(X)\n",
    "    Data = Data/np.sum(Data)\n",
    "    toc = time.time()\n",
    "    print(\"%f s\" % (toc-tic))\n",
    "    return(Data)"
   ]
  },
  {
   "cell_type": "markdown",
   "metadata": {},
   "source": [
    "## Reference Data"
   ]
  },
  {
   "cell_type": "code",
   "execution_count": 39,
   "metadata": {},
   "outputs": [
    {
     "name": "stdout",
     "output_type": "stream",
     "text": [
      "823.6382746696472\n"
     ]
    }
   ],
   "source": [
    "Tic = time.time()\n",
    "Track_list = [weights]\n",
    "b = weights\n",
    "for l in range(1,N+1):\n",
    "    c = [0] * Tracks\n",
    "    for i in range(Tracks):\n",
    "        for k in range(i+1):\n",
    "            c[i] += weights[k] * b[i-k] \n",
    "    b = c\n",
    "    Track_list.append(b)\n",
    "Toc = time.time()\n",
    "print(Toc-Tic)"
   ]
  },
  {
   "cell_type": "code",
   "execution_count": 46,
   "metadata": {},
   "outputs": [
    {
     "data": {
      "image/png": "[encoded data removed]",
      "text/plain": [
       "<Figure size 648x648 with 1 Axes>"
      ]
     },
     "metadata": {
      "needs_background": "light"
     },
     "output_type": "display_data"
    }
   ],
   "source": [
    "tic = time.time()\n",
    "plt.bar(list(range(Tracks)),Track_list[20],label = \"N=21\")\n",
    "plt.bar(list(range(Tracks)),Track_list[109],label = \"N=110\")\n",
    "plt.bar(list(range(Tracks)),Track_list[189],label = \"N=190\")\n",
    "plt.bar(list(range(Tracks)),Track_list[299],label = \"N=300\")\n",
    "plt.bar(list(range(Tracks)),Track_list[449],label = \"N=450\")\n",
    "plt.bar(list(range(Tracks)),Track_list[599],label = \"N=600\")\n",
    "#plt.bar(list(range(Tracks)),Track_list[749],label = \"N=750\")\n",
    "#plt.bar(list(range(Tracks)),Track_list[999],label = \"N=1000\")\n",
    "plt.xlabel('Tracks X',fontsize=20)\n",
    "plt.ylabel('Prob',fontsize=20)\n",
    "plt.title(\"Prob. dis. for const. N\",fontsize=20) \n",
    "plt.legend()\n",
    "plt.rcParams[\"figure.figsize\"] = (9,9)\n",
    "plt.savefig(\"Constant_N_dis.pdf\")"
   ]
  },
  {
   "cell_type": "code",
   "execution_count": 41,
   "metadata": {},
   "outputs": [
    {
     "data": {
      "text/plain": [
       "0.9999999999999948"
      ]
     },
     "execution_count": 41,
     "metadata": {},
     "output_type": "execute_result"
    }
   ],
   "source": [
    "k = 110\n",
    "np.sum(np.array(Track_list[k]))\n"
   ]
  },
  {
   "cell_type": "code",
   "execution_count": 42,
   "metadata": {},
   "outputs": [
    {
     "name": "stdout",
     "output_type": "stream",
     "text": [
      "1.8184589127411243e-25\n"
     ]
    }
   ],
   "source": [
    "Ta = [0] * 300\n",
    "for i in range(300):\n",
    "            for k in range(300-i):\n",
    "                Ta[i] += weights[k+i] * weights[299-k] \n",
    "Ta = np.array(Ta)\n",
    "Sum = np.sum(Ta)\n",
    "print(Sum)"
   ]
  },
  {
   "cell_type": "markdown",
   "metadata": {},
   "source": [
    "## Data"
   ]
  },
  {
   "cell_type": "code",
   "execution_count": 50,
   "metadata": {},
   "outputs": [
    {
     "name": "stdout",
     "output_type": "stream",
     "text": [
      "64.470253 s\n"
     ]
    }
   ],
   "source": [
    "X = Data_Eva(160,100000)"
   ]
  },
  {
   "cell_type": "code",
   "execution_count": 51,
   "metadata": {},
   "outputs": [
    {
     "data": {
      "image/png": "[encoded data removed]",
      "text/plain": [
       "<Figure size 648x648 with 1 Axes>"
      ]
     },
     "metadata": {
      "needs_background": "light"
     },
     "output_type": "display_data"
    }
   ],
   "source": [
    "tic = time.time()\n",
    "plt.bar(list(range(Tracks)),X )\n",
    "plt.xlabel('Tracks X',fontsize=20)\n",
    "plt.ylabel('Prob',fontsize=20)\n",
    "plt.title(\"Prob. dis. for const. N\",fontsize=20) \n",
    "plt.rcParams[\"figure.figsize\"] = (9,9)\n",
    "plt.show()"
   ]
  },
  {
   "cell_type": "markdown",
   "metadata": {},
   "source": [
    "## reconstruct"
   ]
  },
  {
   "cell_type": "code",
   "execution_count": 81,
   "metadata": {},
   "outputs": [],
   "source": [
    "def Abs_diff(Mu_value,List_reference,data):\n",
    "    Total = [0]*Tracks\n",
    "    for i in range(N):\n",
    "        Import = np.array(List_reference[i])\n",
    "        ThisStep = poisson.pmf(i+1,Mu_value ) * Import\n",
    "        Total = np.add(Total,ThisStep)\n",
    "    c=0\n",
    "    for i in range(Tracks):\n",
    "        c += abs(Total[i]-data[i])\n",
    "    return(c)\n",
    "\n",
    "def Abs_diff_fit(a):\n",
    "    if a<0:\n",
    "        return(10)\n",
    "    else:\n",
    "        AbsoluteDiff = Abs_diff(a,Track_list,X)\n",
    "        return(AbsoluteDiff)"
   ]
  },
  {
   "cell_type": "code",
   "execution_count": 82,
   "metadata": {},
   "outputs": [
    {
     "name": "stdout",
     "output_type": "stream",
     "text": [
      "160.00852863904447\n",
      "Optimization terminated successfully.\n",
      "         Current function value: 0.043866\n",
      "         Iterations: 20\n",
      "         Function evaluations: 40\n",
      "      fun: 0.04386599621812459\n",
      " hess_inv: array([[319.17751731]])\n",
      "      jac: array([-5.27594239e-07])\n",
      "  message: 'Optimization terminated successfully.'\n",
      "     nfev: 96\n",
      "      nit: 3\n",
      "     njev: 48\n",
      "   status: 0\n",
      "  success: True\n",
      "        x: array([159.97802934])\n",
      "[159.97807047]\n"
     ]
    }
   ],
   "source": [
    "b=0\n",
    "c=0\n",
    "for i in range(Tracks):\n",
    "    b += weights[i] * i\n",
    "    c += X[i] *i\n",
    "a = c/b\n",
    "print(a)\n",
    "Fit1 = optimize.minimize(Abs_diff_fit, x0=a)\n",
    "Fit2 = fmin(Abs_diff_fit,np.array([a]))\n",
    "print(Fit1)\n",
    "print(Fit2)"
   ]
  },
  {
   "cell_type": "code",
   "execution_count": 17,
   "metadata": {},
   "outputs": [
    {
     "data": {
      "image/png": "[encoded data removed]",
      "text/plain": [
       "<Figure size 648x648 with 1 Axes>"
      ]
     },
     "metadata": {
      "needs_background": "light"
     },
     "output_type": "display_data"
    },
    {
     "name": "stdout",
     "output_type": "stream",
     "text": [
      "absolute error: 0.023248\n"
     ]
    }
   ],
   "source": [
    "plt.bar(list(range(1000)),np.array(Total-X))\n",
    "plt.title(\"histogram\") \n",
    "plt.show()\n",
    "absolute_error = np.sum(abs(Total-X))\n",
    "print(\"absolute error: %f\" % absolute_error)"
   ]
  },
  {
   "cell_type": "code",
   "execution_count": 76,
   "metadata": {},
   "outputs": [
    {
     "data": {
      "text/plain": [
       "0.12511003572113372"
      ]
     },
     "execution_count": 76,
     "metadata": {},
     "output_type": "execute_result"
    }
   ],
   "source": [
    "poisson.pmf(9, 10)"
   ]
  },
  {
   "cell_type": "code",
   "execution_count": null,
   "metadata": {},
   "outputs": [],
   "source": [
    "# Just writing down some helpful links\n",
    "# https://www.hackdeploy.com/fitting-probability-distributions-with-python/\n",
    "# https://stats.stackexchange.com/questions/66192/how-to-fit-a-discrete-distribution-to-count-data"
   ]
  }
 ],
 "metadata": {
  "celltoolbar": "Raw Cell Format",
  "kernelspec": {
   "display_name": "Python 3",
   "language": "python",
   "name": "python3"
  },
  "language_info": {
   "codemirror_mode": {
    "name": "ipython",
    "version": 3
   },
   "file_extension": ".py",
   "mimetype": "text/x-python",
   "name": "python",
   "nbconvert_exporter": "python",
   "pygments_lexer": "ipython3",
   "version": "3.8.5"
  }
 },
 "nbformat": 4,
 "nbformat_minor": 4
}
