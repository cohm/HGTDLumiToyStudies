{
 "cells": [
  {
   "cell_type": "markdown",
   "metadata": {},
   "source": [
    "### Eriks dubbelkoll\n",
    "\n",
    "Jag tänker att jag skriver simuleringar där jag dubbelkollar det vi skriver i rapporten."
   ]
  },
  {
   "cell_type": "markdown",
   "metadata": {},
   "source": [
    "### Imports"
   ]
  },
  {
   "cell_type": "code",
   "execution_count": 1,
   "metadata": {},
   "outputs": [
    {
     "name": "stdout",
     "output_type": "stream",
     "text": [
      "Welcome to JupyROOT 6.22/02\n"
     ]
    }
   ],
   "source": [
    "import ROOT\n",
    "import time"
   ]
  },
  {
   "cell_type": "markdown",
   "metadata": {},
   "source": [
    "### Class definitions"
   ]
  },
  {
   "cell_type": "code",
   "execution_count": 2,
   "metadata": {},
   "outputs": [],
   "source": [
    "class noise_generator:\n",
    "    def __init__(self, threshold, channel_count):\n",
    "        noise = ROOT.TF1(\"noise_gauss\", \"TMath::Gaus(x, 0, 5)\", 0, 1000)\n",
    "        self._mean = channel_count * noise.Integral(threshold, 1000)/noise.Integral(0, 1000)/2\n",
    "        self._prng = ROOT.TRandom3(time.time_ns())\n",
    "\n",
    "    def generate(self):\n",
    "        total = self._prng.Poisson(self._mean)\n",
    "        narrow = 0\n",
    "        for i in range(total):\n",
    "            if self._prng.Uniform(25) < 3.125:\n",
    "                narrow += 1\n",
    "        estimate = 3.125 * (total - narrow)/(25 - 3.125)\n",
    "        return narrow, estimate\n",
    "\n",
    "    \n",
    "class particles_generator:\n",
    "    def __init__(self, threshold, expected_voltage):\n",
    "        self._threshold = threshold\n",
    "        self._expected_voltage = expected_voltage\n",
    "        signal_func = ROOT.TF1(\"sth\", \"TMath::Landau(x, %f, %f)\" % (expected_voltage, expected_voltage/4), -100, 1000)\n",
    "        self.fraction_above = signal_func.Integral(threshold, 1000)/signal_func.Integral(-100, 1000)\n",
    "        self._prng = ROOT.TRandom3(time.time_ns())\n",
    "    \n",
    "    def generate(self, expected_count):\n",
    "        signal_count = self._prng.Poisson(expected_count)\n",
    "        above_threshold_count = 0\n",
    "        for i in range(signal_count):\n",
    "            if self._prng.Landau(self._expected_voltage, self._expected_voltage/4) > self._threshold:\n",
    "                above_threshold_count += 1\n",
    "        return signal_count, above_threshold_count\n",
    "    \n",
    "class simulation:\n",
    "    def __init__(self, threshold, expected_voltage, expected_count, bunch_crossing_count):\n",
    "        self._threshold = threshold\n",
    "        self._expected_voltage = expected_voltage\n",
    "        self._expected_count = expected_count\n",
    "        self._bunch_crossing_count = bunch_crossing_count\n",
    "        \n",
    "        channel_count = int(3.6 * 1e6)\n",
    "        self._particles = particles_generator(threshold, expected_voltage)\n",
    "        self._noise = noise_generator(threshold, channel_count)\n",
    "    \n",
    "    def run(self):\n",
    "        actual_particles_sum = 0\n",
    "        estimated_particles_sum = 0\n",
    "\n",
    "        for i in range(self._bunch_crossing_count):\n",
    "            noise_exact, noise_est = self._noise.generate()\n",
    "            particles_total, particles_above = self._particles.generate(self._expected_count)\n",
    "\n",
    "            total_activations = particles_above + noise_exact\n",
    "            particles_est = (total_activations - noise_est)/self._particles.fraction_above\n",
    "\n",
    "            actual_particles_sum += particles_total\n",
    "            estimated_particles_sum += particles_est\n",
    "\n",
    "        return estimated_particles_sum/actual_particles_sum"
   ]
  },
  {
   "cell_type": "markdown",
   "metadata": {},
   "source": [
    "### Simulations"
   ]
  },
  {
   "cell_type": "code",
   "execution_count": 3,
   "metadata": {},
   "outputs": [
    {
     "name": "stdout",
     "output_type": "stream",
     "text": [
      "1.0000208600855314\n",
      "18.711135625839233\n"
     ]
    }
   ],
   "source": [
    "my_sim = simulation(25, 100, 30, 1000000)\n",
    "t = time.time()\n",
    "print(my_sim.run())\n",
    "t = time.time() - t\n",
    "print(t)"
   ]
  },
  {
   "cell_type": "markdown",
   "metadata": {},
   "source": [
    "### Kommentarer på resultat\n",
    "Som väntat går relativa felet mot noll då antalet bunch crossings ökar. Är det vi håller på med ens meningsfullt då?"
   ]
  }
 ],
 "metadata": {
  "kernelspec": {
   "display_name": "Python 3",
   "language": "python",
   "name": "python3"
  },
  "language_info": {
   "codemirror_mode": {
    "name": "ipython",
    "version": 3
   },
   "file_extension": ".py",
   "mimetype": "text/x-python",
   "name": "python",
   "nbconvert_exporter": "python",
   "pygments_lexer": "ipython3",
   "version": "3.8.2"
  }
 },
 "nbformat": 4,
 "nbformat_minor": 4
}
