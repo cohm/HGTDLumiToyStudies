{
 "cells": [
  {
   "cell_type": "code",
   "execution_count": null,
   "metadata": {},
   "outputs": [],
   "source": [
    "import ROOT\n",
    "\n",
    "# let's create a function describing the distribution of amplitudes we expect to get from electronic noise\n",
    "sigmaNoise = 5 # we'll work in mV, so this means the standard deviation for the noise is 5 mV\n",
    "fNoise = ROOT.TF1(\"ElecNoiseBg\", \"TMath::Gaus(x, 0, %f)\" % sigmaNoise, -100, 500) # define it in [-100, 500] mV\n",
    "fNoise.SetNpx(10000) # this makes sure the function is drawn with many points, to remove jaggedness (default is 100)\n",
    "\n",
    "fNoise.Print()"
   ]
  },
  {
   "cell_type": "code",
   "execution_count": null,
   "metadata": {},
   "outputs": [],
   "source": [
    "# we need to create a canvas to draw our functions on\n",
    "canvas = ROOT.TCanvas(\"PulseAmplitudes\", \"Pulse amplitudes\", 800, 600)\n",
    "\n",
    "fNoise.Draw()\n",
    "fNoise.GetHistogram().GetXaxis().SetTitle(\"Amplitude [mV]\")\n",
    "fNoise.GetHistogram().GetYaxis().SetTitle(\"Number of pulses [a.u.]\")\n",
    "canvas.Draw()"
   ]
  },
  {
   "cell_type": "code",
   "execution_count": null,
   "metadata": {},
   "outputs": [],
   "source": [
    "# let's now make a function that describes the distribution of amplitudes we expect for our signal pulses, \n",
    "# i.e. those that come from actual charged particles passing through the silicon sensors of HGTD\n",
    "\n",
    "fSignal = ROOT.TF1(\"Signal\", \"TMath::Landau(x, 100, 20)\", -100, 500) # MPV = 100 mV, sigma = 50 mV\n",
    "fSignal.SetNpx(10000)\n",
    "\n",
    "fSignal.Draw(\"SAME\") # the option draws this function on top of anything that was already on the canvas\n",
    "canvas.Draw()"
   ]
  },
  {
   "cell_type": "code",
   "execution_count": null,
   "metadata": {},
   "outputs": [],
   "source": [
    "# let's make it easier to draw these with different colors etc through a dict\n",
    "# this dict will be used to set the style of the various functions and histograms we'll make\n",
    "plots = {\n",
    "    \"bg\" : {\n",
    "        \"hist\" : fNoise,\n",
    "        \"color\" : ROOT.kRed,\n",
    "        \"drawrangex\" : [-10, 500],\n",
    "        \"drawrangey\" : [1e-10, 1]\n",
    "    },\n",
    "    \"signal\" : {\n",
    "        \"hist\" : fSignal,\n",
    "        \"color\" : ROOT.kBlack,\n",
    "        \"drawrangex\" : [-10, 500],\n",
    "        \"drawrangey\" : [1e-10, 1]\n",
    "    }\n",
    "}\n",
    "\n",
    "# function to draw all functions\n",
    "def drawFunctions():\n",
    "    counter = 0\n",
    "    for p in plots:\n",
    "        print(\"Will now draw %s\" % p)\n",
    "        plots[p][\"hist\"].SetLineColor(plots[p][\"color\"])\n",
    "        plots[p][\"hist\"].GetXaxis().SetRangeUser(plots[p][\"drawrangex\"][0], plots[p][\"drawrangex\"][1])\n",
    "        plots[p][\"hist\"].GetYaxis().SetRangeUser(plots[p][\"drawrangey\"][0], plots[p][\"drawrangey\"][1])\n",
    "        drawOptions = \"\"\n",
    "        if counter > 0:\n",
    "            drawOptions += \"SAME\"\n",
    "        plots[p][\"hist\"].Draw(drawOptions)\n",
    "        counter += 1"
   ]
  },
  {
   "cell_type": "code",
   "execution_count": null,
   "metadata": {},
   "outputs": [],
   "source": [
    "# draw the functions with the newly defined options\n",
    "drawFunctions()\n",
    "canvas.Draw()"
   ]
  },
  {
   "cell_type": "code",
   "execution_count": null,
   "metadata": {},
   "outputs": [],
   "source": [
    "# use logarithmic y-axis to better see the low values\n",
    "canvas.SetLogy(1)\n",
    "drawFunctions()\n",
    "canvas.Draw()"
   ]
  },
  {
   "cell_type": "code",
   "execution_count": null,
   "metadata": {},
   "outputs": [],
   "source": [
    "# let's see what fraction of the pulses we'll get if we put a threshold at 50 mV\n",
    "threshold = 30\n",
    "selectedSignal = fSignal.Integral(threshold, 500)\n",
    "allSignal = fSignal.Integral(0, 500)\n",
    "print(\"Fraction of signal pulses below threshold: %E\" % ((allSignal-selectedSignal)/allSignal))\n",
    "\n",
    "selectedNoise = fNoise.Integral(threshold, 500)\n",
    "allNoise = fNoise.Integral(-100, 500)\n",
    "print(\"Fraction of background pulses above threshold: %E\" % (selectedNoise/allNoise))"
   ]
  },
  {
   "cell_type": "code",
   "execution_count": null,
   "metadata": {},
   "outputs": [],
   "source": []
  }
 ],
 "metadata": {
  "kernelspec": {
   "display_name": "Python 3",
   "language": "python",
   "name": "python3"
  },
  "language_info": {
   "codemirror_mode": {
    "name": "ipython",
    "version": 3
   },
   "file_extension": ".py",
   "mimetype": "text/x-python",
   "name": "python",
   "nbconvert_exporter": "python",
   "pygments_lexer": "ipython3",
   "version": "3.8.2"
  }
 },
 "nbformat": 4,
 "nbformat_minor": 2
}
