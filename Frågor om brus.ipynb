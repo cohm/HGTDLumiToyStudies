{
 "cells": [
  {
   "cell_type": "markdown",
   "metadata": {},
   "source": [
    "Vi har ett litet tidsfönster med tidslängd t\n",
    "\n",
    "--> CO: Ja\n",
    "Vi har ett stort tidsfönster med tidslängd T = N*t där N är ett positivt heltal\n",
    "\n",
    "--> CO: Ja\n",
    "### Stämmer det att\n",
    "* t = 3.125ns\n",
    "* Varje utläsningskanal bara kan aktiveras en gång per bunch crossing.\n",
    "\n",
    "--> CO: Ja\n",
    "* Brusets extremvärde i en mätkanal under det lilla fönstret är normalfördelat me standardavvikelse 5mV.\n",
    "\n",
    "--> CO: Bra fråga. Bäst är nog att se det som att vi slumpar fram ett maximalt brusvärde för en hel bunch crossing, dvs 25 ns. Om den är över tröskel kan vi se i vilket tidsfönster den hamnar. Här utgår vi ifrån att bruset är uniformt utspritt i tiden, dvs sannolikheten att den hamnar i ett tidsfönster med bredd T är T/(25 ns). För pulser från riktiga partiklar antar vi att de allihop hamnar i det lilla fönstret.\n",
    "* antalet_brusaktiverade_kanaler_i_lilla_tidsfönstret = antalet_kanaler * sannolikhetsmassa_över_tröskelvärde_för normalfördelning_med_standardavvikelse_5mv\n",
    "\n",
    "--> CO: Det ser rätt ut för att få fram ett genomsnitt. Vi kan utgå ifrån att detta är Poisson-fördelat och därmed är den statistiska osäkerheten då roten ur antalet aktiverade kanaler.\n",
    "\n",
    "\n",
    "### I så fall undrar jag\n",
    "* Är följande en korrekt metod för att avgöra om en kanal blir aktiverad i det stora intervallet? För varje kanal, dra N värden från fördelningen av bruset för det lilla intervallet och se om något överstiger tröskelvärdet.\n",
    "--> CO: Med preciseringen ovan går det nog att förenkla hela processen:\n",
    "1. Mha känt `sigma_noise` och tröskelvärde kan sannolikhetsmassan `p_noise` över tröskel beräknas exakt. \n",
    "2. Med känt kanaler `n_channels` vet vi att antalet pulser vi förväntar oss gå över tröskelvärdet per BC är `n_noise = p_noise*n_channels` i genomsnitt.\n",
    "3. För ett event kan vi slumpa fram ett antal brusaktiverade kanaler från Po(`n_noise`)\n",
    "\n",
    "Det här verkar avsevärt enklare och effektivare än vad vi diskuterade tidigare :) Vi är ju inte intresserade av amplitudvärdena över tröskel, bara hur många - så detta borde räcka fint.\n",
    "\n",
    "* Vilka värden på N kan vara intressanta att studera?\n",
    "\n",
    "--> CO: Tror detta blir irrelevant nu.\n",
    "\n",
    "* Går det att bestämma en fördelning för brusets extremvärde i det stora intervallet? Jag tänker att detta är något på spåret https://ocw.mit.edu/courses/civil-and-environmental-engineering/1-151-probability-and-statistics-in-engineering-spring-2005/lecture-notes/app11_max.pdf\n",
    "\n",
    "--> CO: Tror att även detta blir irrelevant - men säg till om jag missförstått!\n",
    "\n",
    "### Eller har jag missförstått allting"
    "\n",
    "--> CO: Absolut inte - superbra frågor som leder oss framåt! "
   ]
  }
 ],
 "metadata": {
  "kernelspec": {
   "display_name": "Python 3",
   "language": "python",
   "name": "python3"
  },
  "language_info": {
   "codemirror_mode": {
    "name": "ipython",
    "version": 3
   },
   "file_extension": ".py",
   "mimetype": "text/x-python",
   "name": "python",
   "nbconvert_exporter": "python",
   "pygments_lexer": "ipython3",
   "version": "3.8.2"
  }
 },
 "nbformat": 4,
 "nbformat_minor": 4
}
