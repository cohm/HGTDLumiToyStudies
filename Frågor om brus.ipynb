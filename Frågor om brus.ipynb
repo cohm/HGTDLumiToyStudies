{
 "cells": [
  {
   "cell_type": "markdown",
   "metadata": {},
   "source": [
    "Vi har ett litet tidsfönster med tidslängd t\n",
    "\n",
    "Vi har ett stort tidsfönster med tidslängd T = N*t där N är ett positivt heltal\n",
    "\n",
    "\n",
    "### Stämmer det att\n",
    "* t = 3.125ns\n",
    "* Varje utläsningskanal bara kan aktiveras en gång per bunch crossing.\n",
    "* Brusets extremvärde i en mätkanal under det lilla fönstret är normalfördelat me standardavvikelse 5mV.\n",
    "* antalet_brusaktiverade_kanaler_i_lilla_tidsfönstret = antalet_kanaler * sannolikhetsmassa_över_tröskelvärde_för normalfördelning_med_standardavvikelse_5mv\n",
    "\n",
    "\n",
    "### I så fall undrar jag\n",
    "* Är följande en korrekt metod för att avgöra om en kanal blir aktiverad i det stora intervallet? För varje kanal, dra N värden från fördelningen av bruset för det lilla intervallet och se om något överstiger tröskelvärdet.\n",
    "* Vilka värden på N kan vara intressanta att studera?\n",
    "* Går det att bestämma en fördelning för brusets extremvärde i det stora intervallet? Jag tänker att detta är något på spåret https://ocw.mit.edu/courses/civil-and-environmental-engineering/1-151-probability-and-statistics-in-engineering-spring-2005/lecture-notes/app11_max.pdf\n",
    "\n",
    "### Eller har jag missförstått allting"
   ]
  }
 ],
 "metadata": {
  "kernelspec": {
   "display_name": "Python 3",
   "language": "python",
   "name": "python3"
  },
  "language_info": {
   "codemirror_mode": {
    "name": "ipython",
    "version": 3
   },
   "file_extension": ".py",
   "mimetype": "text/x-python",
   "name": "python",
   "nbconvert_exporter": "python",
   "pygments_lexer": "ipython3",
   "version": "3.8.2"
  }
 },
 "nbformat": 4,
 "nbformat_minor": 4
}
