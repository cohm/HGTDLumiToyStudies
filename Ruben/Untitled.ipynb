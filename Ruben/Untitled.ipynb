{
 "cells": [
  {
   "cell_type": "code",
   "execution_count": 1,
   "id": "preliminary-publisher",
   "metadata": {},
   "outputs": [
    {
     "name": "stdout",
     "output_type": "stream",
     "text": [
      "Welcome to JupyROOT 6.22/08\n"
     ]
    }
   ],
   "source": [
    "import ROOT\n"
   ]
  },
  {
   "cell_type": "code",
   "execution_count": 10,
   "id": "external-preservation",
   "metadata": {},
   "outputs": [
    {
     "name": "stdout",
     "output_type": "stream",
     "text": [
      "TFile**\t\tHGTD_plots.root\t\n",
      " TFile*\t\tHGTD_plots.root\t\n",
      "  KEY: TH2F\tNumber of HGTD hits vs. pT 2D Gen;1\tNumber of HGTD hits vs. pT 2D Gen\n",
      "  KEY: TH1F\tNumber of HGTD hits 2 GeV Gen;1\tNumber of HGTD hits 2 GeV Gen\n",
      "  KEY: TH1F\tNumber of HGTD hits Gen;1\tNumber of HGTD hits Gen\n",
      "  KEY: TH1F\tNumber of HGTD hits 2 GeV G4;1\tNumber of HGTD hits 2 GeV G4\n",
      "  KEY: TProfile\tNumber of HGTD hits vs. pT Gen;1\tNumber of HGTD hits vs. pT Gen\n",
      "  KEY: TH2F\tNumber of HGTD hits vs. eta 2D G4;1\tNumber of HGTD hits vs. eta 2D G4\n",
      "  KEY: TProfile\tNumber of HGTD hits vs. eta G4;1\tNumber of HGTD hits vs. eta G4\n",
      "  KEY: TProfile\tNumber of HGTD hits vs. pT G4;1\tNumber of HGTD hits vs. pT G4\n",
      "  KEY: TProfile\tNumber of HGTD hits vs. eta Gen;1\tNumber of HGTD hits vs. eta Gen\n",
      "  KEY: TH1F\tNumber of HGTD hits G4;1\tNumber of HGTD hits G4\n",
      "  KEY: TH2F\tNumber of HGTD hits vs. eta 2D Gen;1\tNumber of HGTD hits vs. eta 2D Gen\n",
      "  KEY: TH2F\tNumber of HGTD hits vs. pT 2D G4;1\tNumber of HGTD hits vs. pT 2D G4\n"
     ]
    },
    {
     "name": "stderr",
     "output_type": "stream",
     "text": [
      "Warning in <TCanvas::Constructor>: Deleting canvas with same name: c1\n"
     ]
    },
    {
     "data": {
      "image/png": "[encoded data removed]",
      "text/plain": [
       "<IPython.core.display.Image object>"
      ]
     },
     "metadata": {},
     "output_type": "display_data"
    }
   ],
   "source": [
    "f = ROOT.TFile(\"HGTD_plots.root\");\n",
    "\n",
    "f.ls();\n",
    "c = TCanvas( 'c1', 'Graph', 200, 10, 700, 500 )\n",
    "\n",
    "h1 = ROOT.TH1F()\n",
    "f.Get(\"h1\");\n",
    "h1.Draw();\n",
    "c.Draw()"
   ]
  }
 ],
 "metadata": {
  "kernelspec": {
   "display_name": "Python 3",
   "language": "python",
   "name": "python3"
  },
  "language_info": {
   "codemirror_mode": {
    "name": "ipython",
    "version": 3
   },
   "file_extension": ".py",
   "mimetype": "text/x-python",
   "name": "python",
   "nbconvert_exporter": "python",
   "pygments_lexer": "ipython3",
   "version": "3.8.5"
  }
 },
 "nbformat": 4,
 "nbformat_minor": 5
}
