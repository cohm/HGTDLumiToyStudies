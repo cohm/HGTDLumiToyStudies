{
 "cells": [
  {
   "cell_type": "markdown",
   "id": "outer-lighting",
   "metadata": {},
   "source": [
    "# How many BC are needed to achieve good statistics for $\\mu$ = 0.01\n",
    "## Statistical error < 1%"
   ]
  },
  {
   "cell_type": "code",
   "execution_count": 2,
   "id": "forty-carnival",
   "metadata": {},
   "outputs": [
    {
     "name": "stdout",
     "output_type": "stream",
     "text": [
      "Collecting ipynb\n",
      "  Downloading ipynb-0.5.1-py3-none-any.whl (6.9 kB)\n",
      "Installing collected packages: ipynb\n",
      "Successfully installed ipynb-0.5.1\n",
      "\u001b[33mWARNING: You are using pip version 21.0.1; however, version 21.1.1 is available.\n",
      "You should consider upgrading via the '/usr/bin/python3 -m pip install --upgrade pip' command.\u001b[0m\n",
      "Welcome to JupyROOT 6.22/08\n"
     ]
    }
   ],
   "source": [
    "!pip install ipynb\n",
    "import ROOT\n",
    "from ROOT import TCanvas, TGraph, gROOT\n",
    "import numpy as np\n",
    "import time\n",
    "import matplotlib.pyplot as plt\n",
    "import time \n",
    "from array import array\n",
    "from mpl_toolkits.mplot3d import Axes3D\n",
    "from matplotlib.ticker import LinearLocator\n",
    "from ipynb.fs.defs.Simulation_Ruben import noise_generator, signal_generator\n"
   ]
  },
  {
   "cell_type": "code",
   "execution_count": 3,
   "id": "express-village",
   "metadata": {},
   "outputs": [],
   "source": [
    "def simulation (nr_of_channels, ratio_of_channels_to_sample, expected_count, bunch_crossings, threshold, peak_mpv_voltage, guess_mpv_voltage, large_window_factor):\n",
    "    \"\"\"For a number of BC, we get two lists: total_actual_signal_count and total_estimated_signal_count for each BC\"\"\"\n",
    "\n",
    "    channel_count = nr_of_channels*ratio_of_channels_to_sample\n",
    "    #avg_particles_reaching_detector = channel_count * signal_to_channel_count_ratio\n",
    "\n",
    "    #generate the noise\n",
    "    noise_gen = noise_generator(threshold, channel_count, large_window_factor)\n",
    "    #generate the signal\n",
    "    signal_gen = signal_generator(threshold, peak_mpv_voltage, guess_mpv_voltage)\n",
    "\n",
    "    result_true_signal_count = np.zeros(bunch_crossings)\n",
    "    result_estimated_signal_count = np.zeros(bunch_crossings)\n",
    "    error_estimation = 0\n",
    "    signal_fraction_above = signal_gen.fraction_above\n",
    "    deviation_from_true = np.zeros(bunch_crossings)\n",
    "    for BC in range(1,bunch_crossings):\n",
    "        # both results are in small window, both are noise above threshold\n",
    "        noise_exact, noise_est = noise_gen.generate()\n",
    "\n",
    "        # The paramater is the expected number of particles that reach the detector.\n",
    "        # The first return value is the number of particles that reached the detector and \n",
    "        # the second return value is the number of activated channels.\n",
    "        total_actual_signal, signal_above = signal_gen.generate(expected_count)\n",
    "\n",
    "        # from the total activations, estimate how much was produced by actual signal\n",
    "        total_activations = signal_above + noise_exact  # total activations in small window (i.e. above threshold)\n",
    "        #print(\"\\nBunch Crossing %d:\" %(BC+1))\n",
    "        #print(\"Signal- and noise-activated channels: %d\" %(total_activations))\n",
    "        #print (\"Noise-activated channels: %d\" %(noise_exact))\n",
    "        #total real activations minus estimation of signal, then divide with the prob. mass for Landau to be above threshold\n",
    "        total_signal_est = (total_activations - noise_est)/signal_fraction_above \n",
    "\n",
    "        # assign the results\n",
    "        result_true_signal_count[BC] = total_actual_signal #exact count in the small window\n",
    "        result_estimated_signal_count[BC] = total_signal_est #estimated count \n",
    "        \n",
    "        deviation_from_true[BC] = total_signal_est - total_actual_signal\n",
    "     \n",
    "    deviation_from_true = deviation_from_true/bunch_crossings\n",
    "    \n",
    "    return result_true_signal_count, result_estimated_signal_count, deviation_from_true"
   ]
  },
  {
   "cell_type": "code",
   "execution_count": 4,
   "id": "handled-fountain",
   "metadata": {},
   "outputs": [],
   "source": [
    "def find_best_threshold (total_deviation):\n",
    "    \"\"\"Input parameter is a list of the deviations for each threshold, returns the best threshold with lowest deviation\"\"\"\n",
    "    \n",
    "    total_deviation = [round(num, 6) for num in total_deviation]\n",
    "\n",
    "    best_array_indexes = [i for i, x in enumerate(total_deviation) if x == min(total_deviation)]\n",
    "    best_thresholds_array = np.zeros(len(best_array_indexes))\n",
    "    if len(best_array_indexes)==1:\n",
    "         #print(\"best threshold: %f\" %(threshold_array[best_array_indexes[0]]))\n",
    "        \n",
    "         return threshold_array[best_array_indexes[0]]\n",
    "    \n",
    "    else: \n",
    "        for i in range (len(best_array_indexes)):\n",
    "            best_thresholds_array[i] = threshold_array[best_array_indexes[i]]\n",
    "        best = sum(best_thresholds_array)/len(best_thresholds_array)\n",
    "        #print (\"Best threshold: %f\"%best)\n",
    "        return best"
   ]
  },
  {
   "cell_type": "code",
   "execution_count": 7,
   "id": "fitted-fireplace",
   "metadata": {},
   "outputs": [
    {
     "name": "stdout",
     "output_type": "stream",
     "text": [
      "Expected count: 0.750000\n"
     ]
    }
   ],
   "source": [
    "nr_of_channels = int(3.6 * 1e6) #number of channels on the HGTD\n",
    "\n",
    "mu = 0.01 # Parameter for the number of interaction in a bunch crossing\n",
    "bunch_crossings = 10000\n",
    "\n",
    "large_window_factor = 8 #How many times the large window is bigger than the smaller one\n",
    "\n",
    "\"\"\"exp number of particles on detector proportional to mu, try also non-linear relationship as in christian's plot \"\"\"\n",
    "expected_count = (15*1e3/200)*mu #expected number of particles reaching the HGTD for mu=200, no more than 20k\n",
    "print(\"Expected count: %f\" %expected_count)\n",
    "\n",
    "ratio_of_channels_to_sample = 1 # Choose according to how many channels, or which part of the detector, are hit\n",
    "\n",
    "# Thresholds for the simulation\n",
    "min_threshold = 30#mV\n",
    "max_threshold = 33#mV\n",
    "threshold_steps = 31 #Number of steps\n",
    "\n",
    "mpv_peak = 100#mV\n",
    "# To simulate only a single mpv of peak voltage, put same value for min and max, and step=1 \n",
    "min_mpv_peak = 100 #mV, the sensor at its worst state\n",
    "max_mpv_peak = 100 #mV, new sensors\n",
    "mpv_peak_steps = 1 # Number of steps\n",
    "guess_mpv_voltage_bias = 1 # Set the bias of guessed mpv voltage, e.g. 0.97 for a 3% bias"
   ]
  },
  {
   "cell_type": "code",
   "execution_count": 8,
   "id": "front-richmond",
   "metadata": {},
   "outputs": [
    {
     "name": "stdout",
     "output_type": "stream",
     "text": [
      "30.00 threshold - Mean dev: 0.000000\n",
      "                - Std: 0.000004\n",
      "                - Tot dev: 0.000136\n",
      "30.10 threshold - Mean dev: 0.000000\n",
      "                - Std: 0.000004\n",
      "                - Tot dev: 0.000935\n",
      "30.20 threshold - Mean dev: 0.000000\n",
      "                - Std: 0.000004\n",
      "                - Tot dev: 0.000830\n",
      "30.30 threshold - Mean dev: 0.000000\n",
      "                - Std: 0.000004\n",
      "                - Tot dev: 0.000820\n",
      "30.40 threshold - Mean dev: 0.000000\n",
      "                - Std: 0.000004\n",
      "                - Tot dev: 0.000219\n",
      "30.50 threshold - Mean dev: 0.000000\n",
      "                - Std: 0.000004\n",
      "                - Tot dev: 0.000116\n",
      "30.60 threshold - Mean dev: 0.000000\n",
      "                - Std: 0.000004\n",
      "                - Tot dev: 0.000407\n",
      "30.70 threshold - Mean dev: 0.000000\n",
      "                - Std: 0.000004\n",
      "                - Tot dev: 0.000472\n",
      "30.80 threshold - Mean dev: 0.000000\n",
      "                - Std: 0.000003\n",
      "                - Tot dev: 0.000537\n",
      "30.90 threshold - Mean dev: 0.000000\n",
      "                - Std: 0.000004\n",
      "                - Tot dev: 0.000008\n",
      "31.00 threshold - Mean dev: 0.000000\n",
      "                - Std: 0.000003\n",
      "                - Tot dev: 0.000800\n",
      "31.10 threshold - Mean dev: 0.000000\n",
      "                - Std: 0.000002\n",
      "                - Tot dev: 0.000107\n",
      "31.20 threshold - Mean dev: 0.000000\n",
      "                - Std: 0.000003\n",
      "                - Tot dev: 0.000464\n",
      "31.30 threshold - Mean dev: 0.000000\n",
      "                - Std: 0.000003\n",
      "                - Tot dev: 0.000534\n",
      "31.40 threshold - Mean dev: 0.000000\n",
      "                - Std: 0.000002\n",
      "                - Tot dev: 0.000317\n",
      "31.50 threshold - Mean dev: 0.000000\n",
      "                - Std: 0.000002\n",
      "                - Tot dev: 0.000369\n",
      "31.60 threshold - Mean dev: 0.000000\n",
      "                - Std: 0.000002\n",
      "                - Tot dev: 0.000286\n",
      "31.70 threshold - Mean dev: 0.000000\n",
      "                - Std: 0.000002\n",
      "                - Tot dev: 0.000300\n",
      "31.80 threshold - Mean dev: 0.000000\n",
      "                - Std: 0.000001\n",
      "                - Tot dev: 0.000199\n",
      "31.90 threshold - Mean dev: 0.000000\n",
      "                - Std: 0.000001\n",
      "                - Tot dev: 0.000214\n",
      "32.00 threshold - Mean dev: 0.000000\n",
      "                - Std: 0.000002\n",
      "                - Tot dev: 0.000242\n",
      "32.10 threshold - Mean dev: 0.000000\n",
      "                - Std: 0.000002\n",
      "                - Tot dev: 0.000102\n",
      "32.20 threshold - Mean dev: 0.000000\n",
      "                - Std: 0.000002\n",
      "                - Tot dev: 0.000001\n",
      "32.30 threshold - Mean dev: 0.000000\n",
      "                - Std: 0.000002\n",
      "                - Tot dev: 0.000016\n",
      "32.40 threshold - Mean dev: 0.000000\n",
      "                - Std: 0.000002\n",
      "                - Tot dev: 0.000051\n",
      "32.50 threshold - Mean dev: 0.000000\n",
      "                - Std: 0.000002\n",
      "                - Tot dev: 0.000126\n",
      "32.60 threshold - Mean dev: 0.000000\n",
      "                - Std: 0.000002\n",
      "                - Tot dev: 0.000142\n",
      "32.70 threshold - Mean dev: 0.000000\n",
      "                - Std: 0.000002\n",
      "                - Tot dev: 0.000159\n",
      "32.80 threshold - Mean dev: 0.000000\n",
      "                - Std: 0.000002\n",
      "                - Tot dev: 0.000176\n",
      "32.90 threshold - Mean dev: 0.000000\n",
      "                - Std: 0.000002\n",
      "                - Tot dev: 0.000037\n",
      "33.00 threshold - Mean dev: 0.000000\n",
      "                - Std: 0.000003\n",
      "                - Tot dev: 0.000152\n",
      "Best threshold: 31.500000\n",
      "Best threshold by total deviation: 32.200000\n",
      "\n",
      "------------------------------------------------------------\n",
      "Computation done!\n",
      "CPU time: 0 hours, 0 minutes and 3 seconds\n"
     ]
    }
   ],
   "source": [
    "start_time = time.time()\n",
    "\n",
    "# Input parameters \n",
    "threshold_array = 0\n",
    "threshold_array = np.linspace(min_threshold,max_threshold,threshold_steps)\n",
    "\n",
    "# Output data\n",
    "mean_values = []\n",
    "mean_values_with_std = []\n",
    "std_values = []\n",
    "total_deviation= np.zeros(len(threshold_array))\n",
    "iteration = 0\n",
    "\n",
    "for threshold in threshold_array:\n",
    "    true_signal, estimated_signal, dev_per_BC = simulation (nr_of_channels, ratio_of_channels_to_sample, expected_count, bunch_crossings, threshold, mpv_peak, mpv_peak, large_window_factor)\n",
    "    \"\"\"Get the total deviation from the total simulated signals vs the expected signals.\n",
    "        Returns both the total deviation as a positive number\"\"\"\n",
    "\n",
    "    true_signal_sum = true_signal.sum()\n",
    "    if true_signal_sum == 0:\n",
    "        deviation = 0\n",
    "    deviation = abs(estimated_signal.sum() / true_signal_sum -1)\n",
    "    total_deviation[iteration] = deviation\n",
    "    #print(\"\\nDeviation for threshold %f: %f\" %(threshold, total_deviation[iteration]))\n",
    "\n",
    "    mean_values.append(abs(np.mean(dev_per_BC)))\n",
    "    mean_values_with_std.append(abs(np.mean(dev_per_BC))+np.std(dev_per_BC))\n",
    "    print (\"%.2f threshold - Mean dev: %f\" %(threshold, mean_values[iteration]))\n",
    "    std_values.append(np.std(dev_per_BC))\n",
    "    print (\"                - Std: %f\" %( std_values[iteration]))\n",
    "    print (\"                - Tot dev: %f\" %deviation)\n",
    "    iteration = iteration+1\n",
    "\n",
    "best_threshold = find_best_threshold(mean_values)\n",
    "best_threshold_tot_dev = find_best_threshold(total_deviation)\n",
    "print(\"Best threshold: %f\"%best_threshold)\n",
    "print(\"Best threshold by total deviation: %f\"%best_threshold_tot_dev)\n",
    "print (\"\\n------------------------------------------------------------\") \n",
    "    \n",
    "hours, rem = divmod(time.time()-start_time, 3600)\n",
    "minutes, seconds = divmod(rem, 60)\n",
    "print(\"Computation done!\\nCPU time: %d hours, %d minutes and %d seconds\" %(hours, minutes,seconds))\n"
   ]
  },
  {
   "cell_type": "code",
   "execution_count": 65,
   "id": "thick-anthony",
   "metadata": {},
   "outputs": [
    {
     "name": "stderr",
     "output_type": "stream",
     "text": [
      "Warning in <TCanvas::Constructor>: Deleting canvas with same name: c1\n"
     ]
    },
    {
     "data": {
      "image/png": "[encoded data removed]",
      "text/plain": [
       "<IPython.core.display.Image object>"
      ]
     },
     "metadata": {},
     "output_type": "display_data"
    }
   ],
   "source": [
    "# Determine threshold that yields the lowest deviation \n",
    "#best = find_best_threshold(total_deviation)\n",
    "\n",
    "c = TCanvas( 'c1', 'Graph', 200, 10, 700, 500 )\n",
    "#c1.SetLogy()\n",
    "\n",
    "g = TGraph(len(threshold_array), threshold_array.astype(np.double),total_deviation.astype(np.double))\n",
    "g.SetTitle( \"#splitline{Deviation as a function of threshold, mu=%.2f, BC=%d, mpv_voltage=%d mV}{\\n large window 4 times the smaller}\"  %(mu, bunch_crossings, peak_value_step))\n",
    "g.GetXaxis().SetTitle( 'Threshold [mV]' )\n",
    "g.GetYaxis().SetTitle( 'Deviation' )\n",
    "g.GetYaxis().SetRange(0,10);\n",
    "g.SetLineColor(2)\n",
    "g.Draw() \n",
    "c.Draw()"
   ]
  },
  {
   "cell_type": "code",
   "execution_count": 66,
   "id": "hollow-behavior",
   "metadata": {},
   "outputs": [
    {
     "name": "stderr",
     "output_type": "stream",
     "text": [
      "Warning in <TCanvas::Constructor>: Deleting canvas with same name: std over Threshold\n",
      "Warning in <TCanvas::Constructor>: Deleting canvas with same name: mean canvas\n",
      "Warning in <TCanvas::Constructor>: Deleting canvas with same name: mean_std\n"
     ]
    },
    {
     "data": {
      "image/png": "[encoded data removed]",
      "text/plain": [
       "<IPython.core.display.Image object>"
      ]
     },
     "metadata": {},
     "output_type": "display_data"
    },
    {
     "data": {
      "image/png": "[encoded data removed]",
      "text/plain": [
       "<IPython.core.display.Image object>"
      ]
     },
     "metadata": {},
     "output_type": "display_data"
    },
    {
     "data": {
      "image/png": "[encoded data removed]",
      "text/plain": [
       "<IPython.core.display.Image object>"
      ]
     },
     "metadata": {},
     "output_type": "display_data"
    }
   ],
   "source": [
    "threshold_error = []\n",
    "mean_rel = []\n",
    "std_rel= []\n",
    "mean_std_rel = []\n",
    "\n",
    "#Calculate relative error for each array\n",
    "for i in range (len(threshold_array)):\n",
    "    threshold_error.append(0)\n",
    "    #multiply by 100 to get relative error \n",
    "    std_rel.append(std_values[i])\n",
    "    mean_rel.append(mean_values[i])\n",
    "    mean_std_rel.append(mean_values_with_std[i])\n",
    "\n",
    "\"\"\"Standard deviation vs threshold plot\"\"\"\n",
    "\n",
    "#create x,y values and corresponding errors\n",
    "n = len(threshold_array);\n",
    "x  = array( 'f', threshold_array )\n",
    "ex = array( 'f', threshold_error)\n",
    "y  = array( 'f', std_rel)\n",
    "ey = array( 'f', threshold_error) \n",
    "\n",
    "std_graph = ROOT.TGraphErrors( n, x, y, ex, ey )\n",
    "c1 = ROOT.TCanvas(\"std over Threshold\", \"Difference in counts\", 1000, 600)\n",
    "std_graph.SetTitle(\"STD values from true signal for mu=%.2f, BC=%d, mpv voltage=%d mV;Threshold [mV];Deviation; Z axis title\" %(mu, bunch_crossings, peak_value_step))\n",
    "std_graph.SetMarkerStyle(2)\n",
    "std_graph.SetLineColor(ROOT.kAzure-9)\n",
    "std_graph.SetFillColor(ROOT.kAzure-14)\n",
    "std_graph.Draw()\n",
    "#c1.SetLogy()\n",
    "c1.Draw()\n",
    "\n",
    "\n",
    "\"\"\"Mean value vs threshold plot\"\"\"\n",
    "y  = array( 'f', mean_rel)\n",
    "ey = array( 'f', std_rel) \n",
    "deviation_graph = ROOT.TGraphErrors( n, x, y, ex, ey )\n",
    "c2 = ROOT.TCanvas(\"mean canvas\", \"\", 1000, 600)\n",
    "deviation_graph.SetTitle(\"Mean value of deviation from true signal for mu=%.2f, BC=%d, mpv voltage=%d mV;Threshold [mV];Deviation; Z axis title\" %(mu, bunch_crossings, peak_value_step))\n",
    "deviation_graph.SetMarkerStyle(21)\n",
    "deviation_graph.SetLineColor(ROOT.kAzure-9)\n",
    "deviation_graph.SetFillColor(ROOT.kAzure-14)\n",
    "deviation_graph.Draw()\n",
    "#c2.SetLogy()\n",
    "c2.Draw()\n",
    "\n",
    "\n",
    "\"\"\"Mean+std vs threshold plot\"\"\"\n",
    "y  = array( 'f', mean_std_rel)\n",
    "ey = array( 'f', std_rel) \n",
    "mean_std_graph = ROOT.TGraphErrors( n, x, y, ex, ey )\n",
    "c3 = ROOT.TCanvas(\"mean_std\", \"Difference in counts\", 1000, 600)\n",
    "mean_std_graph.SetTitle(\"Mean values of deviation from true signal for mu=%.2f, BC=%d, mpv voltage=%d mV;Threshold [mV];Deviation; Z axis title\" %(mu, bunch_crossings, peak_value_step))\n",
    "mean_std_graph.SetMarkerStyle(21)\n",
    "mean_std_graph.SetLineColor(ROOT.kAzure-9)\n",
    "mean_std_graph.SetFillColor(ROOT.kAzure-14)\n",
    "mean_std_graph.Draw()\n",
    "#c3.SetLogy()\n",
    "c3.Draw()"
   ]
  },
  {
   "cell_type": "code",
   "execution_count": null,
   "id": "functional-punishment",
   "metadata": {},
   "outputs": [],
   "source": []
  }
 ],
 "metadata": {
  "kernelspec": {
   "display_name": "Python 3",
   "language": "python",
   "name": "python3"
  },
  "language_info": {
   "codemirror_mode": {
    "name": "ipython",
    "version": 3
   },
   "file_extension": ".py",
   "mimetype": "text/x-python",
   "name": "python",
   "nbconvert_exporter": "python",
   "pygments_lexer": "ipython3",
   "version": "3.8.5"
  }
 },
 "nbformat": 4,
 "nbformat_minor": 5
}
