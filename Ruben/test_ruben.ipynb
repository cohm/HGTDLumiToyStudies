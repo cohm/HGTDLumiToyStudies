{
 "cells": [
  {
   "cell_type": "code",
   "execution_count": 66,
   "id": "latin-anderson",
   "metadata": {},
   "outputs": [],
   "source": [
    "import ROOT\n",
    "import numpy as np\n",
    "import time\n",
    "import math\n",
    "import matplotlib.pyplot as plt\n",
    "\n",
    "nr_of_channels = int(3.6 * 1e6)\n",
    "channels_per_module = int(15*30)\n",
    "total_modules = int(nr_of_channels/channels_per_module)\n",
    "threshold = 1\n"
   ]
  },
  {
   "cell_type": "code",
   "execution_count": 113,
   "id": "consolidated-steering",
   "metadata": {},
   "outputs": [
    {
     "name": "stdout",
     "output_type": "stream",
     "text": [
      "Average triggered channels: 1514665.046019\n",
      "Number of noise above threshold in large W: 1514317.000000\n",
      "[0.06993489 0.21865195 0.72902787 ... 0.63936061 0.02266992 0.69297059]\n",
      "[0.59555412 0.48268917 0.18659952 ... 0.66820985 0.15876365 0.59635919]\n",
      "[0.06146771 0.66538842 0.83528112 ... 0.38254825 0.48434287 0.03771917]\n",
      "[0.6142174  0.08879454 0.94679172 ... 0.85078386 0.98879743 0.64759215]\n",
      "[0.15344727 0.62643784 0.47546265 ... 0.28065682 0.12060888 0.88726503]\n",
      "[0.6159696  0.90268975 0.60105005 ... 0.15234133 0.95480247 0.54851916]\n",
      "[0.96813466 0.37173223 0.91538938 ... 0.41852346 0.99302752 0.16982547]\n",
      "[0.58095828 0.6969398  0.76297251 ... 0.99920565 0.55713498 0.58046679]\n",
      "[0.14234682 0.25633836 0.90674193 ... 0.88031452 0.66749716 0.76113162]\n",
      "[0.94154001 0.46480138 0.71509753 ... 0.65452204 0.227319   0.54408815]\n",
      "Exact number of noise activated channels: 189284.000000\n",
      "Estimated number of noise activated channels: 189290.428571\n"
     ]
    },
    {
     "name": "stderr",
     "output_type": "stream",
     "text": [
      "Warning in <TCanvas::Constructor>: Deleting canvas with same name: Signal_gaus\n"
     ]
    },
    {
     "data": {
      "image/png": "[encoded data removed]",
      "text/plain": [
       "<IPython.core.display.Image object>"
      ]
     },
     "metadata": {},
     "output_type": "display_data"
    }
   ],
   "source": [
    "global_counter = 0\n",
    "low = 0\n",
    "high = 1000\n",
    "noise = ROOT.TF1(\"noise_gauss\", \"TMath::Gaus(x, 0, 5)\", low, high)\n",
    "c1 = ROOT.TCanvas (\"Signal_gaus\", \"Gauss\", 500, 200)\n",
    "noise.Draw()\n",
    "c1.Draw()\n",
    "#integrate normal dist. to get exact prob. above threshold and multiply with channel nr to get avg. of triggered channels\n",
    "mean = nr_of_channels * noise.Integral(threshold, high)/noise.Integral(low, high)/2\n",
    "mean2 = nr_of_channels * noise.Integral(threshold, high)*2\n",
    "print (\"Average triggered channels: %f\" % mean)\n",
    "\n",
    "#self._prng = ROOT.TRandom3(time.time_ns())\n",
    "global_counter += 1\n",
    "prng = ROOT.TRandom3(int(time.time()) + global_counter)\n",
    "\n",
    "\n",
    "\"\"\"The first return value is the exact number of noise activated channels in the small window and\n",
    "    the second return value is the estimated number of noise activated channels in the small window. (estimated from large window)\n",
    "    (both results are in small window, both results are noise above threshold)\n",
    "    noise_exact, noise_est = noise.generate()\"\"\"\n",
    "# Large time window 25ns\n",
    "# Small time window 3.125ns\n",
    "\n",
    "total = prng.Poisson(mean) # number of noise activated channels, so above threshold in large window in this run.\n",
    "print (\"Number of noise above threshold in large W: %f\" %total)\n",
    "narrow_exact = 0\n",
    "if total <= 5:\n",
    "    for i in range(total):\n",
    "        if prng.Uniform(25) < 3.125: \n",
    "            narrow_exact += 1\n",
    "else:\n",
    "    narrow_exact = (np.random.rand(total) < 0.125).sum()  # 3.125/25 = 0.125\n",
    "\n",
    "for i in range(10):\n",
    "    print (np.random.rand(total))\n",
    "\n",
    "noise_per_time = (total - narrow_exact)/(25 - 3.125)\n",
    "estimate = 3.125 * noise_per_time\n",
    "\n",
    "print (\"Exact number of noise activated channels: %f\" % narrow_exact)\n",
    "print (\"Estimated number of noise activated channels: %f\" % estimate)\n",
    "\n",
    "\n"
   ]
  },
  {
   "cell_type": "code",
   "execution_count": 64,
   "id": "desperate-wages",
   "metadata": {},
   "outputs": [
    {
     "name": "stdout",
     "output_type": "stream",
     "text": [
      "Landau dist. 1: 427.221771\n",
      "Landau dist. 2: 160.636582\n",
      "Landau dist. 3: 321.658184\n",
      "Landau dist. 4: 178.841819\n",
      "Landau dist. 5: 118.392902\n",
      "Landau dist. 6: 189.846378\n",
      "Landau dist. 7: 112.362872\n",
      "Landau dist. 8: 90.590420\n",
      "Landau dist. 9: 121.871238\n",
      "Landau dist. 10: 103.193388\n",
      "Signal count: 15012\n",
      "Activated channels: 10695\n",
      "Loss in signal = 4317.000000\n"
     ]
    },
    {
     "name": "stderr",
     "output_type": "stream",
     "text": [
      "Warning in <TCanvas::Constructor>: Deleting canvas with same name: Signal_Landau\n"
     ]
    },
    {
     "data": {
      "image/png": "[encoded data removed]",
      "text/plain": [
       "<IPython.core.display.Image object>"
      ]
     },
     "metadata": {},
     "output_type": "display_data"
    }
   ],
   "source": [
    "#expected number of particles reaching the detector \n",
    "real_expected_voltage = 100\n",
    "guess_expected_voltage = 100\n",
    "expected_count = 15*1e3\n",
    "global_counter = 0\n",
    "low = -100\n",
    "high = 1000\n",
    "threshold = threshold\n",
    "expected_voltage = real_expected_voltage\n",
    "signal_func = ROOT.TF1(\"sth\", \"TMath::Landau(x, %f, %f)\" % (guess_expected_voltage, guess_expected_voltage/4), low, high)\n",
    "\n",
    "fraction_above = signal_func.Integral(threshold, high)/signal_func.Integral(low, high)\n",
    "#self._prng = ROOT.TRandom3(time.time_ns())\n",
    "global_counter += 1\n",
    "prng = ROOT.TRandom3(int(time.time()) + global_counter)\n",
    "\n",
    "c = ROOT.TCanvas (\"Signal_Landau\", \"Landau\", 500, 300)\n",
    "signal_func.Draw()\n",
    "c.Draw()\n",
    "\"\"\"The paramater is the expected number of particles that reach the detector.\n",
    "    The first return value is the number of particles that reached the detector and\n",
    "    the second return value is the number of activated channels.\n",
    "    signal_real_total, signal_above = signal.generate(30)\"\"\"\n",
    "\n",
    "signal_count = prng.Poisson(expected_count)\n",
    "\n",
    "for i in range (10):\n",
    "    print (\"Landau dist. %d: %f\" %(i+1, prng.Landau(expected_voltage, expected_voltage/4)))\n",
    "    \n",
    "above_threshold_count = 0\n",
    "sigma = expected_voltage/4\n",
    "for i in range(signal_count):\n",
    "    if prng.Landau(expected_voltage, sigma) > threshold: # 1/4 is just the refernce 25/100\n",
    "        above_threshold_count += 1\n",
    "#return signal_count, above_threshold_count\n",
    "\n",
    "print(\"Signal count: %d\" %signal_count)\n",
    "print(\"Activated channels: %d\" %above_threshold_count)\n",
    "print (\"Loss in signal = %f\" % (signal_count-above_threshold_count))"
   ]
  }
 ],
 "metadata": {
  "kernelspec": {
   "display_name": "Python 3",
   "language": "python",
   "name": "python3"
  },
  "language_info": {
   "codemirror_mode": {
    "name": "ipython",
    "version": 3
   },
   "file_extension": ".py",
   "mimetype": "text/x-python",
   "name": "python",
   "nbconvert_exporter": "python",
   "pygments_lexer": "ipython3",
   "version": "3.8.5"
  }
 },
 "nbformat": 4,
 "nbformat_minor": 5
}
