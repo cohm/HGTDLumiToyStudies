{
 "cells": [
  {
   "cell_type": "code",
   "execution_count": 2,
   "id": "controlling-caution",
   "metadata": {},
   "outputs": [
    {
     "name": "stdout",
     "output_type": "stream",
     "text": [
      "Welcome to JupyROOT 6.22/08\n"
     ]
    }
   ],
   "source": [
    "import ROOT\n",
    "import numpy as np\n",
    "import time\n",
    "import math\n",
    "import matplotlib.pyplot as plt"
   ]
  },
  {
   "cell_type": "markdown",
   "id": "dental-joint",
   "metadata": {},
   "source": [
    "### Constants"
   ]
  },
  {
   "cell_type": "code",
   "execution_count": 3,
   "id": "excellent-cylinder",
   "metadata": {},
   "outputs": [],
   "source": [
    "nr_of_channels = int(3.6 * 1e6)\n",
    "channels_per_module = int(15*30)\n",
    "total_modules = int(nr_of_channels/channels_per_module)\n",
    "global_counter = 0"
   ]
  },
  {
   "cell_type": "markdown",
   "id": "august-converter",
   "metadata": {},
   "source": [
    "### Noise Generator Class"
   ]
  },
  {
   "cell_type": "code",
   "execution_count": 4,
   "id": "laughing-kidney",
   "metadata": {},
   "outputs": [],
   "source": [
    "class noise_generator:\n",
    "    def __init__(self, threshold, channel_count): \n",
    "        global global_counter\n",
    "        low = 0\n",
    "        high = 1000\n",
    "        noise = ROOT.TF1(\"noise_gauss\", \"TMath::Gaus(x, 0, 5)\", low, high)\n",
    "        \n",
    "        \"\"\"Why divide with 2?? Why do we need a avg. value?\"\"\"\n",
    "        #integrate normal dist. to get exact prob. above threshold and multiply with channel nr to get avg.\n",
    "        self._mean = channel_count * noise.Integral(threshold, high)/noise.Integral(low, high) \n",
    "        #self._prng = ROOT.TRandom3(time.time_ns())\n",
    "        global_counter += 1\n",
    "        self._prng = ROOT.TRandom3(int(time.time()) + global_counter)\n",
    "\n",
    "    def generate(self):\n",
    "        \"\"\"The first return value is the exact number of noise activated channels in the small window and\n",
    "            the second return value is the estimated number of noise activated channels in the small window. (estimated from large window)\n",
    "            (both results are in small window, both results are noise above threshold)\n",
    "            noise_exact, noise_est = noise.generate()\"\"\"\n",
    "        # Large time window 25ns\n",
    "        # Small time window 3.125ns\n",
    "        prng = self._prng\n",
    "        total = prng.Poisson(self._mean) # number of noise above threshold in large window in this run.\n",
    "        narrow_exact = 0\n",
    "        narrow_exact = (np.random.rand(total) < 0.125).sum()  # 3.125/25 = 0.125\n",
    "        \n",
    "        noise_per_time = (total - narrow_exact)/(25 - 3.125)\n",
    "        estimate = 3.125 * noise_per_time\n",
    "        return narrow_exact, estimate\n",
    "\n",
    "\n"
   ]
  },
  {
   "cell_type": "markdown",
   "id": "advanced-flower",
   "metadata": {},
   "source": [
    " ### Signal Generator Class\n",
    " \n"
   ]
  },
  {
   "cell_type": "code",
   "execution_count": 5,
   "id": "decreased-appliance",
   "metadata": {},
   "outputs": [],
   "source": [
    "class signal_generator:\n",
    "    def __init__(self, threshold, real_expected_voltage, guess_expected_voltage): # expected_voltage = expected peak voltage  (mu)\n",
    "        global global_counter\n",
    "        low = -100\n",
    "        high = 1000\n",
    "        self._threshold = threshold\n",
    "        self._expected_voltage = real_expected_voltage\n",
    "        signal_func = ROOT.TF1(\"sth\", \"TMath::Landau(x, %f, %f)\" % (guess_expected_voltage, guess_expected_voltage/4), low, high)\n",
    "        self.fraction_above = signal_func.Integral(threshold, high)/signal_func.Integral(low, high) #fraction of the function that is above threshold\n",
    "        #self._prng = ROOT.TRandom3(time.time_ns())\n",
    "        global_counter += 1\n",
    "        self._prng = ROOT.TRandom3(int(time.time()) + global_counter)\n",
    "    \n",
    "    def generate(self, expected_count):\n",
    "        \"\"\"The paramater is the expected number of particles that reach the detector.\n",
    "            The first return value is the number of particles that reached the detector and\n",
    "            the second return value is the number of activated channels.\n",
    "            signal_real_total, signal_above = signal.generate(30)\"\"\"\n",
    "        prng = self._prng\n",
    "        expected_voltage = self._expected_voltage\n",
    "        threshold = self._threshold\n",
    "        \n",
    "        signal_count = prng.Poisson(expected_count)\n",
    "        above_threshold_count = 0\n",
    "        sigma = expected_voltage/4\n",
    "        for i in range(signal_count):\n",
    "            if prng.Landau(expected_voltage, sigma) > threshold: # 1/4 is just the refernce 25/100\n",
    "                above_threshold_count += 1\n",
    "        return signal_count, above_threshold_count\n",
    "    "
   ]
  },
  {
   "cell_type": "markdown",
   "id": "damaged-marsh",
   "metadata": {},
   "source": [
    "## Simulation"
   ]
  },
  {
   "cell_type": "code",
   "execution_count": 46,
   "id": "absent-coating",
   "metadata": {},
   "outputs": [
    {
     "name": "stdout",
     "output_type": "stream",
     "text": [
      "\n",
      "Bunch Crossing 1:\n",
      "Signal- and noise-activated channels: 15012\n",
      "Noise-activated channels: 21\n",
      "True number of signal-activated channels: 14991\n",
      "Estimated number of signal-activated channels: 14997.664842\n",
      "\n",
      "Bunch Crossing 2:\n",
      "Signal- and noise-activated channels: 14986\n",
      "Noise-activated channels: 16\n",
      "True number of signal-activated channels: 14970\n",
      "Estimated number of signal-activated channels: 14971.950151\n",
      "\n",
      "Bunch Crossing 3:\n",
      "Signal- and noise-activated channels: 14838\n",
      "Noise-activated channels: 15\n",
      "True number of signal-activated channels: 14823\n",
      "Estimated number of signal-activated channels: 14823.233523\n",
      "\n",
      "Bunch Crossing 4:\n",
      "Signal- and noise-activated channels: 14949\n",
      "Noise-activated channels: 13\n",
      "True number of signal-activated channels: 14936\n",
      "Estimated number of signal-activated channels: 14933.235256\n",
      "\n",
      "Bunch Crossing 5:\n",
      "Signal- and noise-activated channels: 14976\n",
      "Noise-activated channels: 14\n",
      "True number of signal-activated channels: 14962\n",
      "Estimated number of signal-activated channels: 14961.092837\n",
      "\n",
      "Bunch Crossing 6:\n",
      "Signal- and noise-activated channels: 14848\n",
      "Noise-activated channels: 18\n",
      "True number of signal-activated channels: 14830\n",
      "Estimated number of signal-activated channels: 14835.805149\n",
      "\n",
      "Bunch Crossing 7:\n",
      "Signal- and noise-activated channels: 15035\n",
      "Noise-activated channels: 17\n",
      "True number of signal-activated channels: 15018\n",
      "Estimated number of signal-activated channels: 15021.665220\n",
      "\n",
      "Bunch Crossing 8:\n",
      "Signal- and noise-activated channels: 15033\n",
      "Noise-activated channels: 14\n",
      "True number of signal-activated channels: 15020\n",
      "Estimated number of signal-activated channels: 15019.665189\n",
      "\n",
      "Bunch Crossing 9:\n",
      "Signal- and noise-activated channels: 14857\n",
      "Noise-activated channels: 13\n",
      "True number of signal-activated channels: 14844\n",
      "Estimated number of signal-activated channels: 14842.662400\n",
      "\n",
      "Bunch Crossing 10:\n",
      "Signal- and noise-activated channels: 15037\n",
      "Noise-activated channels: 13\n",
      "True number of signal-activated channels: 15024\n",
      "Estimated number of signal-activated channels: 15021.379501\n"
     ]
    }
   ],
   "source": [
    "\"\"\"Parameters for the simulation\"\"\"\n",
    "threshold = 20 #mV\n",
    "peak_mpv_voltage = 100 #mV, mpv: most probable value\n",
    "guess_mpv = 100 #mV\n",
    "expected_count = 15*1e3 #expected number of particles reaching the HGTD for mu=200, no more than 20k\n",
    "#exp number of particles on detector proportional to mu\n",
    "bunch_crossings = 10\n",
    "ratio_of_channels_to_sample = 1\n",
    "signal_to_channel_count_ratio = 0.5\n",
    "\"\"\"Difference between mean and guess? How can we use guess estimated voltage?\"\"\"\n",
    "\n",
    "\n",
    "\n",
    "\"\"\"For a number of BC, we get two lists: total_actual_signal_count and total_estimated_signal_count for each BC\"\"\"\n",
    "\n",
    "channel_count = nr_of_channels*ratio_of_channels_to_sample\n",
    "#avg_particles_reaching_detector = channel_count * signal_to_channel_count_ratio\n",
    "\n",
    "avg_particles_reaching_detector = expected_count #15000 for mu=200\n",
    "#generate the noise\n",
    "noise_gen = noise_generator(threshold, channel_count)\n",
    "#generate the signal\n",
    "signal_gen = signal_generator(threshold, real_signal_mu, guess_signal_mu)\n",
    "\n",
    "result_actual_signal_count = np.zeros(bunch_crossings)\n",
    "result_estimated_signal_count = np.zeros(bunch_crossings)\n",
    "error_estimation = 0\n",
    "signal_fraction_above = signal_gen.fraction_above\n",
    "\n",
    "for BC in range(bunch_crossings):\n",
    "    # both results are in small window, both are noise above threshold\n",
    "    noise_exact, noise_est = noise_gen.generate()\n",
    "\n",
    "    # The paramater is the expected number of particles that reach the detector.\n",
    "    # The first return value is the number of particles that reached the detector and \n",
    "    # the second return value is the number of activated channels.\n",
    "    total_actual_signal, signal_above = signal_gen.generate(avg_particles_reaching_detector)\n",
    "\n",
    "    # from the total activations, estimate how much was produced by actual signal\n",
    "    total_activations = signal_above + noise_exact  # total activations in small window (i.e. above threshold)\n",
    "    print(\"\\nBunch Crossing %d:\" %(BC+1))\n",
    "    print(\"Signal- and noise-activated channels: %d\" %(total_activations))\n",
    "    print (\"Noise-activated channels: %d\" %(noise_exact))\n",
    "    #total real activations minus estimation of signal, then divide with the prob. mass for Landau to be above threshold\n",
    "    total_signal_est = (total_activations - noise_est)/signal_fraction_above \n",
    "    \n",
    "    # assign the results\n",
    "    result_actual_signal_count[BC] = total_actual_signal #exact count in the small window\n",
    "    result_estimated_signal_count[BC] = total_signal_est #estimated count \n",
    "    print(\"True number of signal-activated channels: %d\" %result_actual_signal_count[BC])\n",
    "    print(\"Estimated number of signal-activated channels: %f\" % result_estimated_signal_count[BC])\n",
    "    error_estimation = 0\n",
    "    "
   ]
  },
  {
   "cell_type": "markdown",
   "id": "cognitive-classics",
   "metadata": {},
   "source": [
    "### Study which threshold is best: with SNR or the signal deviation from true values? \n"
   ]
  },
  {
   "cell_type": "code",
   "execution_count": null,
   "id": "worse-pound",
   "metadata": {},
   "outputs": [],
   "source": [
    "\"\"\"Ratio between real signal and real noise? Or between estimated signal and noise?\"\"\"\n",
    "\n",
    "\"\"\"Get the total deviation from the total simulated signals vs the expected signals.\n",
    "        Returns both the total deviation as a positive number\"\"\"\n",
    "real_signal_count = result_actual_signal_count.sum()\n",
    "if real_signal_count == 0:\n",
    "    total_deviation = 0\n",
    "total_deviation = abs( result_estimated_signal_count.sum() / real_signal_count -1)"
   ]
  },
  {
   "cell_type": "markdown",
   "id": "married-display",
   "metadata": {},
   "source": [
    "snr = 20 in the beginning\n",
    "snr = 5 later \n",
    "\n",
    "large time window multiple of 3.125\n",
    "\n",
    "todo later: check non-linear approximation of nr of particles vs mu \n",
    "\n"
   ]
  }
 ],
 "metadata": {
  "kernelspec": {
   "display_name": "Python 3",
   "language": "python",
   "name": "python3"
  },
  "language_info": {
   "codemirror_mode": {
    "name": "ipython",
    "version": 3
   },
   "file_extension": ".py",
   "mimetype": "text/x-python",
   "name": "python",
   "nbconvert_exporter": "python",
   "pygments_lexer": "ipython3",
   "version": "3.8.5"
  }
 },
 "nbformat": 4,
 "nbformat_minor": 5
}
