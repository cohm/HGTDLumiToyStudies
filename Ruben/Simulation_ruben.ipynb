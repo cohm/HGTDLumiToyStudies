{
 "cells": [
  {
   "cell_type": "markdown",
   "id": "downtown-automation",
   "metadata": {},
   "source": [
    "# Toy MC for the ATLAS High Granularity Timing Detector"
   ]
  },
  {
   "cell_type": "code",
   "execution_count": 1,
   "id": "controlling-caution",
   "metadata": {},
   "outputs": [
    {
     "name": "stdout",
     "output_type": "stream",
     "text": [
      "Welcome to JupyROOT 6.22/08\n"
     ]
    }
   ],
   "source": [
    "import ROOT\n",
    "from ROOT import TCanvas, TGraph, gROOT\n",
    "import numpy as np\n",
    "import time\n",
    "import math\n",
    "import matplotlib.pyplot as plt\n",
    "import time "
   ]
  },
  {
   "cell_type": "markdown",
   "id": "dental-joint",
   "metadata": {},
   "source": [
    "### Constants"
   ]
  },
  {
   "cell_type": "code",
   "execution_count": 2,
   "id": "excellent-cylinder",
   "metadata": {},
   "outputs": [],
   "source": [
    "nr_of_channels = int(3.6 * 1e6)\n",
    "channels_per_module = int(15*30)\n",
    "total_modules = int(nr_of_channels/channels_per_module)\n",
    "global_counter = 0\n"
   ]
  },
  {
   "cell_type": "markdown",
   "id": "august-converter",
   "metadata": {},
   "source": [
    "### Noise Generator Class:\n",
    "This class takes in the parameters threshold and channel count (proportional to the number of interactions mu per bunch crossing) and calculates the mean number of channels activated by noise by calculating the probability mass that a part of the Gaussian distribution will be above the set average, and multiplies it with the total number of channels. The class has a function generate, which calculates a variation of the mean number of noise activated channels by drawing from a Poisson dist. with mean as parameter, and calculates how many of them are triggered during the small time window of 3.125ns (true value of them!) by drawing from a uniform dist. (0,1) for each number of noise activated channel and seeing how many are under 0.125 (3.125/25 = 0.125). Finally, it estimates the number of triggered channels in the small window by determining the number of channels triggered in one ns and multiplying by 3.125ns. This way, we have a true number of noise activated channels in the small window, and one that is estimated."
   ]
  },
  {
   "cell_type": "code",
   "execution_count": 3,
   "id": "laughing-kidney",
   "metadata": {},
   "outputs": [],
   "source": [
    "class noise_generator:\n",
    "    def __init__(self, threshold, channel_count): \n",
    "        global global_counter\n",
    "        low = 0\n",
    "        high = 1000\n",
    "        noise = ROOT.TF1(\"noise_gauss\", \"TMath::Gaus(x, 0, 5)\", low, high)\n",
    "        \n",
    "        \"\"\"Why divide with 2?? Why do we need a avg. value?\"\"\"\n",
    "        #integrate normal dist. to get exact prob. above threshold and multiply with channel nr to get avg.\n",
    "        self._mean = channel_count * noise.Integral(threshold, high)/noise.Integral(low, high) \n",
    "        #self._prng = ROOT.TRandom3(time.time_ns())\n",
    "        global_counter += 1\n",
    "        self._prng = ROOT.TRandom3(int(time.time()) + global_counter)\n",
    "\n",
    "    def generate(self):\n",
    "        \"\"\"The first return value is the exact number of noise activated channels in the small window and\n",
    "            the second return value is the estimated number of noise activated channels in the small window. (estimated from large window)\n",
    "            (both results are in small window, both results are noise above threshold)\n",
    "            noise_exact, noise_est = noise.generate()\"\"\"\n",
    "        # Large time window 25ns\n",
    "        # Small time window 3.125ns\n",
    "        prng = self._prng\n",
    "        total = prng.Poisson(self._mean) # number of noise above threshold in large window in this run.\n",
    "        narrow_exact = 0\n",
    "        narrow_exact = (np.random.rand(total) < 0.125).sum()  # 3.125/25 = 0.125\n",
    "        \n",
    "        noise_per_time = (total - narrow_exact)/(25 - 3.125)\n",
    "        estimate = 3.125 * noise_per_time\n",
    "        return narrow_exact, estimate\n",
    "\n",
    "\n"
   ]
  },
  {
   "cell_type": "markdown",
   "id": "advanced-flower",
   "metadata": {},
   "source": [
    " ### Signal Generator Class:\n",
    " This class takes the input parametes threshold and the real and guessed most probable peak voltage of the signal distribution (100mV when the sensors are new). It calculates the fraction of the Landau distribution that will be above the set threshold. It has a function generate, which takes in the paramter expected_count, that is, the estimated number of particles that will reach the detector (for mu=200 it is around 15k), then it determines a possible number of hits on the detector by drawing from a Poisson distribution around that parameter. Finally, for each calculated hit, it determines how many channels were triggered by signal from a particle by sampling a Landau distribution and checking how many of them are above the threshold. It returns the number of particles hitting the detector, and the number of signal-activated channels."
   ]
  },
  {
   "cell_type": "code",
   "execution_count": 4,
   "id": "decreased-appliance",
   "metadata": {},
   "outputs": [],
   "source": [
    "class signal_generator:\n",
    "    def __init__(self, threshold, real_expected_voltage, guess_expected_voltage): # expected_voltage = expected peak voltage  (mu)\n",
    "        global global_counter\n",
    "        low = -100\n",
    "        high = 1000\n",
    "        self._threshold = threshold\n",
    "        self._expected_voltage = real_expected_voltage\n",
    "        signal_func = ROOT.TF1(\"sth\", \"TMath::Landau(x, %f, %f)\" % (guess_expected_voltage, guess_expected_voltage/4), low, high)\n",
    "        self.fraction_above = signal_func.Integral(threshold, high)/signal_func.Integral(low, high) #fraction of the function that is above threshold\n",
    "        #self._prng = ROOT.TRandom3(time.time_ns())\n",
    "        global_counter += 1\n",
    "        self._prng = ROOT.TRandom3(int(time.time()) + global_counter)\n",
    "    \n",
    "    def generate(self, expected_count):\n",
    "        \"\"\"The paramater is the expected number of particles that reach the detector.\n",
    "            The first return value is the number of particles that reached the detector and\n",
    "            the second return value is the number of activated channels.\n",
    "            signal_real_total, signal_above = signal.generate(30)\"\"\"\n",
    "        prng = self._prng\n",
    "        expected_voltage = self._expected_voltage\n",
    "        threshold = self._threshold\n",
    "        \n",
    "        signal_count = prng.Poisson(expected_count)\n",
    "        above_threshold_count = 0\n",
    "        sigma = expected_voltage/4\n",
    "        for i in range(signal_count):\n",
    "            if prng.Landau(expected_voltage, sigma) > threshold: # 1/4 is just the refernce 25/100\n",
    "                above_threshold_count += 1\n",
    "        return signal_count, above_threshold_count\n",
    "    "
   ]
  },
  {
   "cell_type": "markdown",
   "id": "damaged-marsh",
   "metadata": {},
   "source": [
    "## Simulation function\n"
   ]
  },
  {
   "cell_type": "code",
   "execution_count": 5,
   "id": "absent-coating",
   "metadata": {
    "scrolled": true
   },
   "outputs": [],
   "source": [
    "def simulation (nr_of_channels, ratio_of_channels_to_sample, expected_count, bunch_crossings, threshold, peak_mpv_voltage, guess_mpv_voltage):\n",
    "    \"\"\"For a number of BC, we get two lists: total_actual_signal_count and total_estimated_signal_count for each BC\"\"\"\n",
    "\n",
    "    channel_count = nr_of_channels*ratio_of_channels_to_sample\n",
    "    #avg_particles_reaching_detector = channel_count * signal_to_channel_count_ratio\n",
    "\n",
    "    avg_particles_reaching_detector = expected_count #15000 for mu=200\n",
    "\n",
    "    #generate the signal\n",
    "    signal_gen = signal_generator(threshold, peak_mpv_voltage, guess_mpv_voltage)\n",
    "\n",
    "    result_true_signal_count = np.zeros(bunch_crossings)\n",
    "    result_estimated_signal_count = np.zeros(bunch_crossings)\n",
    "    error_estimation = 0\n",
    "    signal_fraction_above = signal_gen.fraction_above\n",
    "\n",
    "    for BC in range(bunch_crossings):\n",
    "        # both results are in small window, both are noise above threshold\n",
    "        noise_exact, noise_est = noise_gen.generate()\n",
    "\n",
    "        # The paramater is the expected number of particles that reach the detector.\n",
    "        # The first return value is the number of particles that reached the detector and \n",
    "        # the second return value is the number of activated channels.\n",
    "        total_actual_signal, signal_above = signal_gen.generate(avg_particles_reaching_detector)\n",
    "\n",
    "        # from the total activations, estimate how much was produced by actual signal\n",
    "        total_activations = signal_above + noise_exact  # total activations in small window (i.e. above threshold)\n",
    "        #print(\"\\nBunch Crossing %d:\" %(BC+1))\n",
    "        #print(\"Signal- and noise-activated channels: %d\" %(total_activations))\n",
    "        #print (\"Noise-activated channels: %d\" %(noise_exact))\n",
    "        #total real activations minus estimation of signal, then divide with the prob. mass for Landau to be above threshold\n",
    "        total_signal_est = (total_activations - noise_est)/signal_fraction_above \n",
    "\n",
    "        # assign the results\n",
    "        result_true_signal_count[BC] = total_actual_signal #exact count in the small window\n",
    "        result_estimated_signal_count[BC] = total_signal_est #estimated count \n",
    "        #print(\"True number of signal-activated channels: %d\" %result_true_signal_count[BC])\n",
    "        #print(\"Estimated number of signal-activated channels: %f\" % result_estimated_signal_count[BC])\n",
    "        error_estimation = 0\n",
    "        \n",
    "    return result_true_signal_count, result_estimated_signal_count\n",
    "\n"
   ]
  },
  {
   "cell_type": "code",
   "execution_count": 11,
   "id": "spread-russia",
   "metadata": {},
   "outputs": [
    {
     "name": "stdout",
     "output_type": "stream",
     "text": [
      "Expected count: 15000.000000\n"
     ]
    }
   ],
   "source": [
    "\"\"\"Parameters for the simulation\"\"\"\n",
    "#threshold = 20 #mV\n",
    "peak_mpv_voltage = 100 #mV, mpv: most probable value\n",
    "guess_mpv_voltage = 100 #mV\n",
    "mu = 200\n",
    "\"\"\"exp number of particles on detector proportional to mu, try also non-linear relationship as in christian's plot \"\"\"\n",
    "expected_count = (15*1e3/200)*mu #expected number of particles reaching the HGTD for mu=200, no more than 20k\n",
    "bunch_crossings = 50\n",
    "ratio_of_channels_to_sample = 0.5\n",
    "print(\"Expected count: %f\" %expected_count)"
   ]
  },
  {
   "cell_type": "markdown",
   "id": "periodic-accordance",
   "metadata": {},
   "source": [
    " ### Graphical estimation of best threshold with regards to deviation from the true signal"
   ]
  },
  {
   "cell_type": "code",
   "execution_count": 15,
   "id": "auburn-comparison",
   "metadata": {
    "scrolled": true
   },
   "outputs": [
    {
     "name": "stdout",
     "output_type": "stream",
     "text": [
      "Deviation for threshold 0.000000: 0.002666\n",
      "Deviation for threshold 1.000000: 0.004813\n",
      "Deviation for threshold 2.000000: 0.010780\n",
      "Deviation for threshold 3.000000: 0.001722\n",
      "Deviation for threshold 4.000000: 0.003887\n",
      "Deviation for threshold 5.000000: 0.001498\n",
      "Deviation for threshold 6.000000: 0.001010\n",
      "Deviation for threshold 7.000000: 0.000423\n",
      "Deviation for threshold 8.000000: 0.001555\n",
      "Deviation for threshold 9.000000: 0.000271\n",
      "Deviation for threshold 10.000000: 0.000715\n",
      "Deviation for threshold 11.000000: 0.000433\n",
      "Deviation for threshold 12.000000: 0.001259\n",
      "Deviation for threshold 13.000000: 0.000059\n",
      "Deviation for threshold 14.000000: 0.000176\n",
      "Deviation for threshold 15.000000: 0.000046\n",
      "Deviation for threshold 16.000000: 0.000007\n",
      "Deviation for threshold 17.000000: 0.000134\n",
      "Deviation for threshold 18.000000: 0.000036\n",
      "Deviation for threshold 19.000000: 0.000049\n",
      "Deviation for threshold 20.000000: 0.000007\n",
      "Deviation for threshold 21.000000: 0.000010\n",
      "Deviation for threshold 22.000000: 0.000004\n",
      "Deviation for threshold 23.000000: 0.000001\n",
      "Deviation for threshold 24.000000: 0.000008\n",
      "Deviation for threshold 25.000000: 0.000008\n",
      "Deviation for threshold 26.000000: 0.000009\n",
      "Deviation for threshold 27.000000: 0.000010\n",
      "Deviation for threshold 28.000000: 0.000012\n",
      "Deviation for threshold 29.000000: 0.000008\n",
      "Deviation for threshold 30.000000: 0.000044\n",
      "Deviation for threshold 31.000000: 0.000004\n",
      "Deviation for threshold 32.000000: 0.000026\n",
      "Deviation for threshold 33.000000: 0.000009\n",
      "Deviation for threshold 34.000000: 0.000099\n",
      "Deviation for threshold 35.000000: 0.000030\n",
      "Deviation for threshold 36.000000: 0.000079\n",
      "Deviation for threshold 37.000000: 0.000102\n",
      "Deviation for threshold 38.000000: 0.000132\n",
      "Deviation for threshold 39.000000: 0.000094\n",
      "Deviation for threshold 40.000000: 0.000077\n",
      "Deviation for threshold 41.000000: 0.000125\n",
      "Deviation for threshold 42.000000: 0.000018\n",
      "Deviation for threshold 43.000000: 0.000260\n",
      "Deviation for threshold 44.000000: 0.000187\n",
      "Deviation for threshold 45.000000: 0.000300\n",
      "Deviation for threshold 46.000000: 0.000236\n",
      "Deviation for threshold 47.000000: 0.000309\n",
      "Deviation for threshold 48.000000: 0.000359\n",
      "Deviation for threshold 49.000000: 0.000429\n",
      "Deviation for threshold 50.000000: 0.000307\n",
      "Deviation for threshold 51.000000: 0.000351\n",
      "Deviation for threshold 52.000000: 0.000879\n",
      "Deviation for threshold 53.000000: 0.000627\n",
      "Deviation for threshold 54.000000: 0.000917\n",
      "Deviation for threshold 55.000000: 0.000879\n",
      "Deviation for threshold 56.000000: 0.000951\n",
      "Deviation for threshold 57.000000: 0.000962\n",
      "Deviation for threshold 58.000000: 0.001037\n",
      "Deviation for threshold 59.000000: 0.001509\n",
      "Deviation for threshold 60.000000: 0.000998\n",
      "Deviation for threshold 61.000000: 0.001458\n",
      "Deviation for threshold 62.000000: 0.001773\n",
      "Deviation for threshold 63.000000: 0.001373\n",
      "Deviation for threshold 64.000000: 0.002111\n",
      "Deviation for threshold 65.000000: 0.001959\n",
      "Deviation for threshold 66.000000: 0.002780\n",
      "Deviation for threshold 67.000000: 0.002231\n",
      "Deviation for threshold 68.000000: 0.002205\n",
      "Deviation for threshold 69.000000: 0.002709\n",
      "Deviation for threshold 70.000000: 0.003203\n",
      "Deviation for threshold 71.000000: 0.003162\n",
      "Deviation for threshold 72.000000: 0.003405\n",
      "Deviation for threshold 73.000000: 0.003175\n",
      "Deviation for threshold 74.000000: 0.003343\n",
      "Deviation for threshold 75.000000: 0.003691\n",
      "Deviation for threshold 76.000000: 0.004149\n",
      "Deviation for threshold 77.000000: 0.004795\n",
      "Deviation for threshold 78.000000: 0.004727\n",
      "Deviation for threshold 79.000000: 0.005052\n",
      "Deviation for threshold 80.000000: 0.004758\n",
      "Deviation for threshold 81.000000: 0.005186\n",
      "Deviation for threshold 82.000000: 0.005571\n",
      "Deviation for threshold 83.000000: 0.006837\n",
      "Deviation for threshold 84.000000: 0.006143\n",
      "Deviation for threshold 85.000000: 0.005989\n",
      "Deviation for threshold 86.000000: 0.007684\n",
      "Deviation for threshold 87.000000: 0.007811\n",
      "Deviation for threshold 88.000000: 0.007648\n",
      "Deviation for threshold 89.000000: 0.007450\n",
      "Deviation for threshold 90.000000: 0.008704\n",
      "Deviation for threshold 91.000000: 0.009343\n",
      "Deviation for threshold 92.000000: 0.009048\n",
      "Deviation for threshold 93.000000: 0.010389\n",
      "Deviation for threshold 94.000000: 0.010934\n",
      "Deviation for threshold 95.000000: 0.010448\n",
      "Deviation for threshold 96.000000: 0.010546\n",
      "Deviation for threshold 97.000000: 0.012389\n",
      "Deviation for threshold 98.000000: 0.011856\n",
      "Deviation for threshold 99.000000: 0.013136\n",
      "Deviation for threshold 100.000000: 0.012776\n",
      "CPU time: 23.41984486579895 seconds\n"
     ]
    },
    {
     "name": "stderr",
     "output_type": "stream",
     "text": [
      "Warning in <TCanvas::Constructor>: Deleting canvas with same name: c1\n"
     ]
    },
    {
     "data": {
      "image/png": "[encoded data removed]",
      "text/plain": [
       "<IPython.core.display.Image object>"
      ]
     },
     "metadata": {},
     "output_type": "display_data"
    }
   ],
   "source": [
    "min_threshold = 0 #mV\n",
    "max_threshold = 100 #mV\n",
    "threshold_array = np.linspace(min_threshold,max_threshold,101)\n",
    "total_deviation= np.zeros(len(threshold_array))\n",
    "iteration = 0\n",
    "start_time = time.time()\n",
    "\n",
    "for threshold in threshold_array:\n",
    "    \n",
    "    true_signal, estimated_signal = simulation (nr_of_channels, ratio_of_channels_to_sample, expected_count, bunch_crossings, threshold, peak_mpv_voltage, guess_mpv_voltage)\n",
    "    \n",
    "    \"\"\"Get the total deviation from the total simulated signals vs the expected signals.\n",
    "        Returns both the total deviation as a positive number\"\"\"\n",
    "    true_signal_sum = true_signal.sum()\n",
    "    if true_signal_sum == 0:\n",
    "        deviation = 0\n",
    "    deviation = abs( estimated_signal.sum() / true_signal_sum -1)\n",
    "    total_deviation[iteration] = deviation\n",
    "    print(\"Deviation for threshold %f: %f\" %(threshold, total_deviation[iteration]))\n",
    "    iteration = iteration+1\n",
    "\n",
    "c1 = TCanvas( 'c1', 'Graph', 200, 10, 700, 500 )\n",
    "#c1.SetLogy()\n",
    "\n",
    "g = TGraph(len(threshold_array), threshold_array.astype(np.double),total_deviation.astype(np.double))\n",
    "g.SetTitle( 'Deviation as a function of threshold, mu=%f, BC=%d, mpv_voltage=%d mV' %(mu, bunch_crossings, peak_mpv_voltage))\n",
    "g.GetXaxis().SetTitle( 'Threshold [mV]' )\n",
    "g.GetYaxis().SetTitle( 'Deviation' )\n",
    "g.GetYaxis().SetRange(0,10);\n",
    "g.SetLineColor(2)\n",
    "g.Draw(); \n",
    "c1.Draw()\n",
    "c1.Modified()\n",
    "c1.Update();\n",
    "print(\"CPU time: %s seconds\" % (time.time() - start_time))\n"
   ]
  },
  {
   "cell_type": "markdown",
   "id": "proved-atlanta",
   "metadata": {},
   "source": [
    "### Finer search for the best threshold: exact value"
   ]
  },
  {
   "cell_type": "code",
   "execution_count": 14,
   "id": "frozen-upgrade",
   "metadata": {},
   "outputs": [
    {
     "name": "stdout",
     "output_type": "stream",
     "text": [
      "Deviation for threshold 20.000000: 0.000032\n",
      "Deviation for threshold 20.333333: 0.000040\n",
      "Deviation for threshold 20.666667: 0.000008\n",
      "Deviation for threshold 21.000000: 0.000014\n",
      "Deviation for threshold 21.333333: 0.000017\n",
      "Deviation for threshold 21.666667: 0.000015\n",
      "Deviation for threshold 22.000000: 0.000022\n",
      "Deviation for threshold 22.333333: 0.000006\n",
      "Deviation for threshold 22.666667: 0.000016\n",
      "Deviation for threshold 23.000000: 0.000008\n",
      "Deviation for threshold 23.333333: 0.000008\n",
      "Deviation for threshold 23.666667: 0.000007\n",
      "Deviation for threshold 24.000000: 0.000006\n",
      "Deviation for threshold 24.333333: 0.000011\n",
      "Deviation for threshold 24.666667: 0.000010\n",
      "Deviation for threshold 25.000000: 0.000007\n",
      "Deviation for threshold 25.333333: 0.000011\n",
      "Deviation for threshold 25.666667: 0.000012\n",
      "Deviation for threshold 26.000000: 0.000012\n",
      "Deviation for threshold 26.333333: 0.000013\n",
      "Deviation for threshold 26.666667: 0.000007\n",
      "Deviation for threshold 27.000000: 0.000015\n",
      "Deviation for threshold 27.333333: 0.000014\n",
      "Deviation for threshold 27.666667: 0.000015\n",
      "Deviation for threshold 28.000000: 0.000013\n",
      "Deviation for threshold 28.333333: 0.000014\n",
      "Deviation for threshold 28.666667: 0.000024\n",
      "Deviation for threshold 29.000000: 0.000016\n",
      "Deviation for threshold 29.333333: 0.000015\n",
      "Deviation for threshold 29.666667: 0.000012\n",
      "Deviation for threshold 30.000000: 0.000019\n",
      "[3.23404411e-05 4.01213298e-05 7.92901728e-06 1.43849493e-05\n",
      " 1.71935162e-05 1.53437755e-05 2.18275082e-05 6.48409077e-06\n",
      " 1.61595877e-05 7.55400208e-06 8.13969003e-06 6.65870784e-06\n",
      " 6.20655464e-06 1.12523107e-05 9.99524009e-06 6.59260368e-06\n",
      " 1.14651717e-05 1.18328261e-05 1.23948289e-05 1.26522127e-05\n",
      " 7.38936589e-06 1.47176674e-05 1.39295840e-05 1.54506464e-05\n",
      " 1.29392628e-05 1.36979138e-05 2.41276425e-05 1.63321173e-05\n",
      " 1.49199583e-05 1.17322722e-05 1.90872264e-05]\n",
      "indexes:\n",
      "[12]\n",
      "best threshold: 24.000000\n"
     ]
    },
    {
     "data": {
      "image/png": "[encoded data removed]",
      "text/plain": [
       "<Figure size 432x288 with 1 Axes>"
      ]
     },
     "metadata": {
      "needs_background": "light"
     },
     "output_type": "display_data"
    }
   ],
   "source": [
    "min_threshold = 20#mV\n",
    "max_threshold = 30#mV\n",
    "threshold_array = np.linspace(min_threshold,max_threshold,31)\n",
    "total_deviation= np.zeros(len(threshold_array))\n",
    "nr_of_simulations = 5\n",
    "iteration = 0\n",
    "start_time = time.time()\n",
    "\n",
    "for threshold in threshold_array:   \n",
    "    deviation_avg = np.zeros(nr_of_simulations)\n",
    "    \n",
    "    for i in range (nr_of_simulations):\n",
    "        true_signal, estimated_signal = simulation(nr_of_channels, ratio_of_channels_to_sample, expected_count, bunch_crossings, threshold, peak_mpv_voltage, guess_mpv_voltage)\n",
    "\n",
    "        \"\"\"Get the total deviation from the total simulated signals vs the expected signals.\n",
    "            Returns both the total deviation as a positive number\"\"\"\n",
    "        true_signal_sum = true_signal.sum()\n",
    "        if true_signal_sum == 0:\n",
    "            deviation = 0\n",
    "        deviation = abs( estimated_signal.sum() / true_signal_sum -1)\n",
    "        deviation_avg[i] = deviation\n",
    "    \n",
    "    deviation_avg = deviation_avg.sum()/nr_of_simulations\n",
    "    total_deviation[iteration] = deviation_avg\n",
    "    print(\"Deviation for threshold %f: %f\" %(threshold, total_deviation[iteration]))\n",
    "    iteration = iteration+1    \n",
    "\n",
    "plt.scatter(threshold_array, total_deviation, marker = \"+\")\n",
    "plt.yscale(\"log\")\n",
    "plt.xlabel(\"Threshold [mV]\")\n",
    "plt.ylabel(\"Deviation\")\n",
    "plt.title (\"Deviation as a function of threshold, mu=200, BC=50, mpv_voltage=100mV\")\n",
    "\n",
    "best_threshold_index = [i for i, x in enumerate(total_deviation) if x == min(total_deviation)]\n",
    "print (\"indexes:\")\n",
    "print(best_threshold_index)\n",
    "if len(best_threshold_index)==1:\n",
    "    print(\"best threshold: %f\" %(threshold_array[best_threshold_index]))\n",
    "print(\"CPU time: %s seconds\" % (time.time() - start_time))"
   ]
  },
  {
   "cell_type": "markdown",
   "id": "cognitive-classics",
   "metadata": {},
   "source": [
    "### Study which threshold is best: with SNR or the signal deviation from true values? \n"
   ]
  },
  {
   "cell_type": "code",
   "execution_count": 9,
   "id": "worse-pound",
   "metadata": {},
   "outputs": [
    {
     "data": {
      "text/plain": [
       "'Ratio between real signal and real noise? Or between estimated signal and noise?'"
      ]
     },
     "execution_count": 9,
     "metadata": {},
     "output_type": "execute_result"
    }
   ],
   "source": [
    "\"\"\"Ratio between real signal and real noise? Or between estimated signal and noise?\"\"\"\n",
    "\n"
   ]
  },
  {
   "cell_type": "markdown",
   "id": "married-display",
   "metadata": {},
   "source": [
    "snr = 20 in the beginning\n",
    "snr = 5 later \n",
    "\n",
    "large time window multiple of 3.125\n",
    "\n",
    "todo later: check non-linear approximation of nr of particles vs mu \n",
    "\n"
   ]
  }
 ],
 "metadata": {
  "kernelspec": {
   "display_name": "Python 3",
   "language": "python",
   "name": "python3"
  },
  "language_info": {
   "codemirror_mode": {
    "name": "ipython",
    "version": 3
   },
   "file_extension": ".py",
   "mimetype": "text/x-python",
   "name": "python",
   "nbconvert_exporter": "python",
   "pygments_lexer": "ipython3",
   "version": "3.8.5"
  }
 },
 "nbformat": 4,
 "nbformat_minor": 5
}
