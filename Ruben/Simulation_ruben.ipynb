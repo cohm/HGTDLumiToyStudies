{
 "cells": [
  {
   "cell_type": "markdown",
   "id": "downtown-automation",
   "metadata": {},
   "source": [
    "# Toy MC for the ATLAS High Granularity Timing Detector"
   ]
  },
  {
   "cell_type": "markdown",
   "id": "ranging-portrait",
   "metadata": {},
   "source": [
    "#### This program is a toy Monte Carlo used to simulate noise and signal on the ATLAS High Granularity Detector, and study the uncertainties in the luminosity that can be achieve with the help of this detector.\n",
    "<ul>\n",
    "<li>Written by Ruben Pozzi for the KTH ATLAS Group</li>\n",
    "<li>Supervisor: Christian Ohm - christian.ohm@cern.ch</li>\n",
    "<li>Contact: rubenp@kth.se, rubenpozzi97@gmail.com</li>\n",
    "</ul>"
   ]
  },
  {
   "cell_type": "markdown",
   "id": "extraordinary-surgeon",
   "metadata": {},
   "source": [
    "## Background and aim\n",
    "\n",
    "#### This program simulates the detector response with given fixed physical parameters such as the $\\mu$ value, number of bunch crossings and the most probable value (mpv) of the peak voltage signal function.\n",
    "<ul>\n",
    "<li>In this simulation, both the \"true\" noise and signal and the estimated values of the noise and signal activated channels on the detector are simulated. The difference (or deviation) between these two is the main object of study of this simulation. This deviation from the true values is representative of the luminosity that the detector can achieve, and the uncertainties of these values are also studied.</li>\n",
    "<li> Assumptions: when a charged particle passes through a sensor, it induces a voltage that follows a Landau distribution, while the noise on the detector is assumed to be a normally distributed around 0mV with standard deviation of 5mV. Finally, because of radiation damage, the SNR of the sensors worsens, and this is reflected by a lower mpv of the peak voltage of the Landau distribution of the signal. </li>\n",
    "<li>A threshold is set to distinguish between the noise-activated channels and the signal-activated ones.</li>\n",
    "</ul>"
   ]
  },
  {
   "cell_type": "markdown",
   "id": "lesbian-vietnam",
   "metadata": {},
   "source": [
    "### Import stuff"
   ]
  },
  {
   "cell_type": "code",
   "execution_count": 1,
   "id": "controlling-caution",
   "metadata": {},
   "outputs": [
    {
     "name": "stdout",
     "output_type": "stream",
     "text": [
      "Welcome to JupyROOT 6.22/08\n"
     ]
    }
   ],
   "source": [
    "import ROOT\n",
    "from ROOT import TCanvas, TGraph, gROOT\n",
    "import numpy as np\n",
    "import time\n",
    "import matplotlib.pyplot as plt\n",
    "import time \n",
    "from array import array\n",
    "from mpl_toolkits.mplot3d import Axes3D\n",
    "from matplotlib.ticker import LinearLocator"
   ]
  },
  {
   "cell_type": "markdown",
   "id": "dental-joint",
   "metadata": {},
   "source": [
    "### Constants"
   ]
  },
  {
   "cell_type": "code",
   "execution_count": 2,
   "id": "excellent-cylinder",
   "metadata": {},
   "outputs": [],
   "source": [
    "nr_of_channels = int(3.6 * 1e6) #number of channels on the HGTD\n",
    "channels_per_module = int(15*30) #number of channels in each module of the detector\n",
    "total_modules = int(nr_of_channels/channels_per_module) #number of modules\n",
    "global_counter = 0 #global counter used for the pseudorandomgenerator in the next section"
   ]
  },
  {
   "cell_type": "markdown",
   "id": "august-converter",
   "metadata": {},
   "source": [
    "## Noise Generator Class:\n",
    "<ul>\n",
    "<li>This class takes in the parameters threshold and channel count (proportional to the number of interactions $\\mu$ per bunch crossing) and calculates the mean number of channels activated by noise <code>mean</code> by calculating the probability mass that a part of the Gaussian distribution will be above the set threshold, and multiplies it with the total number of channels.</li>\n",
    "<li>The class has a function generate, which calculates a variation of the mean number of noise activated channels by drawing from a Poisson distribution with <code>mean</code> as parameter, and calculates how many of them are triggered during the small time window of $3.125ns$ (the <i>true</i> value, <code>narrow_exact</code>) by drawing from a uniform distribution $(0,1)$ for each number of noise activated channel and seeing how many are in the small time window. For example, with a large window of 25ns, it would check how many values drawn from the uniform distribution are lower than 0.125 {=3.125/25 = 0.125}. </li>\n",
    "<li>Finally, it <i>estimates</i> the number of triggered channels in the small window <code>estimate</code> by determining the number of channels triggered in one ns and multiplying by 3.125ns. This way, we have a <i>true</i> number of noise activated channels in the small window, and one that is <i>estimated</i>.</li>\n",
    "\n",
    "\n",
    "</ul>\n",
    "<b>Note:</b> try different big time windows , eg 4x3.125, lines 25-26. Change value of *big_window*"
   ]
  },
  {
   "cell_type": "code",
   "execution_count": 3,
   "id": "laughing-kidney",
   "metadata": {},
   "outputs": [],
   "source": [
    "class noise_generator:\n",
    "\n",
    "    def __init__(self, threshold, channel_count, large_window_factor): \n",
    "        global global_counter\n",
    "        \n",
    "        # Define the gaussian distribution function centered around 0 with std 5mV, limits 0 to 1000\n",
    "        low = 0\n",
    "        high = 1000      \n",
    "        noise = ROOT.TF1(\"noise_gauss\", \"TMath::Gaus(x, 0, 5)\", low, high)\n",
    "        \n",
    "        # Integrate normal dist. to get exact prob. above threshold and multiply with channel nr to get avg. number\n",
    "        # of noise activated channels\n",
    "        self._mean = channel_count * noise.Integral(threshold, high)/noise.Integral(low, high) \n",
    "        \n",
    "        # Pseudorandom generator \n",
    "        global_counter += 1\n",
    "        self._prng = ROOT.TRandom3(int(time.time()) + global_counter)\n",
    "        \n",
    "        self._large_window_factor = large_window_factor\n",
    "\n",
    "    def generate(self):\n",
    "        \n",
    "        \"\"\"The first return value is the exact number of noise activated channels in the small window and\n",
    "            the second return value is the estimated number of noise activated channels in the small window. (estimated from large window)\n",
    "            (both results are in small window, both results are noise above threshold)\n",
    "            noise_exact, noise_est = noise.generate()\"\"\"\n",
    "        \n",
    "        prng = self._prng\n",
    "        # Sample a Poisson dist. around the mean value \n",
    "        total = prng.Poisson(self._mean) # number of noise above threshold in large window in this run.\n",
    "        \n",
    "        # Width of the large time window - multiple of the smaller one (N*3.125ns)\n",
    "        big_window = self._large_window_factor*3.125#ns\n",
    "        \n",
    "        # Determine how many noise activated channels in the small time window \n",
    "        narrow_exact = 0 # Exact number of noise activated channels in the small window\n",
    "        narrow_exact = (np.random.rand(total) < 3.125/big_window).sum() # ex. 3.125/(3.125*4) big window of 4 times 3.125 \n",
    "        \n",
    "        # Determine the unit of noise activated channels from the large time window \n",
    "        # and use it to estimate the number of noise act. channels in the smaller one\n",
    "        noise_per_time = (total - narrow_exact)/(big_window - 3.125)  \n",
    "        estimate = 3.125 * noise_per_time\n",
    "        \n",
    "        return narrow_exact, estimate"
   ]
  },
  {
   "cell_type": "markdown",
   "id": "advanced-flower",
   "metadata": {},
   "source": [
    " ## Signal Generator Class:\n",
    "<ul>\n",
    "\n",
    "<li>This class takes the input parametes threshold and the real and guessed most probable peak voltage of the signal distribution (100mV when the sensors are new).</li>\n",
    "<li>It calculates the fraction of the Landau distribution that will be above the set threshold <code>fraction_above</code>. It has a function <code>generate()</code>, which takes in the paramter <code>expected_count</code>, that is, the estimated number of particles that will reach the detector (for mu=200 it is around 15k), then it determines a simulated number of hits on the detector by drawing from a Poisson distribution around that parameter.</li>\n",
    "<li>Finally, for each calculated hit, it determines how many channels were triggered by signal from a particle by sampling a Landau distribution and checking how many of them are above the threshold. It returns the number of particles hitting the detector, and the number of signal-activated channels.</li>\n",
    "</ul>\n",
    " "
   ]
  },
  {
   "cell_type": "code",
   "execution_count": 4,
   "id": "decreased-appliance",
   "metadata": {},
   "outputs": [],
   "source": [
    "class signal_generator:\n",
    "    def __init__(self, threshold, real_expected_voltage, guess_expected_voltage): # expected_voltage = expected peak voltage  (mu)\n",
    "        global global_counter\n",
    "        \n",
    "        # Define the signal function distribution (Landau) with the guessed mpv peak voltage between -100 and 1000\n",
    "        low = -100\n",
    "        high = 1000\n",
    "        self._threshold = threshold\n",
    "        self._expected_voltage = real_expected_voltage\n",
    "        signal_func = ROOT.TF1(\"sth\", \"TMath::Landau(x, %f, %f)\" % (guess_expected_voltage, guess_expected_voltage/4), low, high)\n",
    "        \n",
    "        # Determine the fraction of the function that is above threshold by integrating \n",
    "        self.fraction_above = signal_func.Integral(threshold, high)/signal_func.Integral(low, high) \n",
    "        \n",
    "        global_counter += 1\n",
    "        self._prng = ROOT.TRandom3(int(time.time()) + global_counter)\n",
    "    \n",
    "    def generate(self, expected_count):\n",
    "        \"\"\"The paramater is the expected number of particles that reach the detector.\n",
    "            The first return value is the number of particles that reached the detector and\n",
    "            the second return value is the number of activated channels.\n",
    "            signal_real_total, signal_above = signal.generate(30)\"\"\"\n",
    "        \n",
    "        prng = self._prng\n",
    "        expected_voltage = self._expected_voltage\n",
    "        threshold = self._threshold\n",
    "        # True number of signal activated channels \n",
    "        signal_count = prng.Poisson(expected_count)\n",
    "        above_threshold_count = 0\n",
    "        sigma = expected_voltage/4\n",
    "        for i in range(signal_count):\n",
    "            if prng.Landau(expected_voltage, sigma) > threshold: # 1/4 is just the refernce 25/100\n",
    "                above_threshold_count += 1\n",
    "        return signal_count, above_threshold_count\n",
    "    "
   ]
  },
  {
   "cell_type": "markdown",
   "id": "damaged-marsh",
   "metadata": {},
   "source": [
    "## Simulation function\n",
    "#### This is the main function for the simulation. It takes in the parameters chosen in a later cell and generates    noise and signal.\n",
    "<ul>\n",
    "    <li>It returns three lists: one containing the true number of particles hitting the detector for each bunch crossing <code>result_true_signal_count</code>, the estimated number of hits <code>result_estimated_signal_count</code>, and finally the relative deviation of the estimated hits from the true value, <code>deviation_from_true</code></li>\n",
    "</ul>\n",
    "<b>NB:</b> the return value <code>deviation_from_true</code> is divided by the number of hits at each bunch crossing, which makes it <i>relative</i>. In case <i>absolute</i> values are needed, comment out line 39 or use the variable <code>total_deviation</code> in the computation cell to make plots with absolute values"
   ]
  },
  {
   "cell_type": "code",
   "execution_count": 5,
   "id": "absent-coating",
   "metadata": {
    "scrolled": true
   },
   "outputs": [],
   "source": [
    "def simulation (nr_of_channels, ratio_of_channels_to_sample, expected_count, bunch_crossings, threshold, peak_mpv_voltage, guess_mpv_voltage):\n",
    "    \"\"\"For a number of BC, we get two lists: total_actual_signal_count and total_estimated_signal_count for each BC\"\"\"\n",
    "\n",
    "    channel_count = nr_of_channels*ratio_of_channels_to_sample\n",
    "    #avg_particles_reaching_detector = channel_count * signal_to_channel_count_ratio\n",
    "\n",
    "    #generate the noise\n",
    "    noise_gen = noise_generator(threshold, channel_count, large_window_factor)\n",
    "    #generate the signal\n",
    "    signal_gen = signal_generator(threshold, peak_mpv_voltage, guess_mpv_voltage)\n",
    "\n",
    "    result_true_signal_count = np.zeros(bunch_crossings)\n",
    "    result_estimated_signal_count = np.zeros(bunch_crossings)\n",
    "    error_estimation = 0\n",
    "    signal_fraction_above = signal_gen.fraction_above\n",
    "    deviation_from_true = np.zeros(bunch_crossings)\n",
    "    for BC in range(bunch_crossings):\n",
    "        # both results are in small window, both are noise above threshold\n",
    "        noise_exact, noise_est = noise_gen.generate()\n",
    "\n",
    "        # The paramater is the expected number of particles that reach the detector.\n",
    "        # The first return value is the number of particles that reached the detector and \n",
    "        # the second return value is the number of activated channels.\n",
    "        total_actual_signal, signal_above = signal_gen.generate(expected_count)\n",
    "\n",
    "        # from the total activations, estimate how much was produced by actual signal\n",
    "        total_activations = signal_above + noise_exact  # total activations in small window (i.e. above threshold)\n",
    "        #print(\"\\nBunch Crossing %d:\" %(BC+1))\n",
    "        #print(\"Signal- and noise-activated channels: %d\" %(total_activations))\n",
    "        #print (\"Noise-activated channels: %d\" %(noise_exact))\n",
    "        #total real activations minus estimation of signal, then divide with the prob. mass for Landau to be above threshold\n",
    "        total_signal_est = (total_activations - noise_est)/signal_fraction_above \n",
    "\n",
    "        # assign the results\n",
    "        result_true_signal_count[BC] = total_actual_signal #exact count in the small window\n",
    "        result_estimated_signal_count[BC] = total_signal_est #estimated count \n",
    "        \n",
    "        deviation_from_true[BC] = total_signal_est - total_actual_signal\n",
    "        deviation_from_true[BC] = deviation_from_true[BC]/ total_actual_signal\n",
    "        \n",
    "    return result_true_signal_count, result_estimated_signal_count, deviation_from_true"
   ]
  },
  {
   "cell_type": "markdown",
   "id": "amateur-sheep",
   "metadata": {},
   "source": [
    "### Function to find best threshold\n",
    "<ul>\n",
    "    <li>A useful function that returns the best threshold in the list, that is, the threshold that yields the lowest deviation</li>\n",
    "</ul>"
   ]
  },
  {
   "cell_type": "code",
   "execution_count": 6,
   "id": "cultural-massachusetts",
   "metadata": {},
   "outputs": [],
   "source": [
    "def find_best_threshold (total_deviation):\n",
    "    \"\"\"Input parameter is a list of the deviations for each threshold, returns the best threshold with lowest deviation\"\"\"\n",
    "    \n",
    "    total_deviation = [round(num, 6) for num in total_deviation]\n",
    "\n",
    "    best_array_indexes = [i for i, x in enumerate(total_deviation) if x == min(total_deviation)]\n",
    "    best_thresholds_array = np.zeros(len(best_array_indexes))\n",
    "    if len(best_array_indexes)==1:\n",
    "         #print(\"best threshold: %f\" %(threshold_array[best_array_indexes[0]]))\n",
    "         return threshold_array[best_array_indexes[0]]\n",
    "    \n",
    "    else: \n",
    "        for i in range (len(best_array_indexes)):\n",
    "            best_thresholds_array[i] = threshold_array[best_array_indexes[i]]\n",
    "        best = sum(best_thresholds_array)/len(best_thresholds_array)\n",
    "        #print (\"Best threshold: %f\"%best)\n",
    "        return best"
   ]
  },
  {
   "cell_type": "markdown",
   "id": "disturbed-income",
   "metadata": {},
   "source": [
    "## Parameters for the simulation\n",
    "\n",
    "<ul>\n",
    "    <li>Choose the parameters needed for the simulation</li>\n",
    "</ul>"
   ]
  },
  {
   "cell_type": "code",
   "execution_count": 89,
   "id": "spread-russia",
   "metadata": {
    "scrolled": true
   },
   "outputs": [
    {
     "name": "stdout",
     "output_type": "stream",
     "text": [
      "Expected count: 15000.000000\n"
     ]
    }
   ],
   "source": [
    "mu = 200 # Parameter for the number of interaction in a bunch crossing\n",
    "bunch_crossings = 1000 \n",
    "\n",
    "large_window_factor = 8 #How many times the large window is bigger than the smaller one\n",
    "\n",
    "\"\"\"exp number of particles on detector proportional to mu, try also non-linear relationship as in christian's plot \"\"\"\n",
    "expected_count = (15*1e3/200)*mu #expected number of particles reaching the HGTD for mu=200, no more than 20k\n",
    "print(\"Expected count: %f\" %expected_count)\n",
    "\n",
    "ratio_of_channels_to_sample = 0.5 # Choose according to how many channels, or which part of the detector, are hit\n",
    "\n",
    "# Thresholds for the simulation\n",
    "min_threshold = 20#mV\n",
    "max_threshold = 30#mV\n",
    "threshold_steps = 21 #Number of steps\n",
    "\n",
    "# To simulate only a single mpv of peak voltage, put same value for min and max, and step=1 \n",
    "min_mpv_peak = 100 #mV, the sensor at its worst state\n",
    "max_mpv_peak = 100 #mV, new sensors\n",
    "mpv_peak_steps = 1 # Number of steps\n",
    "guess_mpv_voltage_bias = 1 # Set the bias of guessed mpv voltage, e.g. 0.97 for a 3% bias"
   ]
  },
  {
   "cell_type": "markdown",
   "id": "standard-camera",
   "metadata": {},
   "source": [
    "## Computation\n",
    "#### Computation cell: for the selected thresholds and mpv, it simulates and genereate the signal and noise for the set number of bunch crossings. All the needed data is computed here\n",
    "<ul>\n",
    "    <li><code>best_threshold_array</code>: array list containing the best calculated threshold (that yield the lowest deviation), for each mpv voltage step.</li> \n",
    "    <li><code>min_deviation_array</code>: array list containing the smallest deviation yielded for each mpv voltage step.</li>\n",
    "    <li><code>mpv_and_deviation</code>: 2d array list containing every deviation yielded by a corresponding threshold for each mpv voltage step. Used for 3d graphical representation of yielded deviation in each threshold for each mpv.</li>\n",
    "    <li><code>mean_values</code>: array list containing the mean values of the yielded deviations for each threshold for one mpv voltage</li>\n",
    "    <li><code>std_values</code>: array list containing the standard deviations of the yielded deviations for each threshold for one mpv voltage</li>\n",
    "    <li><code>total_deviation</code>: array list containing the <i>absolute</i> deviations of the yielded for each threshold for one mpv voltage</li>\n",
    "</ul>\n"
   ]
  },
  {
   "cell_type": "code",
   "execution_count": 90,
   "id": "multiple-industry",
   "metadata": {
    "scrolled": true
   },
   "outputs": [
    {
     "name": "stdout",
     "output_type": "stream",
     "text": [
      "\n",
      "------------------------------------------------------------\n",
      "Simulations for mpv peak voltage 100mV\n",
      "\n",
      "20.00 threshold - Mean dev: 0.000009\n",
      "                - Std: 0.000260\n",
      "20.50 threshold - Mean dev: 0.000007\n",
      "                - Std: 0.000214\n",
      "21.00 threshold - Mean dev: 0.000001\n",
      "                - Std: 0.000174\n",
      "21.50 threshold - Mean dev: 0.000004\n",
      "                - Std: 0.000145\n",
      "22.00 threshold - Mean dev: 0.000002\n",
      "                - Std: 0.000123\n",
      "22.50 threshold - Mean dev: 0.000001\n",
      "                - Std: 0.000102\n",
      "23.00 threshold - Mean dev: 0.000002\n",
      "                - Std: 0.000090\n",
      "23.50 threshold - Mean dev: 0.000001\n",
      "                - Std: 0.000084\n",
      "24.00 threshold - Mean dev: 0.000004\n",
      "                - Std: 0.000075\n",
      "24.50 threshold - Mean dev: 0.000003\n",
      "                - Std: 0.000078\n",
      "25.00 threshold - Mean dev: 0.000006\n",
      "                - Std: 0.000076\n",
      "25.50 threshold - Mean dev: 0.000002\n",
      "                - Std: 0.000084\n",
      "26.00 threshold - Mean dev: 0.000009\n",
      "                - Std: 0.000090\n",
      "26.50 threshold - Mean dev: 0.000001\n",
      "                - Std: 0.000097\n",
      "27.00 threshold - Mean dev: 0.000002\n",
      "                - Std: 0.000102\n",
      "27.50 threshold - Mean dev: 0.000005\n",
      "                - Std: 0.000108\n",
      "28.00 threshold - Mean dev: 0.000013\n",
      "                - Std: 0.000117\n",
      "28.50 threshold - Mean dev: 0.000009\n",
      "                - Std: 0.000127\n",
      "29.00 threshold - Mean dev: 0.000016\n",
      "                - Std: 0.000136\n",
      "29.50 threshold - Mean dev: 0.000004\n",
      "                - Std: 0.000148\n",
      "30.00 threshold - Mean dev: 0.000019\n",
      "                - Std: 0.000148\n",
      "Best threshold: 23.375000\n",
      "Best threshold for mpv peak voltage 100mV: 23.375000mV\n",
      "Minimum deviation for mpv peak voltage 100: 0.000001\n",
      "\n",
      "------------------------------------------------------------\n",
      "Computation done!\n",
      "CPU time: 0 hours, 1 minutes and 36 seconds\n"
     ]
    }
   ],
   "source": [
    "start_time = time.time()\n",
    "# Input parameters \n",
    "mpv_peak_array = np.linspace(min_mpv_peak,max_mpv_peak,mpv_peak_steps)\n",
    "threshold_array = np.linspace(min_threshold,max_threshold,threshold_steps)\n",
    "\n",
    "# Output data\n",
    "best_threshold_array = np.zeros (len(mpv_peak_array))\n",
    "min_deviation_array = np.zeros(len(mpv_peak_array))\n",
    "mpv_and_deviation = np.zeros((len(threshold_array), len(mpv_peak_array)))\n",
    "\n",
    "iteration_peak = 0\n",
    "\n",
    "for peak_value_step in mpv_peak_array:\n",
    "    print (\"\\n------------------------------------------------------------\")\n",
    "    print(\"Simulations for mpv peak voltage %dmV\\n\" %peak_value_step)\n",
    "\n",
    "    iteration = 0\n",
    "    \n",
    "    # Output data for each mpv voltage\n",
    "    mean_values = []\n",
    "    mean_values_with_std = []\n",
    "    std_values = []\n",
    "    total_deviation= np.zeros(len(threshold_array))\n",
    "\n",
    "    \n",
    "    for threshold in threshold_array:\n",
    "        true_signal, estimated_signal, dev_per_BC = simulation (nr_of_channels, ratio_of_channels_to_sample, expected_count, bunch_crossings, threshold, peak_value_step, peak_value_step*guess_mpv_voltage_bias)\n",
    "        \"\"\"Get the total deviation from the total simulated signals vs the expected signals.\n",
    "            Returns both the total deviation as a positive number\"\"\"\n",
    "           \n",
    "        true_signal_sum = true_signal.sum()\n",
    "        if true_signal_sum == 0:\n",
    "            deviation = 0\n",
    "        deviation = abs( estimated_signal.sum() / true_signal_sum -1)\n",
    "        total_deviation[iteration] = deviation\n",
    "        #print(\"\\nDeviation for threshold %f: %f\" %(threshold, total_deviation[iteration]))\n",
    "        \n",
    "        mean_values.append(abs(np.mean(dev_per_BC)))\n",
    "        mean_values_with_std.append(abs(np.mean(dev_per_BC))+np.std(dev_per_BC))\n",
    "        print (\"%.2f threshold - Mean dev: %f\" %(threshold, mean_values[iteration]))\n",
    "        std_values.append(np.std(dev_per_BC))\n",
    "        print (\"                - Std: %f\" %( std_values[iteration]))\n",
    "            \n",
    "        mpv_and_deviation[iteration][iteration_peak] = np.mean(abs(np.mean(dev_per_BC))+np.std(dev_per_BC))\n",
    "        iteration = iteration+1\n",
    "            \n",
    "    best_threshold_array [iteration_peak] = find_best_threshold(mean_values)\n",
    "    min_deviation_array [iteration_peak] = min(mean_values)\n",
    "    print (\"Best threshold for mpv peak voltage %dmV: %fmV\" %(peak_value_step,best_threshold_array[iteration_peak]))\n",
    "    print (\"Minimum deviation for mpv peak voltage %d: %f\" %(peak_value_step, min_deviation_array[iteration_peak]))\n",
    "    print (\"\\n------------------------------------------------------------\") \n",
    "    iteration_peak = iteration_peak+1\n",
    "    \n",
    "hours, rem = divmod(time.time()-start_time, 3600)\n",
    "minutes, seconds = divmod(rem, 60)\n",
    "print(\"Computation done!\\nCPU time: %d hours, %d minutes and %d seconds\" %(hours, minutes,seconds))\n"
   ]
  },
  {
   "cell_type": "markdown",
   "id": "ecological-recruitment",
   "metadata": {},
   "source": [
    "### Save the output variables "
   ]
  },
  {
   "cell_type": "code",
   "execution_count": 92,
   "id": "shaped-basis",
   "metadata": {
    "scrolled": true
   },
   "outputs": [
    {
     "name": "stdout",
     "output_type": "stream",
     "text": [
      "Stored 'total_deviation8' (ndarray)\n",
      "Stored 'mean_values8' (list)\n",
      "Stored 'std_values8' (list)\n",
      "Stored 'mean_values_with_std8' (list)\n"
     ]
    }
   ],
   "source": [
    "total_deviation8 = total_deviation\n",
    "mean_values8 = mean_values\n",
    "std_values8 = std_values\n",
    "mean_values_with_std8 = mean_values_with_std\n",
    "%store total_deviation8 mean_values8 std_values8 mean_values_with_std8"
   ]
  },
  {
   "cell_type": "markdown",
   "id": "periodic-accordance",
   "metadata": {},
   "source": [
    " ## Best threshold to yield lowest deviation \n",
    " #### Graphical estimation of best threshold with regards to deviation of estimated signal from the true signal \n",
    "<ul>\n",
    "    <li>Plots the deviation yielded at each threshold. Use only with one mpv</li>\n",
    "</ul>"
   ]
  },
  {
   "cell_type": "code",
   "execution_count": 15,
   "id": "personal-division",
   "metadata": {
    "scrolled": true
   },
   "outputs": [
    {
     "name": "stdout",
     "output_type": "stream",
     "text": [
      "best threshold: 22.500000\n"
     ]
    },
    {
     "data": {
      "image/png": "[encoded data removed]",
      "text/plain": [
       "<IPython.core.display.Image object>"
      ]
     },
     "metadata": {},
     "output_type": "display_data"
    }
   ],
   "source": [
    "# Determine threshold that yields the lowest deviation \n",
    "best = find_best_threshold(total_deviation)\n",
    "\n",
    "c = TCanvas( 'c1', 'Graph', 200, 10, 700, 500 )\n",
    "#c1.SetLogy()\n",
    "\n",
    "g = TGraph(len(threshold_array), threshold_array.astype(np.double),total_deviation.astype(np.double))\n",
    "g.SetTitle( \"#splitline{Deviation as a function of threshold, mu=%.2f, BC=%d, mpv_voltage=%d mV}{\\n large window 4 times the smaller}\"  %(mu, bunch_crossings, peak_value_step))\n",
    "g.GetXaxis().SetTitle( 'Threshold [mV]' )\n",
    "g.GetYaxis().SetTitle( 'Deviation' )\n",
    "g.GetYaxis().SetRange(0,10);\n",
    "g.SetLineColor(2)\n",
    "g.Draw() \n",
    "c.Draw()"
   ]
  },
  {
   "cell_type": "markdown",
   "id": "wooden-nevada",
   "metadata": {},
   "source": [
    "### Study the effect of the large time window\n",
    "<ul>\n",
    "    <li>Plot the same data but generated with different time windows"
   ]
  },
  {
   "cell_type": "code",
   "execution_count": 93,
   "id": "human-chinese",
   "metadata": {},
   "outputs": [
    {
     "name": "stdout",
     "output_type": "stream",
     "text": [
      "Best threshold: 23.250000\n",
      "Best threshold: 23.750000\n",
      "Best threshold: 23.100000\n",
      "Best threshold: 23.100000\n"
     ]
    },
    {
     "name": "stderr",
     "output_type": "stream",
     "text": [
      "Warning in <TCanvas::Constructor>: Deleting canvas with same name: c1\n"
     ]
    },
    {
     "data": {
      "image/png": "[encoded data removed]",
      "text/plain": [
       "<IPython.core.display.Image object>"
      ]
     },
     "metadata": {},
     "output_type": "display_data"
    }
   ],
   "source": [
    "# Recover data \n",
    "%store -r total_deviation2 total_deviation4 total_deviation6 total_deviation8\n",
    "\n",
    "c = TCanvas( 'c1', 'Graph', 200, 10, 700, 500 )\n",
    "\n",
    "# Multiple graphs\n",
    "g2 = TGraph(len(threshold_array), threshold_array.astype(np.double),total_deviation2.astype(np.double))\n",
    "g2.SetLineColor(2)\n",
    "g2.SetTitle(\"Large window 2 times the smaller\")\n",
    "\n",
    "g4 = TGraph(len(threshold_array), threshold_array.astype(np.double),total_deviation4.astype(np.double))\n",
    "g4.SetLineColor(3)\n",
    "g4.SetTitle(\"Large window 4 times the smaller\")\n",
    "\n",
    "g6 = TGraph(len(threshold_array), threshold_array.astype(np.double),total_deviation6.astype(np.double))\n",
    "g6.SetLineColor(4)\n",
    "g6.SetTitle(\"Large window 6 times the smaller\")\n",
    "\n",
    "g8 = TGraph(len(threshold_array), threshold_array.astype(np.double),total_deviation8.astype(np.double))\n",
    "g8.SetLineColor(4)\n",
    "g8.SetTitle(\"Large window 8 times the smaller\")\n",
    "\n",
    "mg = ROOT.TMultiGraph()\n",
    "mg.Add(g2);\n",
    "mg.Add(g4);\n",
    "#mg.Add(g6,\"\");\n",
    "mg.Add(g8);\n",
    "mg.Draw(\"ALP\");\n",
    "\n",
    "c.BuildLegend()\n",
    "c.Update();\n",
    "c.Modified();\n",
    "c.Draw()\n",
    "\n",
    "best2 = find_best_threshold(total_deviation2)\n",
    "best4 = find_best_threshold(total_deviation4)\n",
    "best6 = find_best_threshold(total_deviation6)\n",
    "best8 = find_best_threshold(total_deviation8)"
   ]
  },
  {
   "cell_type": "markdown",
   "id": "proved-atlanta",
   "metadata": {},
   "source": [
    "## Higher resolution plot with error bars \n",
    "#### Finer search for the best threshold: mean values and corresponding standard deviations\n",
    "Plots three graphs:\n",
    "<ul>\n",
    "    <li>STD values of the deviations yielded at each threshold, that is, the statistical error</li>\n",
    "    <li>The mean values of the deviations centered around zero for each threshold</li>\n",
    "    <li>A corrected plot of the mean values, where they are added with the corresponding standard deviations</li>\n",
    "</ul>"
   ]
  },
  {
   "cell_type": "code",
   "execution_count": 16,
   "id": "frozen-upgrade",
   "metadata": {
    "scrolled": true
   },
   "outputs": [
    {
     "data": {
      "image/png": "[encoded data removed]",
      "text/plain": [
       "<IPython.core.display.Image object>"
      ]
     },
     "metadata": {},
     "output_type": "display_data"
    },
    {
     "data": {
      "image/png": "[encoded data removed]",
      "text/plain": [
       "<IPython.core.display.Image object>"
      ]
     },
     "metadata": {},
     "output_type": "display_data"
    },
    {
     "data": {
      "image/png": "[encoded data removed]",
      "text/plain": [
       "<IPython.core.display.Image object>"
      ]
     },
     "metadata": {},
     "output_type": "display_data"
    }
   ],
   "source": [
    "threshold_error = []\n",
    "mean_rel = []\n",
    "std_rel= []\n",
    "mean_std_rel = []\n",
    "\n",
    "#Calculate relative error for each array\n",
    "for i in range (len(threshold_array)):\n",
    "    threshold_error.append(0)\n",
    "    #multiply by 100 to get relative error \n",
    "    std_rel.append(std_values[i]*100)\n",
    "    mean_rel.append(mean_values[i]*100)\n",
    "    mean_std_rel.append(mean_values_with_std[i]*100)\n",
    "\n",
    "\"\"\"Standard deviation vs threshold plot\"\"\"\n",
    "\n",
    "#create x,y values and corresponding errors\n",
    "n = len(threshold_array);\n",
    "x  = array( 'f', threshold_array )\n",
    "ex = array( 'f', threshold_error)\n",
    "y  = array( 'f', std_rel)\n",
    "ey = array( 'f', threshold_error) \n",
    "\n",
    "std_graph = ROOT.TGraphErrors( n, x, y, ex, ey )\n",
    "c1 = ROOT.TCanvas(\"std over Threshold\", \"Difference in counts\", 1000, 600)\n",
    "std_graph.SetTitle(\"STD values from true signal for mu=%.2f, BC=%d, mpv voltage=%d mV;Threshold [mV];Rel. Deviation; Z axis title\" %(mu, bunch_crossings, peak_value_step))\n",
    "std_graph.SetMarkerStyle(2)\n",
    "std_graph.SetLineColor(ROOT.kAzure-9)\n",
    "std_graph.SetFillColor(ROOT.kAzure-14)\n",
    "std_graph.Draw()\n",
    "#c1.SetLogy()\n",
    "c1.Draw()\n",
    "\n",
    "\n",
    "\"\"\"Mean value vs threshold plot\"\"\"\n",
    "y  = array( 'f', mean_rel)\n",
    "ey = array( 'f', std_rel) \n",
    "deviation_graph = ROOT.TGraphErrors( n, x, y, ex, ey )\n",
    "c2 = ROOT.TCanvas(\"mean canvas\", \"\", 1000, 600)\n",
    "deviation_graph.SetTitle(\"Mean value of deviation from true signal for mu=%.2f, BC=%d, mpv voltage=%d mV;Threshold [mV];Rel. Deviation; Z axis title\" %(mu, bunch_crossings, peak_value_step))\n",
    "deviation_graph.SetMarkerStyle(21)\n",
    "deviation_graph.SetLineColor(ROOT.kAzure-9)\n",
    "deviation_graph.SetFillColor(ROOT.kAzure-14)\n",
    "deviation_graph.Draw()\n",
    "#c2.SetLogy()\n",
    "c2.Draw()\n",
    "\n",
    "\n",
    "\"\"\"Mean+std vs threshold plot\"\"\"\n",
    "y  = array( 'f', mean_std_rel)\n",
    "ey = array( 'f', std_rel) \n",
    "mean_std_graph = ROOT.TGraphErrors( n, x, y, ex, ey )\n",
    "c3 = ROOT.TCanvas(\"mean_std\", \"Difference in counts\", 1000, 600)\n",
    "mean_std_graph.SetTitle(\"Mean values of deviation from true signal for mu=%.2f, BC=%d, mpv voltage=%d mV;Threshold [mV];Rel. Deviation; Z axis title\" %(mu, bunch_crossings, peak_value_step))\n",
    "mean_std_graph.SetMarkerStyle(21)\n",
    "mean_std_graph.SetLineColor(ROOT.kAzure-9)\n",
    "mean_std_graph.SetFillColor(ROOT.kAzure-14)\n",
    "mean_std_graph.Draw()\n",
    "#c3.SetLogy()\n",
    "c3.Draw()"
   ]
  },
  {
   "cell_type": "markdown",
   "id": "light-immune",
   "metadata": {},
   "source": [
    "### Multigraph for standard deviations depending on size of large time window"
   ]
  },
  {
   "cell_type": "code",
   "execution_count": 98,
   "id": "meaningful-haiti",
   "metadata": {},
   "outputs": [
    {
     "name": "stderr",
     "output_type": "stream",
     "text": [
      "Warning in <TCanvas::Constructor>: Deleting canvas with same name: multigraph std\n"
     ]
    },
    {
     "data": {
      "image/png": "[encoded data removed]",
      "text/plain": [
       "<IPython.core.display.Image object>"
      ]
     },
     "metadata": {},
     "output_type": "display_data"
    }
   ],
   "source": [
    "# Restore old variables\n",
    "%store -r std_values2 std_values4 std_values6 std_values8\n",
    "\n",
    "c1 = ROOT.TCanvas(\"multigraph std\",\"f\", 1000, 600)\n",
    "\n",
    "#create x,y values and corresponding errors\n",
    "n = len(threshold_array);\n",
    "x  = array( 'f', threshold_array )\n",
    "ex = array( 'f', threshold_error)\n",
    "ey = array( 'f', threshold_error) \n",
    "y2  = array( 'f', std_values2)\n",
    "y4  = array( 'f', std_values4)\n",
    "y6  = array( 'f', std_values6)\n",
    "y8  = array( 'f', std_values8)\n",
    "\n",
    "g2 = ROOT.TGraphErrors(n, x, y2, ex, ey)\n",
    "g2.SetTitle(\"TW = 2\")\n",
    "g2.SetMarkerStyle(2)\n",
    "g2.SetLineColor(2)\n",
    "\n",
    "g4 = ROOT.TGraphErrors(n, x, y4, ex, ey)\n",
    "g4.SetTitle(\"TW = 4\")\n",
    "g4.SetMarkerStyle(2)\n",
    "g4.SetLineColor(3)\n",
    "\n",
    "g6 = ROOT.TGraphErrors(n, x, y6, ex, ey)\n",
    "g6.SetTitle(\"TW = 6\")\n",
    "g6.SetMarkerStyle(2)\n",
    "g6.SetLineColor(4)\n",
    "\n",
    "g8 = ROOT.TGraphErrors(n, x, y8, ex, ey)\n",
    "g8.SetTitle(\"TW = 8\")\n",
    "g8.SetMarkerStyle(2)\n",
    "g8.SetLineColor(6)\n",
    "\n",
    "mg = ROOT.TMultiGraph()\n",
    "mg.Add(g2);\n",
    "mg.Add(g4);\n",
    "mg.Add(g6,\"\");\n",
    "mg.Add(g8);\n",
    "mg.SetTitle(\"Statistical error in deviations for different large TW\")\n",
    "mg.GetXaxis().SetTitle( 'Threshold [mV]' )\n",
    "mg.GetYaxis().SetTitle( 'Relative deviation not %' )\n",
    "mg.Draw(\"ALP\");\n",
    "\n",
    "c1.BuildLegend()\n",
    "c1.Update();\n",
    "c1.Modified();\n",
    "\n",
    "#c1.SetLogy()\n",
    "c1.Draw()"
   ]
  },
  {
   "cell_type": "markdown",
   "id": "cognitive-classics",
   "metadata": {},
   "source": [
    "## Study of radiation damage on sensors\n",
    "#### With time, the sensors get damaged by radiation and this is reflected on a lower SNR (from 20 to only 5). We can express this by setting lower values of the mpv of the peak voltage from 100mV to a set minimum and see how the lowest deviations and corresponding thresholds change with the worsening of the sensors"
   ]
  },
  {
   "cell_type": "markdown",
   "id": "worst-investing",
   "metadata": {},
   "source": [
    "#### Plot the best threshold and lowest possible deviations for each mpv\n",
    "    "
   ]
  },
  {
   "cell_type": "code",
   "execution_count": null,
   "id": "egyptian-implement",
   "metadata": {},
   "outputs": [],
   "source": [
    "plt.scatter(mpv_peak_array, best_threshold_array, marker = \"x\", color='red')\n",
    "plt.title(\"Best threshold as a function of sensor quality, mu=%f \\n BC=%d\" %(mu, bunch_crossings))\n",
    "plt.xlabel(\"mpv Voltage [mV]\")\n",
    "plt.ylabel(\"Best threshold [mV]\")\n",
    "plt.show()\n",
    "\n",
    "plt.scatter(mpv_peak_array, min_deviation_array*100, marker = \"x\", color='red')\n",
    "plt.title(\"Deviation as a function of sensor quality, mu=%.f \\n BC=%d\" %(mu, bunch_crossings))\n",
    "plt.xlabel(\"mpv Voltage [mV]\")\n",
    "plt.ylabel(\"Smallest deviation\")\n",
    "plt.show()"
   ]
  },
  {
   "cell_type": "markdown",
   "id": "stone-certificate",
   "metadata": {},
   "source": [
    "#### Study the radiation damage by plotting the deviations and thresholds for different mpv voltages (100mV when the sensors are new) in 3d plots\n"
   ]
  },
  {
   "cell_type": "code",
   "execution_count": null,
   "id": "backed-oxide",
   "metadata": {
    "scrolled": true
   },
   "outputs": [],
   "source": [
    "\"\"\"3D scatter plot with best thresholds and minimal deviation for that threshold\"\"\"\n",
    "x = mpv_peak_array\n",
    "y = best_threshold_array\n",
    "z = min_deviation_array*100\n",
    "fig = plt.figure(figsize=(5,5))\n",
    "\n",
    "ax = fig.add_subplot(111, projection='3d')\n",
    "ax.scatter(x, y ,z)\n",
    "pnt3d=ax.scatter(x,y,z,c=z)\n",
    "ax.set_title('Best threshold and smallest deviation for each mpv')\n",
    "ax.set_zlabel('Smallest Relative Deviation per mpv')\n",
    "ax.set_xlabel('Best threshold [mV]')\n",
    "ax.set_ylabel('Mpv voltage[mV]')\n",
    "# Add a color bar which maps values to colors.\n",
    "cbaxes = fig.add_axes([1, 0.2, 0.05, 0.6]) \n",
    "c = plt.colorbar(pnt3d, cax = cbaxes) \n",
    "plt.show()\n",
    "\n",
    "\n",
    "\"\"\"3D plot of deviation as a function of mpv and threshold\"\"\"\n",
    "x = mpv_peak_array\n",
    "y = threshold_array\n",
    "z = np.array(mpv_and_deviation)*100\n",
    "\n",
    "xv, yv = np.meshgrid(x, y)\n",
    "fig = plt.figure(figsize=(12,12))\n",
    "ax = fig.add_subplot(111, projection='3d')\n",
    "plot3d=ax.plot_surface(xv,yv,z,cmap='afmhot',)\n",
    "ax.set_title('Effects of radiation damage on deviation from true signal')\n",
    "ax.set_zlabel('Relative Deviation')\n",
    "ax.set_xlabel('Most probable peak voltage [mV]')\n",
    "ax.set_ylabel('Threshold [mV]')\n",
    "ax.zaxis.set_major_locator(LinearLocator(10))\n",
    "ax.zaxis.set_major_formatter('{x:.02f}')\n",
    "cbaxes = fig.add_axes([0.92, 0.2, 0.05, 0.6]) \n",
    "cb = plt.colorbar(plot3d, cax = cbaxes)  \n",
    "plt.show()"
   ]
  },
  {
   "cell_type": "markdown",
   "id": "clear-radiation",
   "metadata": {},
   "source": [
    "#### Contour plot to find the \"valley\" of best thresholds with the worsening of the sensors\n"
   ]
  },
  {
   "cell_type": "code",
   "execution_count": null,
   "id": "russian-split",
   "metadata": {},
   "outputs": [],
   "source": [
    "fig = plt.figure(figsize=(5,5))\n",
    "plt.contour(x, y, z, 30, cmap='RdGy');\n",
    "plt.title(\"Thresholds and deviations for each mpv\")\n",
    "plt.xlabel(\"Mpv Voltage [mV]\")\n",
    "plt.ylabel(\"Threshold [mV]\")\n",
    "plt.colorbar();"
   ]
  },
  {
   "cell_type": "code",
   "execution_count": null,
   "id": "julian-opinion",
   "metadata": {
    "scrolled": true
   },
   "outputs": [],
   "source": [
    "x = mpv_peak_array\n",
    "y = threshold_array\n",
    "z = np.array(mpv_and_deviation)*100\n",
    "\n",
    "xv, yv = np.meshgrid(x, y)\n",
    "fig = plt.figure(figsize=(12,12))\n",
    "ax = fig.add_subplot(111, projection='3d')\n",
    "plot3d=ax.plot_surface(xv,yv,z,cmap='afmhot',)\n",
    "ax.set_title('Effects of radiation damage on deviation from true signal')\n",
    "ax.set_zlabel('Deviation')\n",
    "ax.set_xlabel('Most probable peak voltage [mV]')\n",
    "ax.set_ylabel('Threshold [mV]')\n",
    "# Customize the z axis.\n",
    "#ax.set_zlim(0, 0.5)\n",
    "ax.zaxis.set_major_locator(LinearLocator(10))\n",
    "# A StrMethodFormatter is used automatically\n",
    "ax.zaxis.set_major_formatter('{x:.02f}')\n",
    "\n",
    "# Add a color bar which maps values to colors.\n",
    "cbaxes = fig.add_axes([0.9, 0.2, 0.05, 0.6]) \n",
    "cb = plt.colorbar(plot3d, cax = cbaxes)  \n",
    "plt.show()"
   ]
  },
  {
   "cell_type": "markdown",
   "id": "indirect-england",
   "metadata": {},
   "source": [
    "snr = 20 in the beginning\n",
    "\n",
    "snr = 5 later \n",
    "\n",
    "large time window multiple of 3.125\n",
    "\n",
    "todo later: check non-linear approximation of nr of particles vs mu \n",
    "\n"
   ]
  }
 ],
 "metadata": {
  "kernelspec": {
   "display_name": "Python 3",
   "language": "python",
   "name": "python3"
  },
  "language_info": {
   "codemirror_mode": {
    "name": "ipython",
    "version": 3
   },
   "file_extension": ".py",
   "mimetype": "text/x-python",
   "name": "python",
   "nbconvert_exporter": "python",
   "pygments_lexer": "ipython3",
   "version": "3.8.5"
  }
 },
 "nbformat": 4,
 "nbformat_minor": 5
}
