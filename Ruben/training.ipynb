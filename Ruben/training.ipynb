{
 "cells": [
  {
   "cell_type": "code",
   "execution_count": 1,
   "id": "competent-coast",
   "metadata": {},
   "outputs": [
    {
     "name": "stdout",
     "output_type": "stream",
     "text": [
      "Welcome to JupyROOT 6.22/08\n",
      ">>> Extract the training and testing events for signal from the SMHiggsToZZTo4L.root dataset.\n",
      ">>> Extract the training and testing events for background from the ZZTo2e2mu.root dataset.\n"
     ]
    }
   ],
   "source": [
    "import ROOT\n",
    " \n",
    "def filter_events(df):\n",
    "    \"\"\"\n",
    "    Reduce initial dataset to only events which shall be used for training\n",
    "    \"\"\"\n",
    "    return df.Filter(\"nElectron>=2 && nMuon>=2\", \"At least two electrons and two muons\")\n",
    " \n",
    "def define_variables(df):\n",
    "    \"\"\"\n",
    "    Define the variables which shall be used for training\n",
    "    \"\"\"\n",
    "    return df.Define(\"Muon_pt_1\", \"Muon_pt[0]\")\\\n",
    "             .Define(\"Muon_pt_2\", \"Muon_pt[1]\")\\\n",
    "             .Define(\"Electron_pt_1\", \"Electron_pt[0]\")\\\n",
    "             .Define(\"Electron_pt_2\", \"Electron_pt[1]\")\n",
    " \n",
    "variables = [\"Muon_pt_1\", \"Muon_pt_2\", \"Electron_pt_1\", \"Electron_pt_2\"]\n",
    " \n",
    "if __name__ == \"__main__\":\n",
    "    for filename, label in [[\"SMHiggsToZZTo4L.root\", \"signal\"], [\"ZZTo2e2mu.root\", \"background\"]]:\n",
    "        print(\">>> Extract the training and testing events for {} from the {} dataset.\".format(\n",
    "            label, filename))\n",
    " \n",
    "        # Load dataset, filter the required events and define the training variables\n",
    "        filepath = \"root://eospublic.cern.ch//eos/root-eos/cms_opendata_2012_nanoaod/\" + filename\n",
    "        df = ROOT.RDataFrame(\"Events\", filepath)\n",
    "        df = filter_events(df)\n",
    "        df = define_variables(df)\n",
    " \n",
    "        # Book cutflow report\n",
    "        report = df.Report()\n",
    " \n",
    "        # Split dataset by event number for training and testing\n",
    "        columns = ROOT.std.vector[\"string\"](variables)\n",
    "        df.Filter(\"event % 2 == 0\", \"Select events with even event number for training\")\\\n",
    "          .Snapshot(\"Events\", \"train_\" + label + \".root\", columns)\n",
    "        df.Filter(\"event % 2 == 1\", \"Select events with odd event number for training\")\\\n",
    "          .Snapshot(\"Events\", \"test_\" + label + \".root\", columns)\n",
    " \n",
    "        # Print cutflow report\n",
    "        report.Print()"
   ]
  },
  {
   "cell_type": "code",
   "execution_count": 2,
   "id": "mexican-empire",
   "metadata": {},
   "outputs": [
    {
     "name": "stdout",
     "output_type": "stream",
     "text": [
      "Requirement already satisfied: xgboost in /usr/local/lib/python3.8/dist-packages (1.4.2)\n",
      "Requirement already satisfied: numpy in /usr/lib/python3/dist-packages (from xgboost) (1.17.4)\n",
      "Requirement already satisfied: scipy in /usr/local/lib/python3.8/dist-packages (from xgboost) (1.6.2)\n",
      "\u001b[33mWARNING: You are using pip version 21.0.1; however, version 21.2.4 is available.\n",
      "You should consider upgrading via the '/usr/bin/python3 -m pip install --upgrade pip' command.\u001b[0m\n",
      "Requirement already satisfied: sklearn in /usr/local/lib/python3.8/dist-packages (0.0)\n",
      "Requirement already satisfied: scikit-learn in /usr/local/lib/python3.8/dist-packages (from sklearn) (0.24.2)\n",
      "Requirement already satisfied: threadpoolctl>=2.0.0 in /usr/local/lib/python3.8/dist-packages (from scikit-learn->sklearn) (2.2.0)\n",
      "Requirement already satisfied: scipy>=0.19.1 in /usr/local/lib/python3.8/dist-packages (from scikit-learn->sklearn) (1.6.2)\n",
      "Requirement already satisfied: joblib>=0.11 in /usr/local/lib/python3.8/dist-packages (from scikit-learn->sklearn) (1.0.1)\n",
      "Requirement already satisfied: numpy>=1.13.3 in /usr/lib/python3/dist-packages (from scikit-learn->sklearn) (1.17.4)\n",
      "\u001b[33mWARNING: You are using pip version 21.0.1; however, version 21.2.4 is available.\n",
      "You should consider upgrading via the '/usr/bin/python3 -m pip install --upgrade pip' command.\u001b[0m\n"
     ]
    }
   ],
   "source": [
    "import ROOT\n",
    "import numpy as np\n",
    "import pickle\n",
    "!pip install xgboost \n",
    "!pip install sklearn "
   ]
  },
  {
   "cell_type": "code",
   "execution_count": 4,
   "id": "found-characterization",
   "metadata": {},
   "outputs": [
    {
     "name": "stdout",
     "output_type": "stream",
     "text": [
      "[13:34:15] WARNING: ../src/learner.cc:1095: Starting in XGBoost 1.3.0, the default evaluation metric used with the objective 'binary:logistic' was changed from 'error' to 'logloss'. Explicitly set eval_metric if you'd like to restore the old behavior.\n"
     ]
    }
   ],
   "source": [
    "\n",
    "def load_data(signal_filename, background_filename):\n",
    "    # Read data from ROOT files\n",
    "    data_sig = ROOT.RDataFrame(\"Events\", signal_filename).AsNumpy()\n",
    "    data_bkg = ROOT.RDataFrame(\"Events\", background_filename).AsNumpy()\n",
    "\n",
    "    # Convert inputs to format readable by machine learning tools\n",
    "    x_sig = np.vstack([data_sig[var] for var in variables]).T\n",
    "    x_bkg = np.vstack([data_bkg[var] for var in variables]).T\n",
    "    x = np.vstack([x_sig, x_bkg])\n",
    "\n",
    "    # Create labels\n",
    "    num_sig = x_sig.shape[0]\n",
    "    num_bkg = x_bkg.shape[0]\n",
    "    y = np.hstack([np.ones(num_sig), np.zeros(num_bkg)])\n",
    "\n",
    "    # Compute weights balancing both classes\n",
    "    num_all = num_sig + num_bkg\n",
    "    w = np.hstack([np.ones(num_sig) * num_all / num_sig, np.ones(num_bkg) * num_all / num_bkg])\n",
    "\n",
    "    return x, y, w\n",
    "\n",
    "if __name__ == \"__main__\":\n",
    "    # Load data\n",
    "    x, y, w = load_data(\"train_signal.root\", \"train_background.root\")\n",
    "\n",
    "    # Fit xgboost model\n",
    "    from xgboost import XGBClassifier\n",
    "    bdt = XGBClassifier(max_depth=3, n_estimators=500, use_label_encoder=False)\n",
    "    bdt.fit(x, y, w)\n",
    "\n",
    "    # Save model in TMVA format\n",
    "    ROOT.TMVA.Experimental.SaveXGBoost(bdt, \"myBDT\", \"tmva101.root\", num_inputs=len(variables))\n"
   ]
  },
  {
   "cell_type": "code",
   "execution_count": 7,
   "id": "exposed-theater",
   "metadata": {},
   "outputs": [
    {
     "data": {
      "image/png": "[encoded data removed]",
      "text/plain": [
       "<IPython.core.display.Image object>"
      ]
     },
     "metadata": {},
     "output_type": "display_data"
    }
   ],
   "source": [
    "import ROOT\n",
    "import pickle\n",
    "\n",
    "# Load data\n",
    "x, y_true, w = load_data(\"test_signal.root\", \"test_background.root\")\n",
    "\n",
    "# Load trained model\n",
    "bdt = ROOT.TMVA.Experimental.RBDT[\"\"](\"myBDT\", \"tmva101.root\")\n",
    "\n",
    "# Make prediction\n",
    "y_pred = bdt.Compute(x)\n",
    "\n",
    "# Compute ROC using sklearn\n",
    "from sklearn.metrics import roc_curve, auc\n",
    "fpr, tpr, _ = roc_curve(y_true, y_pred, sample_weight=w)\n",
    "score = auc(fpr, tpr)\n",
    "\n",
    "# Plot ROC\n",
    "c = ROOT.TCanvas(\"roc\", \"\", 600, 600)\n",
    "g = ROOT.TGraph(len(fpr), fpr, tpr)\n",
    "g.SetTitle(\"AUC = {:.2f}\".format(score))\n",
    "g.SetLineWidth(3)\n",
    "g.SetLineColor(ROOT.kRed)\n",
    "g.Draw(\"AC\")\n",
    "g.GetXaxis().SetRangeUser(0, 1)\n",
    "g.GetYaxis().SetRangeUser(0, 1)\n",
    "g.GetXaxis().SetTitle(\"False-positive rate\")\n",
    "g.GetYaxis().SetTitle(\"True-positive rate\")\n",
    "c.Draw()"
   ]
  }
 ],
 "metadata": {
  "kernelspec": {
   "display_name": "Python 3",
   "language": "python",
   "name": "python3"
  },
  "language_info": {
   "codemirror_mode": {
    "name": "ipython",
    "version": 3
   },
   "file_extension": ".py",
   "mimetype": "text/x-python",
   "name": "python",
   "nbconvert_exporter": "python",
   "pygments_lexer": "ipython3",
   "version": "3.8.5"
  }
 },
 "nbformat": 4,
 "nbformat_minor": 5
}
