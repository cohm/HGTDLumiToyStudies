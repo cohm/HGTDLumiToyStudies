{
 "cells": [
  {
   "cell_type": "code",
   "execution_count": 132,
   "id": "latin-anderson",
   "metadata": {},
   "outputs": [],
   "source": [
    "import ROOT\n",
    "import numpy as np\n",
    "import time\n",
    "import math\n",
    "import matplotlib.pyplot as plt\n",
    "\n",
    "nr_of_channels = int(3.6 * 1e6)\n",
    "channels_per_module = int(15*30)\n",
    "total_modules = int(nr_of_channels/channels_per_module)\n",
    "threshold = 20\n"
   ]
  },
  {
   "cell_type": "code",
   "execution_count": 140,
   "id": "consolidated-steering",
   "metadata": {},
   "outputs": [
    {
     "name": "stdout",
     "output_type": "stream",
     "text": [
      "Average triggered channels: 114.016471\n",
      "Number of noise above threshold in large W: 139.000000\n",
      "Exact number of noise activated channels: 11.000000\n",
      "Estimated number of noise activated channels: 18.285714\n"
     ]
    }
   ],
   "source": [
    "global_counter = 0\n",
    "low = 0\n",
    "high = 1000\n",
    "noise = ROOT.TF1(\"noise_gauss\", \"TMath::Gaus(x, 0, 5)\", low, high)\n",
    "\n",
    "#integrate normal dist. to get exact prob. above threshold and multiply with channel nr to get avg. of triggered channels\n",
    "mean = nr_of_channels * noise.Integral(threshold, high)/noise.Integral(low, high)/2 \n",
    "print (\"Average triggered channels: %f\" % mean)\n",
    "#self._prng = ROOT.TRandom3(time.time_ns())\n",
    "global_counter += 1\n",
    "prng = ROOT.TRandom3(int(time.time()) + global_counter)\n",
    "\n",
    "\n",
    "\"\"\"The first return value is the exact number of noise activated channels in the small window and\n",
    "    the second return value is the estimated number of noise activated channels in the small window. (estimated from large window)\n",
    "    (both results are in small window, both results are noise above threshold)\n",
    "    noise_exact, noise_est = noise.generate()\"\"\"\n",
    "# Large time window 25ns\n",
    "# Small time window 3.125ns\n",
    "\n",
    "total = prng.Poisson(mean) # number of noise above threshold in large window in this run.\n",
    "print (\"Number of noise above threshold in large W: %f\" %total)\n",
    "narrow_exact = 0\n",
    "if total <= 5:\n",
    "    for i in range(total):\n",
    "        if prng.Uniform(25) < 3.125:\n",
    "            narrow_exact += 1\n",
    "else:\n",
    "    narrow_exact = (np.random.rand(total) < 0.125).sum()  # 3.125/25 = 0.125\n",
    "\n",
    "\n",
    "noise_per_time = (total - narrow_exact)/(25 - 3.125)\n",
    "estimate = 3.125 * noise_per_time\n",
    "\n",
    "print (\"Exact number of noise activated channels: %f\" % narrow_exact)\n",
    "print (\"Estimated number of noise activated channels: %f\" % estimate)\n",
    "\n",
    "\n"
   ]
  },
  {
   "cell_type": "code",
   "execution_count": 129,
   "id": "desperate-wages",
   "metadata": {},
   "outputs": [
    {
     "name": "stdout",
     "output_type": "stream",
     "text": [
      "Landau dist. 1: 329.403465\n",
      "Landau dist. 2: 118.949071\n",
      "Landau dist. 3: 144.071569\n",
      "Landau dist. 4: 56.463511\n",
      "Landau dist. 5: 278.640019\n",
      "Landau dist. 6: 585.142136\n",
      "Landau dist. 7: 206.726909\n",
      "Landau dist. 8: 196.422489\n",
      "Landau dist. 9: 141.895962\n",
      "Landau dist. 10: 149.421850\n",
      "Signal count: 29\n",
      "Activated channels: 23\n"
     ]
    },
    {
     "name": "stderr",
     "output_type": "stream",
     "text": [
      "Warning in <TCanvas::Constructor>: Deleting canvas with same name: Signal_Landau\n"
     ]
    },
    {
     "data": {
      "image/png": "[encoded data removed]",
      "text/plain": [
       "<IPython.core.display.Image object>"
      ]
     },
     "metadata": {},
     "output_type": "display_data"
    }
   ],
   "source": [
    "exected_count = 30 #expected number of particles reaching the detector \n",
    "real_expected_voltage = 100\n",
    "guess_expected_voltage = 100\n",
    "expected_count = 30\n",
    "global_counter = 0\n",
    "low = -100\n",
    "high = 1000\n",
    "threshold = threshold\n",
    "expected_voltage = real_expected_voltage\n",
    "signal_func = ROOT.TF1(\"sth\", \"TMath::Landau(x, %f, %f)\" % (guess_expected_voltage, guess_expected_voltage/4), low, high)\n",
    "\n",
    "fraction_above = signal_func.Integral(threshold, high)/signal_func.Integral(low, high)\n",
    "#self._prng = ROOT.TRandom3(time.time_ns())\n",
    "global_counter += 1\n",
    "prng = ROOT.TRandom3(int(time.time()) + global_counter)\n",
    "\n",
    "c = ROOT.TCanvas (\"Signal_Landau\", \"Landau\", 500, 300)\n",
    "signal_func.Draw()\n",
    "c.Draw()\n",
    "\"\"\"The paramater is the expected number of particles that reach the detector.\n",
    "    The first return value is the number of particles that reached the detector and\n",
    "    the second return value is the number of activated channels.\n",
    "    signal_real_total, signal_above = signal.generate(30)\"\"\"\n",
    "\n",
    "signal_count = prng.Poisson(expected_count)\n",
    "\n",
    "for i in range (10):\n",
    "    print (\"Landau dist. %d: %f\" %(i+1, prng.Landau(expected_voltage, sigma)))\n",
    "    \n",
    "above_threshold_count = 0\n",
    "sigma = expected_voltage/4\n",
    "for i in range(signal_count):\n",
    "    if prng.Landau(expected_voltage, sigma) > threshold: # 1/4 is just the refernce 25/100\n",
    "        above_threshold_count += 1\n",
    "#return signal_count, above_threshold_count\n",
    "\n",
    "print(\"Signal count: %d\" %signal_count)\n",
    "print(\"Activated channels: %d\" %above_threshold_count)"
   ]
  }
 ],
 "metadata": {
  "kernelspec": {
   "display_name": "Python 3",
   "language": "python",
   "name": "python3"
  },
  "language_info": {
   "codemirror_mode": {
    "name": "ipython",
    "version": 3
   },
   "file_extension": ".py",
   "mimetype": "text/x-python",
   "name": "python",
   "nbconvert_exporter": "python",
   "pygments_lexer": "ipython3",
   "version": "3.8.5"
  }
 },
 "nbformat": 4,
 "nbformat_minor": 5
}
