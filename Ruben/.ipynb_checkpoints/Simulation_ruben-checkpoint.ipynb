{
 "cells": [
  {
   "cell_type": "code",
   "execution_count": 2,
   "id": "controlling-caution",
   "metadata": {},
   "outputs": [
    {
     "name": "stdout",
     "output_type": "stream",
     "text": [
      "Welcome to JupyROOT 6.22/08\n"
     ]
    }
   ],
   "source": [
    "import ROOT\n",
    "import numpy as np\n",
    "import time\n",
    "import math\n",
    "import matplotlib.pyplot as plt"
   ]
  },
  {
   "cell_type": "markdown",
   "id": "dental-joint",
   "metadata": {},
   "source": [
    "### Constants"
   ]
  },
  {
   "cell_type": "code",
   "execution_count": 3,
   "id": "excellent-cylinder",
   "metadata": {},
   "outputs": [],
   "source": [
    "nr_of_channels = int(3.6 * 1e6)\n",
    "channels_per_module = int(15*30)\n",
    "total_modules = int(nr_of_channels/channels_per_module)\n",
    "global_counter = 0"
   ]
  },
  {
   "cell_type": "markdown",
   "id": "august-converter",
   "metadata": {},
   "source": [
    "### Noise Generator Class"
   ]
  },
  {
   "cell_type": "code",
   "execution_count": 4,
   "id": "laughing-kidney",
   "metadata": {},
   "outputs": [],
   "source": [
    "class noise_generator:\n",
    "    def __init__(self, threshold, channel_count): \n",
    "        global global_counter\n",
    "        low = 0\n",
    "        high = 1000\n",
    "        noise = ROOT.TF1(\"noise_gauss\", \"TMath::Gaus(x, 0, 5)\", low, high)\n",
    "        \n",
    "        \"\"\"Why divide with 2?? Why do we need a avg. value?\"\"\"\n",
    "        #integrate normal dist. to get exact prob. above threshold and multiply with channel nr to get avg.\n",
    "        self._mean = channel_count * noise.Integral(threshold, high)/noise.Integral(low, high)/2 \n",
    "        #self._prng = ROOT.TRandom3(time.time_ns())\n",
    "        global_counter += 1\n",
    "        self._prng = ROOT.TRandom3(int(time.time()) + global_counter)\n",
    "\n",
    "    def generate(self):\n",
    "        \"\"\"The first return value is the exact number of noise activated channels in the small window and\n",
    "            the second return value is the estimated number of noise activated channels in the small window. (estimated from large window)\n",
    "            (both results are in small window, both results are noise above threshold)\n",
    "            noise_exact, noise_est = noise.generate()\"\"\"\n",
    "        # Large time window 25ns\n",
    "        # Small time window 3.125ns\n",
    "        prng = self._prng\n",
    "        total = prng.Poisson(self._mean) # number of noise above threshold in large window in this run.\n",
    "        narrow_exact = 0\n",
    "        if total <= 5:\n",
    "            for i in range(total):\n",
    "                if prng.Uniform(25) < 3.125:\n",
    "                    narrow_exact += 1\n",
    "        else:\n",
    "            # faster to use numpy\n",
    "            #narrow_exact = (np.random.uniform(low=0, high=25, size=total) < 3.125).sum()\n",
    "            narrow_exact = (np.random.rand(total) < 0.125).sum()  # 3.125/25 = 0.125\n",
    "        \n",
    "        noise_per_time = (total - narrow_exact)/(25 - 3.125)\n",
    "        estimate = 3.125 * noise_per_time\n",
    "        return narrow_exact, estimate\n",
    "\n",
    "\n"
   ]
  },
  {
   "cell_type": "markdown",
   "id": "advanced-flower",
   "metadata": {},
   "source": [
    " ### Signal Generator Class\n",
    " \n"
   ]
  },
  {
   "cell_type": "code",
   "execution_count": 5,
   "id": "decreased-appliance",
   "metadata": {},
   "outputs": [],
   "source": [
    "class signal_generator:\n",
    "    def __init__(self, threshold, real_expected_voltage, guess_expected_voltage): # expected_voltage = expected peak voltage  (mu)\n",
    "        global global_counter\n",
    "        low = -100\n",
    "        high = 1000\n",
    "        self._threshold = threshold\n",
    "        self._expected_voltage = real_expected_voltage\n",
    "        signal_func = ROOT.TF1(\"sth\", \"TMath::Landau(x, %f, %f)\" % (guess_expected_voltage, guess_expected_voltage/4), low, high)\n",
    "        self.fraction_above = signal_func.Integral(threshold, high)/signal_func.Integral(low, high)\n",
    "        #self._prng = ROOT.TRandom3(time.time_ns())\n",
    "        global_counter += 1\n",
    "        self._prng = ROOT.TRandom3(int(time.time()) + global_counter)\n",
    "    \n",
    "    def generate(self, expected_count):\n",
    "        \"\"\"The paramater is the expected number of particles that reach the detector.\n",
    "            The first return value is the number of particles that reached the detector and\n",
    "            the second return value is the number of activated channels.\n",
    "            signal_real_total, signal_above = signal.generate(30)\"\"\"\n",
    "        prng = self._prng\n",
    "        expected_voltage = self._expected_voltage\n",
    "        threshold = self._threshold\n",
    "        \n",
    "        signal_count = prng.Poisson(expected_count)\n",
    "        above_threshold_count = 0\n",
    "        sigma = expected_voltage/4\n",
    "        for i in range(signal_count):\n",
    "            if prng.Landau(expected_voltage, sigma) > threshold: # 1/4 is just the refernce 25/100\n",
    "                above_threshold_count += 1\n",
    "        return signal_count, above_threshold_count\n",
    "    "
   ]
  },
  {
   "cell_type": "markdown",
   "id": "damaged-marsh",
   "metadata": {},
   "source": [
    "## Simulation"
   ]
  },
  {
   "cell_type": "code",
   "execution_count": 27,
   "id": "absent-coating",
   "metadata": {},
   "outputs": [
    {
     "name": "stdout",
     "output_type": "stream",
     "text": [
      "1 - Signal and Noise activated channels: 34183\n",
      "Exact number of signal activated channels: 15203.000000\n",
      "Estimated number of signal activated channels: 15274.285720\n",
      "2 - Signal and Noise activated channels: 34146\n",
      "Exact number of signal activated channels: 15237.000000\n",
      "Estimated number of signal activated channels: 15288.142863\n",
      "3 - Signal and Noise activated channels: 33938\n",
      "Exact number of signal activated channels: 14934.000000\n",
      "Estimated number of signal activated channels: 15086.000006\n",
      "4 - Signal and Noise activated channels: 33673\n",
      "Exact number of signal activated channels: 14880.000000\n",
      "Estimated number of signal activated channels: 14696.857148\n",
      "5 - Signal and Noise activated channels: 34292\n",
      "Exact number of signal activated channels: 15063.000000\n",
      "Estimated number of signal activated channels: 15345.000006\n",
      "6 - Signal and Noise activated channels: 34032\n",
      "Exact number of signal activated channels: 15060.000000\n",
      "Estimated number of signal activated channels: 15136.714291\n",
      "7 - Signal and Noise activated channels: 33763\n",
      "Exact number of signal activated channels: 14986.000000\n",
      "Estimated number of signal activated channels: 14809.142863\n",
      "8 - Signal and Noise activated channels: 34117\n",
      "Exact number of signal activated channels: 14985.000000\n",
      "Estimated number of signal activated channels: 15188.285720\n",
      "9 - Signal and Noise activated channels: 34079\n",
      "Exact number of signal activated channels: 14999.000000\n",
      "Estimated number of signal activated channels: 15160.285720\n",
      "10 - Signal and Noise activated channels: 33561\n",
      "Exact number of signal activated channels: 14915.000000\n",
      "Estimated number of signal activated channels: 14673.857148\n"
     ]
    },
    {
     "data": {
      "text/plain": [
       "0.002639200102514616"
      ]
     },
     "execution_count": 27,
     "metadata": {},
     "output_type": "execute_result"
    }
   ],
   "source": [
    "\"\"\"Parameters for the simulation\"\"\"\n",
    "threshold = 1\n",
    "real_signal_mu = 100 #mV\n",
    "guess_signal_mu = 100 #mv\n",
    "expected_count = 15*1e3 #expected number of particles reaching the HGTD for mu=200\n",
    "bunch_crossings= 10\n",
    "ratio_of_channels_to_sample=0.1\n",
    "signal_to_channel_count_ratio = 0.5\n",
    "\"\"\"Difference between mean and guess? How can we use guess estimated voltage?\"\"\"\n",
    "\n",
    "\n",
    "\n",
    "\"\"\"For a number of BC, we get two lists: total_actual_signal_count and total_estimated_signal_count for each BC\"\"\"\n",
    "\n",
    "channel_count = nr_of_channels*ratio_of_channels_to_sample\n",
    "#avg_particles_reaching_detector = channel_count * signal_to_channel_count_ratio\n",
    "\n",
    "avg_particles_reaching_detector = expected_count #15000 for mu=200\n",
    "#Simulate the noise\n",
    "noise_gen = noise_generator(threshold, channel_count)\n",
    "#Simulate the signal\n",
    "signal_gen = signal_generator(threshold, real_signal_mu, guess_signal_mu)\n",
    "\n",
    "result_actual_signal_count = np.zeros(bunch_crossings)\n",
    "result_estimated_signal_count = np.zeros(bunch_crossings)\n",
    "error_estimation = 0\n",
    "signal_fraction_above = signal_gen.fraction_above\n",
    "\n",
    "for BC in range(bunch_crossing_count):\n",
    "    # both results are in small window, both results are noise above threshold\n",
    "    noise_exact, noise_est = noise_gen.generate()\n",
    "\n",
    "    # The paramater is the expected number of particles that reach the detector.\n",
    "    # The first return value is the number of particles that reached the detector and \n",
    "    # the second return value is the number of activated channels.\n",
    "    total_actual_signal, signal_above = signal_gen.generate(avg_particles_reaching_detector)\n",
    "\n",
    "    # from the total, estimate how much total signal there was\n",
    "    total_activations = signal_above + noise_exact  # total activations in small window (i.e. above threshold)\n",
    "    print(\"%d - Signal and Noise activated channels: %d\" %(BC+1, total_activations))\n",
    "    total_signal_est = (total_activations - noise_est)/signal_fraction_above\n",
    "    \n",
    "    \n",
    "    # assign the results\n",
    "    result_actual_signal_count[BC] = total_actual_signal #exact count in the small window\n",
    "    result_estimated_signal_count[BC] = total_signal_est #estimated count \n",
    "    print(\"Exact number of signal activated channels: %f\" %result_actual_signal_count[BC])\n",
    "    print(\"Estimated number of signal activated channels: %f\" %result_estimated_signal_count[BC])\n",
    "    error_estimation = 0\n",
    "    \n",
    "\"\"\"Get the total deviation from the total simulated signals vs the expected signals.\n",
    "        Returns both the total deviation as a positive number\"\"\"\n",
    "ra = result_actual_signal_count.sum()\n",
    "if ra == 0:\n",
    "    total_deviation = 0\n",
    "total_deviation = abs( result_estimated_signal_count.sum() / ra -1)\n",
    "total_deviation"
   ]
  },
  {
   "cell_type": "code",
   "execution_count": null,
   "id": "coated-words",
   "metadata": {},
   "outputs": [],
   "source": []
  }
 ],
 "metadata": {
  "kernelspec": {
   "display_name": "Python 3",
   "language": "python",
   "name": "python3"
  },
  "language_info": {
   "codemirror_mode": {
    "name": "ipython",
    "version": 3
   },
   "file_extension": ".py",
   "mimetype": "text/x-python",
   "name": "python",
   "nbconvert_exporter": "python",
   "pygments_lexer": "ipython3",
   "version": "3.8.5"
  }
 },
 "nbformat": 4,
 "nbformat_minor": 5
}
