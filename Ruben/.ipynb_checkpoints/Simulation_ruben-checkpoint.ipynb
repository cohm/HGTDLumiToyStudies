{
 "cells": [
  {
   "cell_type": "markdown",
   "id": "downtown-automation",
   "metadata": {},
   "source": [
    "# Toy MC for the ATLAS High Granularity Timing Detector"
   ]
  },
  {
   "cell_type": "code",
   "execution_count": 1,
   "id": "controlling-caution",
   "metadata": {},
   "outputs": [
    {
     "name": "stdout",
     "output_type": "stream",
     "text": [
      "Welcome to JupyROOT 6.22/08\n"
     ]
    }
   ],
   "source": [
    "import ROOT\n",
    "from ROOT import TCanvas, TGraph, gROOT\n",
    "import numpy as np\n",
    "import time\n",
    "import math\n",
    "import matplotlib.pyplot as plt\n",
    "import time "
   ]
  },
  {
   "cell_type": "markdown",
   "id": "dental-joint",
   "metadata": {},
   "source": [
    "### Constants"
   ]
  },
  {
   "cell_type": "code",
   "execution_count": 2,
   "id": "excellent-cylinder",
   "metadata": {},
   "outputs": [],
   "source": [
    "nr_of_channels = int(3.6 * 1e6)\n",
    "channels_per_module = int(15*30)\n",
    "total_modules = int(nr_of_channels/channels_per_module)\n",
    "global_counter = 0"
   ]
  },
  {
   "cell_type": "markdown",
   "id": "august-converter",
   "metadata": {},
   "source": [
    "### Noise Generator Class:\n",
    "This class takes in the parameters threshold and channel count (proportional to the number of interactions mu per bunch crossing) and calculates the mean number of channels activated by noise by calculating the probability mass that a part of the Gaussian distribution will be above the set average, and multiplies it with the total number of channels. The class has a function generate, which calculates a variation of the mean number of noise activated channels by drawing from a Poisson dist. with mean as parameter, and calculates how many of them are triggered during the small time window of 3.125ns (true value of them!) by drawing from a uniform dist. (0,1) for each number of noise activated channel and seeing how many are under 0.125 (3.125/25 = 0.125). Finally, it estimates the number of triggered channels in the small window by determining the number of channels triggered in one ns and multiplying by 3.125ns. This way, we have a true number of noise activated channels in the small window, and one that is estimated.\n",
    "\n",
    "try different big time windows , eg 4*3.125, lines 25-26. Change value of *big_window*"
   ]
  },
  {
   "cell_type": "code",
   "execution_count": 52,
   "id": "laughing-kidney",
   "metadata": {},
   "outputs": [],
   "source": [
    "class noise_generator:\n",
    "    def __init__(self, threshold, channel_count): \n",
    "        global global_counter\n",
    "        low = 0\n",
    "        high = 1000\n",
    "        noise = ROOT.TF1(\"noise_gauss\", \"TMath::Gaus(x, 0, 5)\", low, high)\n",
    "        \n",
    "        \"\"\"Why divide with 2?? Why do we need a avg. value?\"\"\"\n",
    "        #integrate normal dist. to get exact prob. above threshold and multiply with channel nr to get avg.\n",
    "        self._mean = channel_count * noise.Integral(threshold, high)/noise.Integral(low, high) \n",
    "        #self._prng = ROOT.TRandom3(time.time_ns())\n",
    "        global_counter += 1\n",
    "        self._prng = ROOT.TRandom3(int(time.time()) + global_counter)\n",
    "\n",
    "    def generate(self):\n",
    "        \"\"\"The first return value is the exact number of noise activated channels in the small window and\n",
    "            the second return value is the estimated number of noise activated channels in the small window. (estimated from large window)\n",
    "            (both results are in small window, both results are noise above threshold)\n",
    "            noise_exact, noise_est = noise.generate()\"\"\"\n",
    "        # Large time window 25ns\n",
    "        # Small time window 3.125ns\n",
    "        prng = self._prng\n",
    "        total = prng.Poisson(self._mean) # number of noise above threshold in large window in this run.\n",
    "        \n",
    "        narrow_exact = 0\n",
    "        big_window = 3*3.125\n",
    "        \n",
    "        #narrow_exact = (np.random.rand(total) < 0.125).sum()  # 3.125/25 = 0.125\n",
    "        #noise_per_time = (total - narrow_exact)/(25 - 3.125)\n",
    "        \n",
    "        narrow_exact = (np.random.rand(total) < 3.125/big_window).sum() # ex. 3.125/(3.125*4) big window of 4 times 3.125 \n",
    "        noise_per_time = (total - narrow_exact)/(big_window - 3.125)\n",
    "        \n",
    "        estimate = 3.125 * noise_per_time\n",
    "        return narrow_exact, estimate\n",
    "\n",
    "\n"
   ]
  },
  {
   "cell_type": "markdown",
   "id": "advanced-flower",
   "metadata": {},
   "source": [
    " ### Signal Generator Class:\n",
    " This class takes the input parametes threshold and the real and guessed most probable peak voltage of the signal distribution (100mV when the sensors are new). It calculates the fraction of the Landau distribution that will be above the set threshold. It has a function generate, which takes in the paramter expected_count, that is, the estimated number of particles that will reach the detector (for mu=200 it is around 15k), then it determines a possible number of hits on the detector by drawing from a Poisson distribution around that parameter. Finally, for each calculated hit, it determines how many channels were triggered by signal from a particle by sampling a Landau distribution and checking how many of them are above the threshold. It returns the number of particles hitting the detector, and the number of signal-activated channels."
   ]
  },
  {
   "cell_type": "code",
   "execution_count": 4,
   "id": "decreased-appliance",
   "metadata": {},
   "outputs": [],
   "source": [
    "class signal_generator:\n",
    "    def __init__(self, threshold, real_expected_voltage, guess_expected_voltage): # expected_voltage = expected peak voltage  (mu)\n",
    "        global global_counter\n",
    "        low = -100\n",
    "        high = 1000\n",
    "        self._threshold = threshold\n",
    "        self._expected_voltage = real_expected_voltage\n",
    "        signal_func = ROOT.TF1(\"sth\", \"TMath::Landau(x, %f, %f)\" % (guess_expected_voltage, guess_expected_voltage/4), low, high)\n",
    "        self.fraction_above = signal_func.Integral(threshold, high)/signal_func.Integral(low, high) #fraction of the function that is above threshold\n",
    "        #self._prng = ROOT.TRandom3(time.time_ns())\n",
    "        global_counter += 1\n",
    "        self._prng = ROOT.TRandom3(int(time.time()) + global_counter)\n",
    "    \n",
    "    def generate(self, expected_count):\n",
    "        \"\"\"The paramater is the expected number of particles that reach the detector.\n",
    "            The first return value is the number of particles that reached the detector and\n",
    "            the second return value is the number of activated channels.\n",
    "            signal_real_total, signal_above = signal.generate(30)\"\"\"\n",
    "        prng = self._prng\n",
    "        expected_voltage = self._expected_voltage\n",
    "        threshold = self._threshold\n",
    "        \n",
    "        signal_count = prng.Poisson(expected_count)\n",
    "        above_threshold_count = 0\n",
    "        sigma = expected_voltage/4\n",
    "        for i in range(signal_count):\n",
    "            if prng.Landau(expected_voltage, sigma) > threshold: # 1/4 is just the refernce 25/100\n",
    "                above_threshold_count += 1\n",
    "        return signal_count, above_threshold_count\n",
    "    "
   ]
  },
  {
   "cell_type": "markdown",
   "id": "damaged-marsh",
   "metadata": {},
   "source": [
    "## Simulation function\n"
   ]
  },
  {
   "cell_type": "code",
   "execution_count": 15,
   "id": "absent-coating",
   "metadata": {
    "scrolled": true
   },
   "outputs": [],
   "source": [
    "def simulation (nr_of_channels, ratio_of_channels_to_sample, expected_count, bunch_crossings, threshold, peak_mpv_voltage, guess_mpv_voltage):\n",
    "    \"\"\"For a number of BC, we get two lists: total_actual_signal_count and total_estimated_signal_count for each BC\"\"\"\n",
    "\n",
    "    channel_count = nr_of_channels*ratio_of_channels_to_sample\n",
    "    #avg_particles_reaching_detector = channel_count * signal_to_channel_count_ratio\n",
    "\n",
    "    #generate the noise\n",
    "    noise_gen = noise_generator(threshold, channel_count)\n",
    "    #generate the signal\n",
    "    signal_gen = signal_generator(threshold, peak_mpv_voltage, guess_mpv_voltage)\n",
    "\n",
    "    result_true_signal_count = np.zeros(bunch_crossings)\n",
    "    result_estimated_signal_count = np.zeros(bunch_crossings)\n",
    "    error_estimation = 0\n",
    "    signal_fraction_above = signal_gen.fraction_above\n",
    "\n",
    "    for BC in range(bunch_crossings):\n",
    "        # both results are in small window, both are noise above threshold\n",
    "        noise_exact, noise_est = noise_gen.generate()\n",
    "\n",
    "        # The paramater is the expected number of particles that reach the detector.\n",
    "        # The first return value is the number of particles that reached the detector and \n",
    "        # the second return value is the number of activated channels.\n",
    "        total_actual_signal, signal_above = signal_gen.generate(expected_count)\n",
    "\n",
    "        # from the total activations, estimate how much was produced by actual signal\n",
    "        total_activations = signal_above + noise_exact  # total activations in small window (i.e. above threshold)\n",
    "        #print(\"\\nBunch Crossing %d:\" %(BC+1))\n",
    "        #print(\"Signal- and noise-activated channels: %d\" %(total_activations))\n",
    "        #print (\"Noise-activated channels: %d\" %(noise_exact))\n",
    "        #total real activations minus estimation of signal, then divide with the prob. mass for Landau to be above threshold\n",
    "        total_signal_est = (total_activations - noise_est)/signal_fraction_above \n",
    "\n",
    "        # assign the results\n",
    "        result_true_signal_count[BC] = total_actual_signal #exact count in the small window\n",
    "        result_estimated_signal_count[BC] = total_signal_est #estimated count \n",
    "        #print(\"True number of signal-activated channels: %d\" %result_true_signal_count[BC])\n",
    "        #print(\"Estimated number of signal-activated channels: %f\" % result_estimated_signal_count[BC])\n",
    "        error_estimation = 0\n",
    "        \n",
    "    return result_true_signal_count, result_estimated_signal_count\n",
    "\n"
   ]
  },
  {
   "cell_type": "code",
   "execution_count": 28,
   "id": "spread-russia",
   "metadata": {},
   "outputs": [
    {
     "name": "stdout",
     "output_type": "stream",
     "text": [
      "Expected count: 15000.000000\n"
     ]
    }
   ],
   "source": [
    "\"\"\"Parameters for the simulation\"\"\"\n",
    "peak_mpv_voltage = 100 #mV, mpv: most probable value\n",
    "guess_mpv_voltage = 100 #mV\n",
    "mu = 200\n",
    "\"\"\"exp number of particles on detector proportional to mu, try also non-linear relationship as in christian's plot \"\"\"\n",
    "expected_count = (15*1e3/200)*mu #expected number of particles reaching the HGTD for mu=200, no more than 20k\n",
    "bunch_crossings = 50\n",
    "ratio_of_channels_to_sample = 0.5\n",
    "print(\"Expected count: %f\" %expected_count)"
   ]
  },
  {
   "cell_type": "markdown",
   "id": "periodic-accordance",
   "metadata": {},
   "source": [
    " ### Graphical estimation of best threshold with regards to deviation from the true signal"
   ]
  },
  {
   "cell_type": "code",
   "execution_count": 55,
   "id": "personal-division",
   "metadata": {},
   "outputs": [
    {
     "name": "stdout",
     "output_type": "stream",
     "text": [
      "Deviation for threshold 0.000000: 0.005450\n",
      "Deviation for threshold 3.333333: 0.005564\n",
      "Deviation for threshold 6.666667: 0.002645\n",
      "Deviation for threshold 10.000000: 0.000897\n",
      "Deviation for threshold 13.333333: 0.000314\n",
      "Deviation for threshold 16.666667: 0.000245\n",
      "Deviation for threshold 20.000000: 0.000013\n",
      "Deviation for threshold 23.333333: 0.000009\n",
      "Deviation for threshold 26.666667: 0.000006\n",
      "Deviation for threshold 30.000000: 0.000001\n",
      "Deviation for threshold 33.333333: 0.000023\n",
      "Deviation for threshold 36.666667: 0.000077\n",
      "Deviation for threshold 40.000000: 0.000167\n",
      "Deviation for threshold 43.333333: 0.000244\n",
      "Deviation for threshold 46.666667: 0.000194\n",
      "Deviation for threshold 50.000000: 0.000485\n",
      "Deviation for threshold 53.333333: 0.000869\n",
      "Deviation for threshold 56.666667: 0.000955\n",
      "Deviation for threshold 60.000000: 0.001351\n",
      "Deviation for threshold 63.333333: 0.001706\n",
      "Deviation for threshold 66.666667: 0.002163\n",
      "Deviation for threshold 70.000000: 0.003523\n",
      "Deviation for threshold 73.333333: 0.003377\n",
      "Deviation for threshold 76.666667: 0.004922\n",
      "Deviation for threshold 80.000000: 0.004990\n",
      "Deviation for threshold 83.333333: 0.006173\n",
      "Deviation for threshold 86.666667: 0.007157\n",
      "Deviation for threshold 90.000000: 0.008469\n",
      "Deviation for threshold 93.333333: 0.009518\n",
      "Deviation for threshold 96.666667: 0.011667\n",
      "Deviation for threshold 100.000000: 0.011894\n",
      "CPU time: 14.265804290771484 seconds\n"
     ]
    },
    {
     "name": "stderr",
     "output_type": "stream",
     "text": [
      "Warning in <TCanvas::Constructor>: Deleting canvas with same name: c1\n"
     ]
    },
    {
     "data": {
      "image/png": "[encoded data removed]",
      "text/plain": [
       "<IPython.core.display.Image object>"
      ]
     },
     "metadata": {},
     "output_type": "display_data"
    }
   ],
   "source": [
    "min_threshold = 0 #mV\n",
    "max_threshold = 100 #mV\n",
    "threshold_array = np.linspace(min_threshold,max_threshold,31)\n",
    "total_deviation= np.zeros(len(threshold_array))\n",
    "iteration = 0\n",
    "start_time = time.time()\n",
    "\n",
    "for threshold in threshold_array:\n",
    "    \n",
    "    true_signal, estimated_signal = simulation (nr_of_channels, ratio_of_channels_to_sample, expected_count, bunch_crossings, threshold, peak_mpv_voltage, guess_mpv_voltage)\n",
    "    \n",
    "    \"\"\"Get the total deviation from the total simulated signals vs the expected signals.\n",
    "        Returns both the total deviation as a positive number\"\"\"\n",
    "    true_signal_sum = true_signal.sum()\n",
    "    if true_signal_sum == 0:\n",
    "        deviation = 0\n",
    "    deviation = abs( estimated_signal.sum() / true_signal_sum -1)\n",
    "    total_deviation[iteration] = deviation\n",
    "    print(\"Deviation for threshold %f: %f\" %(threshold, total_deviation[iteration]))\n",
    "    iteration = iteration+1\n",
    "\n",
    "c1 = TCanvas( 'c1', 'Graph', 200, 10, 700, 500 )\n",
    "#c1.SetLogy()\n",
    "\n",
    "g = TGraph(len(threshold_array), threshold_array.astype(np.double),total_deviation.astype(np.double))\n",
    "g.SetTitle( \"#splitline{Deviation as a function of threshold, mu=%f, BC=%d, mpv_voltage=%d mV}{\\n large window 3 times the smaller}\"  %(mu, bunch_crossings, peak_mpv_voltage))\n",
    "g.GetXaxis().SetTitle( 'Threshold [mV]' )\n",
    "g.GetYaxis().SetTitle( 'Deviation' )\n",
    "g.GetYaxis().SetRange(0,10);\n",
    "g.SetLineColor(2)\n",
    "g.Draw(); \n",
    "c1.Draw()\n",
    "c1.Modified()\n",
    "c1.Update();\n",
    "print(\"CPU time: %s seconds\" % (time.time() - start_time))"
   ]
  },
  {
   "cell_type": "markdown",
   "id": "proved-atlanta",
   "metadata": {},
   "source": [
    "### Finer search for the best threshold: exact value"
   ]
  },
  {
   "cell_type": "code",
   "execution_count": 8,
   "id": "frozen-upgrade",
   "metadata": {
    "scrolled": true
   },
   "outputs": [
    {
     "name": "stdout",
     "output_type": "stream",
     "text": [
      "Deviation for threshold 20.000000: 0.268243\n",
      "Deviation for threshold 20.833333: 0.076790\n",
      "Deviation for threshold 21.666667: 0.094346\n",
      "Deviation for threshold 22.500000: 0.084437\n",
      "Deviation for threshold 23.333333: 0.050798\n",
      "Deviation for threshold 24.166667: 0.036079\n",
      "Deviation for threshold 25.000000: 0.004201\n",
      "Deviation for threshold 25.833333: 0.010481\n",
      "Deviation for threshold 26.666667: 0.008064\n",
      "Deviation for threshold 27.500000: 0.004292\n",
      "Deviation for threshold 28.333333: 0.002701\n",
      "Deviation for threshold 29.166667: 0.001493\n",
      "Deviation for threshold 30.000000: 0.000570\n",
      "Deviation for threshold 30.833333: 0.000752\n",
      "Deviation for threshold 31.666667: 0.000936\n",
      "Deviation for threshold 32.500000: 0.000719\n",
      "Deviation for threshold 33.333333: 0.001112\n",
      "Deviation for threshold 34.166667: 0.001035\n",
      "Deviation for threshold 35.000000: 0.000556\n",
      "Deviation for threshold 35.833333: 0.001612\n",
      "Deviation for threshold 36.666667: 0.000904\n",
      "Deviation for threshold 37.500000: 0.001653\n",
      "Deviation for threshold 38.333333: 0.000747\n",
      "Deviation for threshold 39.166667: 0.001343\n",
      "Deviation for threshold 40.000000: 0.001054\n",
      "Deviation for threshold 40.833333: 0.002455\n",
      "Deviation for threshold 41.666667: 0.002897\n",
      "Deviation for threshold 42.500000: 0.003171\n",
      "Deviation for threshold 43.333333: 0.003314\n",
      "Deviation for threshold 44.166667: 0.002309\n",
      "Deviation for threshold 45.000000: 0.004107\n",
      "indexes:\n",
      "[18]\n",
      "best threshold: 35.000000\n",
      "CPU time: 1.521169662475586 seconds\n"
     ]
    },
    {
     "data": {
      "image/png": "[encoded data removed]",
      "text/plain": [
       "<Figure size 432x288 with 1 Axes>"
      ]
     },
     "metadata": {
      "needs_background": "light"
     },
     "output_type": "display_data"
    }
   ],
   "source": [
    "min_threshold = 25#mV\n",
    "max_threshold = 45#mV\n",
    "threshold_array = np.linspace(min_threshold,max_threshold,1)\n",
    "total_deviation= np.zeros(len(threshold_array))\n",
    "nr_of_simulations = 5\n",
    "iteration = 0\n",
    "start_time = time.time()\n",
    "\n",
    "for threshold in threshold_array:   \n",
    "    deviation_avg = np.zeros(nr_of_simulations)\n",
    "    \n",
    "    for i in range (nr_of_simulations):\n",
    "        true_signal, estimated_signal = simulation(nr_of_channels, ratio_of_channels_to_sample, expected_count, bunch_crossings, threshold, peak_mpv_voltage, guess_mpv_voltage)\n",
    "\n",
    "        \"\"\"Get the total deviation from the total simulated signals vs the expected signals.\n",
    "            Returns both the total deviation as a positive number\"\"\"\n",
    "        true_signal_sum = true_signal.sum()\n",
    "        if true_signal_sum == 0:\n",
    "            deviation = 0\n",
    "        deviation = abs( estimated_signal.sum() / true_signal_sum -1)\n",
    "        deviation_avg[i] = deviation\n",
    "    \n",
    "    deviation_avg = deviation_avg.sum()/nr_of_simulations\n",
    "    total_deviation[iteration] = deviation_avg\n",
    "    print(\"Deviation for threshold %f: %f\" %(threshold, total_deviation[iteration]))\n",
    "    iteration = iteration+1    \n",
    "\n",
    "plt.scatter(threshold_array, total_deviation, marker = \"+\")\n",
    "plt.yscale(\"log\")\n",
    "plt.xlabel(\"Threshold [mV]\")\n",
    "plt.ylabel(\"Deviation\")\n",
    "plt.title ('Deviation as a function of threshold, mu=%f \\n BC=%d, mpv_voltage=%d mV, %d simulations' %(mu, bunch_crossings, peak_mpv_voltage, nr_of_simulations))\n",
    "\n",
    "best_threshold_index = [i for i, x in enumerate(total_deviation) if x == min(total_deviation)]\n",
    "print (\"indexes:\")\n",
    "print(best_threshold_index)\n",
    "if len(best_threshold_index)==1:\n",
    "    print(\"best threshold: %f\" %(threshold_array[best_threshold_index]))\n",
    "print(\"CPU time: %s seconds\" % (time.time() - start_time))"
   ]
  },
  {
   "cell_type": "markdown",
   "id": "cognitive-classics",
   "metadata": {},
   "source": [
    "### Study which threshold is best: with SNR or the signal deviation from true values? \n"
   ]
  },
  {
   "cell_type": "code",
   "execution_count": null,
   "id": "worse-pound",
   "metadata": {},
   "outputs": [],
   "source": [
    "\"\"\"Ratio between real signal and real noise? Or between estimated signal and noise?\"\"\"\n",
    "\n"
   ]
  },
  {
   "cell_type": "markdown",
   "id": "married-display",
   "metadata": {},
   "source": [
    "snr = 20 in the beginning\n",
    "snr = 5 later \n",
    "\n",
    "large time window multiple of 3.125\n",
    "\n",
    "todo later: check non-linear approximation of nr of particles vs mu \n",
    "\n"
   ]
  }
 ],
 "metadata": {
  "kernelspec": {
   "display_name": "Python 3",
   "language": "python",
   "name": "python3"
  },
  "language_info": {
   "codemirror_mode": {
    "name": "ipython",
    "version": 3
   },
   "file_extension": ".py",
   "mimetype": "text/x-python",
   "name": "python",
   "nbconvert_exporter": "python",
   "pygments_lexer": "ipython3",
   "version": "3.8.5"
  }
 },
 "nbformat": 4,
 "nbformat_minor": 5
}
