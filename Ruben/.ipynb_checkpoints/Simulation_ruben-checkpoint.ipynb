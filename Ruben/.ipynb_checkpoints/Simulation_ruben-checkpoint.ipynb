{
 "cells": [
  {
   "cell_type": "markdown",
   "id": "downtown-automation",
   "metadata": {},
   "source": [
    "# Toy MC for the ATLAS High Granularity Timing Detector"
   ]
  },
  {
   "cell_type": "code",
   "execution_count": 1,
   "id": "controlling-caution",
   "metadata": {},
   "outputs": [
    {
     "name": "stdout",
     "output_type": "stream",
     "text": [
      "Welcome to JupyROOT 6.22/08\n"
     ]
    }
   ],
   "source": [
    "import ROOT\n",
    "from ROOT import TCanvas, TGraph, gROOT\n",
    "import numpy as np\n",
    "import time\n",
    "import math\n",
    "import matplotlib.pyplot as plt\n",
    "import time "
   ]
  },
  {
   "cell_type": "markdown",
   "id": "dental-joint",
   "metadata": {},
   "source": [
    "### Constants"
   ]
  },
  {
   "cell_type": "code",
   "execution_count": 2,
   "id": "excellent-cylinder",
   "metadata": {},
   "outputs": [],
   "source": [
    "nr_of_channels = int(3.6 * 1e6)\n",
    "channels_per_module = int(15*30)\n",
    "total_modules = int(nr_of_channels/channels_per_module)\n",
    "global_counter = 0\n"
   ]
  },
  {
   "cell_type": "markdown",
   "id": "august-converter",
   "metadata": {},
   "source": [
    "### Noise Generator Class:\n",
    "This class takes in the parameters threshold and channel count (proportional to the number of interactions mu per bunch crossing) and calculates the mean number of channels activated by noise by calculating the probability mass that a part of the Gaussian distribution will be above the set average, and multiplies it with the total number of channels. The class has a function generate, which calculates a variation of the mean number of noise activated channels by drawing from a Poisson dist. with mean as parameter, and calculates how many of them are triggered during the small time window of 3.125ns (true value of them!) by drawing from a uniform dist. (0,1) for each number of noise activated channel and seeing how many are under 0.125 (3.125/25 = 0.125). Finally, it estimates the number of triggered channels in the small window by determining the number of channels triggered in one ns and multiplying by 3.125ns. This way, we have a true number of noise activated channels in the small window, and one that is estimated."
   ]
  },
  {
   "cell_type": "code",
   "execution_count": 3,
   "id": "laughing-kidney",
   "metadata": {},
   "outputs": [],
   "source": [
    "class noise_generator:\n",
    "    def __init__(self, threshold, channel_count): \n",
    "        global global_counter\n",
    "        low = 0\n",
    "        high = 1000\n",
    "        noise = ROOT.TF1(\"noise_gauss\", \"TMath::Gaus(x, 0, 5)\", low, high)\n",
    "        \n",
    "        \"\"\"Why divide with 2?? Why do we need a avg. value?\"\"\"\n",
    "        #integrate normal dist. to get exact prob. above threshold and multiply with channel nr to get avg.\n",
    "        self._mean = channel_count * noise.Integral(threshold, high)/noise.Integral(low, high) \n",
    "        #self._prng = ROOT.TRandom3(time.time_ns())\n",
    "        global_counter += 1\n",
    "        self._prng = ROOT.TRandom3(int(time.time()) + global_counter)\n",
    "\n",
    "    def generate(self):\n",
    "        \"\"\"The first return value is the exact number of noise activated channels in the small window and\n",
    "            the second return value is the estimated number of noise activated channels in the small window. (estimated from large window)\n",
    "            (both results are in small window, both results are noise above threshold)\n",
    "            noise_exact, noise_est = noise.generate()\"\"\"\n",
    "        # Large time window 25ns\n",
    "        # Small time window 3.125ns\n",
    "        prng = self._prng\n",
    "        total = prng.Poisson(self._mean) # number of noise above threshold in large window in this run.\n",
    "        narrow_exact = 0\n",
    "        narrow_exact = (np.random.rand(total) < 0.125).sum()  # 3.125/25 = 0.125\n",
    "        \n",
    "        noise_per_time = (total - narrow_exact)/(25 - 3.125)\n",
    "        estimate = 3.125 * noise_per_time\n",
    "        return narrow_exact, estimate\n",
    "\n",
    "\n"
   ]
  },
  {
   "cell_type": "markdown",
   "id": "advanced-flower",
   "metadata": {},
   "source": [
    " ### Signal Generator Class:\n",
    " This class takes the input parametes threshold and the real and guessed most probable peak voltage of the signal distribution (100mV when the sensors are new). It calculates the fraction of the Landau distribution that will be above the set threshold. It has a function generate, which takes in the paramter expected_count, that is, the estimated number of particles that will reach the detector (for mu=200 it is around 15k), then it determines a possible number of hits on the detector by drawing from a Poisson distribution around that parameter. Finally, for each calculated hit, it determines how many channels were triggered by signal from a particle by sampling a Landau distribution and checking how many of them are above the threshold. It returns the number of particles hitting the detector, and the number of signal-activated channels."
   ]
  },
  {
   "cell_type": "code",
   "execution_count": 4,
   "id": "decreased-appliance",
   "metadata": {},
   "outputs": [],
   "source": [
    "class signal_generator:\n",
    "    def __init__(self, threshold, real_expected_voltage, guess_expected_voltage): # expected_voltage = expected peak voltage  (mu)\n",
    "        global global_counter\n",
    "        low = -100\n",
    "        high = 1000\n",
    "        self._threshold = threshold\n",
    "        self._expected_voltage = real_expected_voltage\n",
    "        signal_func = ROOT.TF1(\"sth\", \"TMath::Landau(x, %f, %f)\" % (guess_expected_voltage, guess_expected_voltage/4), low, high)\n",
    "        self.fraction_above = signal_func.Integral(threshold, high)/signal_func.Integral(low, high) #fraction of the function that is above threshold\n",
    "        #self._prng = ROOT.TRandom3(time.time_ns())\n",
    "        global_counter += 1\n",
    "        self._prng = ROOT.TRandom3(int(time.time()) + global_counter)\n",
    "    \n",
    "    def generate(self, expected_count):\n",
    "        \"\"\"The paramater is the expected number of particles that reach the detector.\n",
    "            The first return value is the number of particles that reached the detector and\n",
    "            the second return value is the number of activated channels.\n",
    "            signal_real_total, signal_above = signal.generate(30)\"\"\"\n",
    "        prng = self._prng\n",
    "        expected_voltage = self._expected_voltage\n",
    "        threshold = self._threshold\n",
    "        \n",
    "        signal_count = prng.Poisson(expected_count)\n",
    "        above_threshold_count = 0\n",
    "        sigma = expected_voltage/4\n",
    "        for i in range(signal_count):\n",
    "            if prng.Landau(expected_voltage, sigma) > threshold: # 1/4 is just the refernce 25/100\n",
    "                above_threshold_count += 1\n",
    "        return signal_count, above_threshold_count\n",
    "    "
   ]
  },
  {
   "cell_type": "markdown",
   "id": "damaged-marsh",
   "metadata": {},
   "source": [
    "## Simulation function\n"
   ]
  },
  {
   "cell_type": "code",
   "execution_count": 5,
   "id": "absent-coating",
   "metadata": {
    "scrolled": true
   },
   "outputs": [],
   "source": [
    "def simulation (nr_of_channels, ratio_of_channels_to_sample, expected_count, bunch_crossings, threshold, peak_mpv_voltage, guess_mpv_voltage):\n",
    "    \"\"\"For a number of BC, we get two lists: total_actual_signal_count and total_estimated_signal_count for each BC\"\"\"\n",
    "\n",
    "    channel_count = nr_of_channels*ratio_of_channels_to_sample\n",
    "    #avg_particles_reaching_detector = channel_count * signal_to_channel_count_ratio\n",
    "\n",
    "    avg_particles_reaching_detector = expected_count #15000 for mu=200\n",
    "\n",
    "    #generate the signal\n",
    "    signal_gen = signal_generator(threshold, peak_mpv_voltage, guess_mpv_voltage)\n",
    "\n",
    "    result_true_signal_count = np.zeros(bunch_crossings)\n",
    "    result_estimated_signal_count = np.zeros(bunch_crossings)\n",
    "    error_estimation = 0\n",
    "    signal_fraction_above = signal_gen.fraction_above\n",
    "\n",
    "    for BC in range(bunch_crossings):\n",
    "        # both results are in small window, both are noise above threshold\n",
    "        noise_exact, noise_est = noise_gen.generate()\n",
    "\n",
    "        # The paramater is the expected number of particles that reach the detector.\n",
    "        # The first return value is the number of particles that reached the detector and \n",
    "        # the second return value is the number of activated channels.\n",
    "        total_actual_signal, signal_above = signal_gen.generate(avg_particles_reaching_detector)\n",
    "\n",
    "        # from the total activations, estimate how much was produced by actual signal\n",
    "        total_activations = signal_above + noise_exact  # total activations in small window (i.e. above threshold)\n",
    "        #print(\"\\nBunch Crossing %d:\" %(BC+1))\n",
    "        #print(\"Signal- and noise-activated channels: %d\" %(total_activations))\n",
    "        #print (\"Noise-activated channels: %d\" %(noise_exact))\n",
    "        #total real activations minus estimation of signal, then divide with the prob. mass for Landau to be above threshold\n",
    "        total_signal_est = (total_activations - noise_est)/signal_fraction_above \n",
    "\n",
    "        # assign the results\n",
    "        result_true_signal_count[BC] = total_actual_signal #exact count in the small window\n",
    "        result_estimated_signal_count[BC] = total_signal_est #estimated count \n",
    "        #print(\"True number of signal-activated channels: %d\" %result_true_signal_count[BC])\n",
    "        #print(\"Estimated number of signal-activated channels: %f\" % result_estimated_signal_count[BC])\n",
    "        error_estimation = 0\n",
    "        \n",
    "    return result_true_signal_count, result_estimated_signal_count\n",
    "\n"
   ]
  },
  {
   "cell_type": "code",
   "execution_count": 11,
   "id": "spread-russia",
   "metadata": {},
   "outputs": [
    {
     "name": "stdout",
     "output_type": "stream",
     "text": [
      "Expected count: 15000.000000\n"
     ]
    }
   ],
   "source": [
    "\"\"\"Parameters for the simulation\"\"\"\n",
    "#threshold = 20 #mV\n",
    "peak_mpv_voltage = 100 #mV, mpv: most probable value\n",
    "guess_mpv_voltage = 100 #mV\n",
    "mu = 200\n",
    "\"\"\"exp number of particles on detector proportional to mu, try also non-linear relationship as in christian's plot \"\"\"\n",
    "expected_count = (15*1e3/200)*mu #expected number of particles reaching the HGTD for mu=200, no more than 20k\n",
    "bunch_crossings = 50\n",
    "ratio_of_channels_to_sample = 0.5\n",
    "print(\"Expected count: %f\" %expected_count)"
   ]
  },
  {
   "cell_type": "markdown",
   "id": "periodic-accordance",
   "metadata": {},
   "source": [
    " ### Graphical estimation of best threshold with regards to deviation from the true signal"
   ]
  },
  {
   "cell_type": "code",
   "execution_count": 13,
   "id": "auburn-comparison",
   "metadata": {
    "scrolled": true
   },
   "outputs": [
    {
     "name": "stdout",
     "output_type": "stream",
     "text": [
      "Deviation for threshold 0.000000: 0.005923\n",
      "Deviation for threshold 1.020408: 0.001832\n",
      "Deviation for threshold 2.040816: 0.001316\n",
      "Deviation for threshold 3.061224: 0.003100\n",
      "Deviation for threshold 4.081633: 0.007112\n",
      "Deviation for threshold 5.102041: 0.000100\n",
      "Deviation for threshold 6.122449: 0.002105\n",
      "Deviation for threshold 7.142857: 0.001789\n",
      "Deviation for threshold 8.163265: 0.001073\n",
      "Deviation for threshold 9.183673: 0.000693\n",
      "Deviation for threshold 10.204082: 0.000399\n",
      "Deviation for threshold 11.224490: 0.000023\n",
      "Deviation for threshold 12.244898: 0.000335\n",
      "Deviation for threshold 13.265306: 0.000569\n",
      "Deviation for threshold 14.285714: 0.000113\n",
      "Deviation for threshold 15.306122: 0.000214\n",
      "Deviation for threshold 16.326531: 0.000048\n",
      "Deviation for threshold 17.346939: 0.000188\n",
      "Deviation for threshold 18.367347: 0.000053\n",
      "Deviation for threshold 19.387755: 0.000029\n",
      "Deviation for threshold 20.408163: 0.000021\n",
      "Deviation for threshold 21.428571: 0.000000\n",
      "Deviation for threshold 22.448980: 0.000021\n",
      "Deviation for threshold 23.469388: 0.000003\n",
      "Deviation for threshold 24.489796: 0.000010\n",
      "Deviation for threshold 25.510204: 0.000013\n",
      "Deviation for threshold 26.530612: 0.000022\n",
      "Deviation for threshold 27.551020: 0.000007\n",
      "Deviation for threshold 28.571429: 0.000003\n",
      "Deviation for threshold 29.591837: 0.000012\n",
      "Deviation for threshold 30.612245: 0.000014\n",
      "Deviation for threshold 31.632653: 0.000007\n",
      "Deviation for threshold 32.653061: 0.000002\n",
      "Deviation for threshold 33.673469: 0.000053\n",
      "Deviation for threshold 34.693878: 0.000006\n",
      "Deviation for threshold 35.714286: 0.000067\n",
      "Deviation for threshold 36.734694: 0.000008\n",
      "Deviation for threshold 37.755102: 0.000077\n",
      "Deviation for threshold 38.775510: 0.000196\n",
      "Deviation for threshold 39.795918: 0.000036\n",
      "Deviation for threshold 40.816327: 0.000190\n",
      "Deviation for threshold 41.836735: 0.000231\n",
      "Deviation for threshold 42.857143: 0.000219\n",
      "Deviation for threshold 43.877551: 0.000011\n",
      "Deviation for threshold 44.897959: 0.000291\n",
      "Deviation for threshold 45.918367: 0.000136\n",
      "Deviation for threshold 46.938776: 0.000432\n",
      "Deviation for threshold 47.959184: 0.000351\n",
      "Deviation for threshold 48.979592: 0.000350\n",
      "Deviation for threshold 50.000000: 0.000505\n",
      "Deviation for threshold 51.020408: 0.000183\n",
      "Deviation for threshold 52.040816: 0.000474\n",
      "Deviation for threshold 53.061224: 0.000878\n",
      "Deviation for threshold 54.081633: 0.000369\n",
      "Deviation for threshold 55.102041: 0.000538\n",
      "Deviation for threshold 56.122449: 0.000865\n",
      "Deviation for threshold 57.142857: 0.001007\n",
      "Deviation for threshold 58.163265: 0.001127\n",
      "Deviation for threshold 59.183673: 0.001334\n",
      "Deviation for threshold 60.204082: 0.001441\n",
      "Deviation for threshold 61.224490: 0.001587\n",
      "Deviation for threshold 62.244898: 0.001807\n",
      "Deviation for threshold 63.265306: 0.001564\n",
      "Deviation for threshold 64.285714: 0.001341\n",
      "Deviation for threshold 65.306122: 0.002229\n",
      "Deviation for threshold 66.326531: 0.002109\n",
      "Deviation for threshold 67.346939: 0.002079\n",
      "Deviation for threshold 68.367347: 0.002279\n",
      "Deviation for threshold 69.387755: 0.003126\n",
      "Deviation for threshold 70.408163: 0.002031\n",
      "Deviation for threshold 71.428571: 0.002604\n",
      "Deviation for threshold 72.448980: 0.002800\n",
      "Deviation for threshold 73.469388: 0.003748\n",
      "Deviation for threshold 74.489796: 0.002990\n",
      "Deviation for threshold 75.510204: 0.004039\n",
      "Deviation for threshold 76.530612: 0.004723\n",
      "Deviation for threshold 77.551020: 0.004179\n",
      "Deviation for threshold 78.571429: 0.005042\n",
      "Deviation for threshold 79.591837: 0.005093\n",
      "Deviation for threshold 80.612245: 0.005231\n",
      "Deviation for threshold 81.632653: 0.005683\n",
      "Deviation for threshold 82.653061: 0.005415\n",
      "Deviation for threshold 83.673469: 0.006166\n",
      "Deviation for threshold 84.693878: 0.005703\n",
      "Deviation for threshold 85.714286: 0.006654\n",
      "Deviation for threshold 86.734694: 0.008829\n",
      "Deviation for threshold 87.755102: 0.008262\n",
      "Deviation for threshold 88.775510: 0.007887\n",
      "Deviation for threshold 89.795918: 0.007766\n",
      "Deviation for threshold 90.816327: 0.008629\n",
      "Deviation for threshold 91.836735: 0.008692\n",
      "Deviation for threshold 92.857143: 0.009259\n",
      "Deviation for threshold 93.877551: 0.010026\n",
      "Deviation for threshold 94.897959: 0.010265\n",
      "Deviation for threshold 95.918367: 0.011539\n",
      "Deviation for threshold 96.938776: 0.010266\n",
      "Deviation for threshold 97.959184: 0.012985\n",
      "Deviation for threshold 98.979592: 0.012278\n",
      "Deviation for threshold 100.000000: 0.014278\n"
     ]
    },
    {
     "name": "stderr",
     "output_type": "stream",
     "text": [
      "Warning in <TCanvas::Constructor>: Deleting canvas with same name: c1\n"
     ]
    },
    {
     "data": {
      "image/png": "[encoded data removed]",
      "text/plain": [
       "<IPython.core.display.Image object>"
      ]
     },
     "metadata": {},
     "output_type": "display_data"
    }
   ],
   "source": [
    "min_threshold = 0 #mV\n",
    "max_threshold = 100 #mV\n",
    "threshold_array = np.linspace(min_threshold,max_threshold,99)\n",
    "total_deviation= np.zeros(len(threshold_array))\n",
    "iteration = 0\n",
    "start_time = time.time()\n",
    "\n",
    "for threshold in threshold_array:\n",
    "    \n",
    "    true_signal, estimated_signal = simulation (nr_of_channels, ratio_of_channels_to_sample, expected_count, bunch_crossings, threshold, peak_mpv_voltage, guess_mpv_voltage)\n",
    "    \n",
    "    \"\"\"Get the total deviation from the total simulated signals vs the expected signals.\n",
    "        Returns both the total deviation as a positive number\"\"\"\n",
    "    true_signal_sum = true_signal.sum()\n",
    "    if true_signal_sum == 0:\n",
    "        deviation = 0\n",
    "    deviation = abs( estimated_signal.sum() / true_signal_sum -1)\n",
    "    total_deviation[iteration] = deviation\n",
    "    print(\"Deviation for threshold %f: %f\" %(threshold, total_deviation[iteration]))\n",
    "    iteration = iteration+1\n",
    "\n",
    "c1 = TCanvas( 'c1', 'Graph', 200, 10, 700, 500 )\n",
    "#c1.SetLogy()\n",
    "\n",
    "g = TGraph(len(threshold_array), threshold_array.astype(np.double),total_deviation.astype(np.double))\n",
    "g.SetTitle( 'Deviation as a function of threshold, mu=%f, BC=%d, mpv_voltage=%d mV' %(mu, bunch_crossings, peak_mpv_voltage))\n",
    "g.GetXaxis().SetTitle( 'Threshold [mV]' )\n",
    "g.GetYaxis().SetTitle( 'Deviation' )\n",
    "g.GetYaxis().SetRange(0,10);\n",
    "g.SetLineColor(2)\n",
    "g.Draw(); \n",
    "c1.Draw()\n",
    "c1.Modified()\n",
    "c1.Update();\n",
    "print(\"CPU time: %s seconds\" % (time.time() - start_time))\n"
   ]
  },
  {
   "cell_type": "markdown",
   "id": "proved-atlanta",
   "metadata": {},
   "source": [
    "### Finer search for the best threshold: exact value"
   ]
  },
  {
   "cell_type": "code",
   "execution_count": 14,
   "id": "frozen-upgrade",
   "metadata": {},
   "outputs": [
    {
     "name": "stdout",
     "output_type": "stream",
     "text": [
      "Deviation for threshold 20.000000: 0.000032\n",
      "Deviation for threshold 20.333333: 0.000040\n",
      "Deviation for threshold 20.666667: 0.000008\n",
      "Deviation for threshold 21.000000: 0.000014\n",
      "Deviation for threshold 21.333333: 0.000017\n",
      "Deviation for threshold 21.666667: 0.000015\n",
      "Deviation for threshold 22.000000: 0.000022\n",
      "Deviation for threshold 22.333333: 0.000006\n",
      "Deviation for threshold 22.666667: 0.000016\n",
      "Deviation for threshold 23.000000: 0.000008\n",
      "Deviation for threshold 23.333333: 0.000008\n",
      "Deviation for threshold 23.666667: 0.000007\n",
      "Deviation for threshold 24.000000: 0.000006\n",
      "Deviation for threshold 24.333333: 0.000011\n",
      "Deviation for threshold 24.666667: 0.000010\n",
      "Deviation for threshold 25.000000: 0.000007\n",
      "Deviation for threshold 25.333333: 0.000011\n",
      "Deviation for threshold 25.666667: 0.000012\n",
      "Deviation for threshold 26.000000: 0.000012\n",
      "Deviation for threshold 26.333333: 0.000013\n",
      "Deviation for threshold 26.666667: 0.000007\n",
      "Deviation for threshold 27.000000: 0.000015\n",
      "Deviation for threshold 27.333333: 0.000014\n",
      "Deviation for threshold 27.666667: 0.000015\n",
      "Deviation for threshold 28.000000: 0.000013\n",
      "Deviation for threshold 28.333333: 0.000014\n",
      "Deviation for threshold 28.666667: 0.000024\n",
      "Deviation for threshold 29.000000: 0.000016\n",
      "Deviation for threshold 29.333333: 0.000015\n",
      "Deviation for threshold 29.666667: 0.000012\n",
      "Deviation for threshold 30.000000: 0.000019\n",
      "[3.23404411e-05 4.01213298e-05 7.92901728e-06 1.43849493e-05\n",
      " 1.71935162e-05 1.53437755e-05 2.18275082e-05 6.48409077e-06\n",
      " 1.61595877e-05 7.55400208e-06 8.13969003e-06 6.65870784e-06\n",
      " 6.20655464e-06 1.12523107e-05 9.99524009e-06 6.59260368e-06\n",
      " 1.14651717e-05 1.18328261e-05 1.23948289e-05 1.26522127e-05\n",
      " 7.38936589e-06 1.47176674e-05 1.39295840e-05 1.54506464e-05\n",
      " 1.29392628e-05 1.36979138e-05 2.41276425e-05 1.63321173e-05\n",
      " 1.49199583e-05 1.17322722e-05 1.90872264e-05]\n",
      "indexes:\n",
      "[12]\n",
      "best threshold: 24.000000\n"
     ]
    },
    {
     "data": {
      "image/png": "[encoded data removed]",
      "text/plain": [
       "<Figure size 432x288 with 1 Axes>"
      ]
     },
     "metadata": {
      "needs_background": "light"
     },
     "output_type": "display_data"
    }
   ],
   "source": [
    "min_threshold = 20#mV\n",
    "max_threshold = 30#mV\n",
    "threshold_array = np.linspace(min_threshold,max_threshold,31)\n",
    "total_deviation= np.zeros(len(threshold_array))\n",
    "nr_of_simulations = 5\n",
    "iteration = 0\n",
    "start_time = time.time()\n",
    "\n",
    "for threshold in threshold_array:   \n",
    "    deviation_avg = np.zeros(nr_of_simulations)\n",
    "    \n",
    "    for i in range (nr_of_simulations):\n",
    "        true_signal, estimated_signal = simulation(nr_of_channels, ratio_of_channels_to_sample, expected_count, bunch_crossings, threshold, peak_mpv_voltage, guess_mpv_voltage)\n",
    "\n",
    "        \"\"\"Get the total deviation from the total simulated signals vs the expected signals.\n",
    "            Returns both the total deviation as a positive number\"\"\"\n",
    "        true_signal_sum = true_signal.sum()\n",
    "        if true_signal_sum == 0:\n",
    "            deviation = 0\n",
    "        deviation = abs( estimated_signal.sum() / true_signal_sum -1)\n",
    "        deviation_avg[i] = deviation\n",
    "    \n",
    "    deviation_avg = deviation_avg.sum()/nr_of_simulations\n",
    "    total_deviation[iteration] = deviation_avg\n",
    "    print(\"Deviation for threshold %f: %f\" %(threshold, total_deviation[iteration]))\n",
    "    iteration = iteration+1    \n",
    "\n",
    "print(total_deviation)\n",
    "plt.scatter(threshold_array, total_deviation, marker = \"+\")\n",
    "plt.yscale(\"log\")\n",
    "plt.xlabel(\"Threshold [mV]\")\n",
    "plt.ylabel(\"Deviation\")\n",
    "plt.title (\"Deviation as a function of threshold, mu=200, BC=50, mpv_voltage=100mV\")\n",
    "\n",
    "best_threshold_index = [i for i, x in enumerate(total_deviation) if x == min(total_deviation)]\n",
    "print (\"indexes:\")\n",
    "print(best_threshold_index)\n",
    "if len(best_threshold_index)==1:\n",
    "    print(\"best threshold: %f\" %(threshold_array[best_threshold_index]))\n",
    "print(\"CPU time: %s seconds\" % (time.time() - start_time))"
   ]
  },
  {
   "cell_type": "markdown",
   "id": "cognitive-classics",
   "metadata": {},
   "source": [
    "### Study which threshold is best: with SNR or the signal deviation from true values? \n"
   ]
  },
  {
   "cell_type": "code",
   "execution_count": 9,
   "id": "worse-pound",
   "metadata": {},
   "outputs": [
    {
     "data": {
      "text/plain": [
       "'Ratio between real signal and real noise? Or between estimated signal and noise?'"
      ]
     },
     "execution_count": 9,
     "metadata": {},
     "output_type": "execute_result"
    }
   ],
   "source": [
    "\"\"\"Ratio between real signal and real noise? Or between estimated signal and noise?\"\"\"\n",
    "\n"
   ]
  },
  {
   "cell_type": "markdown",
   "id": "married-display",
   "metadata": {},
   "source": [
    "snr = 20 in the beginning\n",
    "snr = 5 later \n",
    "\n",
    "large time window multiple of 3.125\n",
    "\n",
    "todo later: check non-linear approximation of nr of particles vs mu \n",
    "\n"
   ]
  }
 ],
 "metadata": {
  "kernelspec": {
   "display_name": "Python 3",
   "language": "python",
   "name": "python3"
  },
  "language_info": {
   "codemirror_mode": {
    "name": "ipython",
    "version": 3
   },
   "file_extension": ".py",
   "mimetype": "text/x-python",
   "name": "python",
   "nbconvert_exporter": "python",
   "pygments_lexer": "ipython3",
   "version": "3.8.5"
  }
 },
 "nbformat": 4,
 "nbformat_minor": 5
}
